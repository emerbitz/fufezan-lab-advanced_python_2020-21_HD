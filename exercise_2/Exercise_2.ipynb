{
 "cells": [
  {
   "cell_type": "code",
   "execution_count": 1,
   "metadata": {},
   "outputs": [],
   "source": [
    "from collections import Counter\n",
    "import matplotlib.pyplot as plt \n",
    "import pandas as pd\n",
    "import seaborn as sns"
   ]
  },
  {
   "cell_type": "code",
   "execution_count": 2,
   "metadata": {
    "pycharm": {
     "is_executing": true,
     "name": "#%%\n"
    }
   },
   "outputs": [],
   "source": [
    "with open('data/Homo_sapiens.fasta', 'r') as fasta_file:\n",
    "    amino_acid_seq = ''\n",
    "    for line in fasta_file:\n",
    "        if not line.startswith('>'):\n",
    "            amino_acid_seq += line.strip()\n",
    "\n",
    "amino_acid_count = dict(Counter(amino_acid_seq))"
   ]
  },
  {
   "cell_type": "code",
   "execution_count": 3,
   "metadata": {
    "pycharm": {
     "is_executing": true,
     "name": "#%%\n"
    }
   },
   "outputs": [
    {
     "data": {
      "image/png": "[encoded data removed]",
      "text/plain": [
       "<Figure size 432x288 with 1 Axes>"
      ]
     },
     "metadata": {
      "needs_background": "light"
     },
     "output_type": "display_data"
    }
   ],
   "source": [
    "amino_acid_count_df = pd.DataFrame({key: [val] for key, val in amino_acid_count.items()})\n",
    "\n",
    "graph = plt.figure()\n",
    "plt.xlabel('Amino acides', size=11)\n",
    "plt.ylabel('Counts', size=11)\n",
    "plt.title('Homo sapiens', size=12)\n",
    "sns.barplot(data=amino_acid_count_df)\n",
    "graph.savefig('Homo_sapiens.pdf')\n",
    "\n",
    "amino_acid_count_df.to_csv('Homo_sapiens.csv')"
   ]
  }
 ],
 "metadata": {
  "kernelspec": {
   "display_name": "Python 3",
   "language": "python",
   "name": "python3"
  },
  "language_info": {
   "codemirror_mode": {
    "name": "ipython",
    "version": 3
   },
   "file_extension": ".py",
   "mimetype": "text/x-python",
   "name": "python",
   "nbconvert_exporter": "python",
   "pygments_lexer": "ipython3",
   "version": "3.7.4"
  }
 },
 "nbformat": 4,
 "nbformat_minor": 1
}