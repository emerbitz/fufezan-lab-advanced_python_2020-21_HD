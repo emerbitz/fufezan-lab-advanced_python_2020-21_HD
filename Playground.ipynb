{
 "cells": [
  {
   "cell_type": "code",
   "execution_count": 1,
   "metadata": {},
   "outputs": [],
   "source": [
    "from collections import Counter, defaultdict\n",
    "from operator import itemgetter\n",
    "import numpy as np"
   ]
  },
  {
   "cell_type": "code",
   "execution_count": 2,
   "metadata": {
    "pycharm": {
     "name": "#%%\n"
    }
   },
   "outputs": [],
   "source": [
    "string = 'ZDGQGEFEQFQDAAAAAAAADSA'\n",
    "dic = dict(Counter(string))\n",
    "lst = [(key, value) for key, value in dic.items()]\n",
    "lst.sort(key=lambda x: x[0]) # sorted(lst, key=lambda x: x[0])"
   ]
  },
  {
   "cell_type": "code",
   "execution_count": 3,
   "metadata": {
    "pycharm": {
     "name": "#%%\n"
    }
   },
   "outputs": [
    {
     "data": {
      "text/plain": [
       "[('A', 9),\n",
       " ('D', 3),\n",
       " ('E', 2),\n",
       " ('F', 2),\n",
       " ('G', 2),\n",
       " ('Q', 3),\n",
       " ('S', 1),\n",
       " ('Z', 1)]"
      ]
     },
     "execution_count": 3,
     "metadata": {},
     "output_type": "execute_result"
    }
   ],
   "source": [
    "sorted(dic.items(), key=itemgetter(0)) # sorted(dic.items()) OR sorted(dic.items(), key=lambda x: x[0])"
   ]
  },
  {
   "cell_type": "code",
   "execution_count": 4,
   "metadata": {
    "pycharm": {
     "name": "#%%\n"
    }
   },
   "outputs": [
    {
     "name": "stdout",
     "output_type": "stream",
     "text": [
      "defaultdict(<class 'str'>, {'house': '', 'bath': 'sadf'})\n"
     ]
    }
   ],
   "source": [
    "ddic = defaultdict(str)\n",
    "ddic['house'] \n",
    "ddic['bath'] = 'sadf'\n",
    "print(ddic)"
   ]
  },
  {
   "cell_type": "code",
   "execution_count": 5,
   "metadata": {},
   "outputs": [
    {
     "name": "stdout",
     "output_type": "stream",
     "text": [
      "defaultdict(<class 'str'>, {'house': '', 'bath': 'sadf'})\n"
     ]
    }
   ],
   "source": [
    "ddic = defaultdict(str)\n",
    "ddic['house'] \n",
    "ddic['bath'] = 'sadf'\n",
    "print(ddic)"
   ]
  },
  {
   "cell_type": "code",
   "execution_count": 6,
   "metadata": {},
   "outputs": [
    {
     "data": {
      "text/plain": [
       "[('A', 9),\n",
       " ('D', 3),\n",
       " ('E', 2),\n",
       " ('F', 2),\n",
       " ('G', 2),\n",
       " ('Q', 3),\n",
       " ('S', 1),\n",
       " ('Z', 1)]"
      ]
     },
     "execution_count": 6,
     "metadata": {},
     "output_type": "execute_result"
    }
   ],
   "source": [
    "sorted(dic.items(), key=itemgetter(0)) # sorted(dic.items()) OR sorted(dic.items(), key=lambda x: x[0])"
   ]
  },
  {
   "cell_type": "code",
   "execution_count": 7,
   "metadata": {},
   "outputs": [
    {
     "name": "stdout",
     "output_type": "stream",
     "text": [
      "defaultdict(<class 'str'>, {'house': '', 'bath': 'sadf'})\n"
     ]
    }
   ],
   "source": [
    "ddic = defaultdict(str)\n",
    "ddic['house'] \n",
    "ddic['bath'] = 'sadf'\n",
    "print(ddic)"
   ]
  },
  {
   "cell_type": "code",
   "execution_count": null,
   "outputs": [],
   "source": [],
   "metadata": {
    "collapsed": false,
    "pycharm": {
     "name": "#%%\n"
    }
   }
  },
  {
   "cell_type": "code",
   "execution_count": null,
   "metadata": {},
   "outputs": [],
   "source": []
  }
 ],
 "metadata": {
  "kernelspec": {
   "display_name": "Python 3",
   "language": "python",
   "name": "python3"
  },
  "language_info": {
   "codemirror_mode": {
    "name": "ipython",
    "version": 3
   },
   "file_extension": ".py",
   "mimetype": "text/x-python",
   "name": "python",
   "nbconvert_exporter": "python",
   "pygments_lexer": "ipython3",
   "version": "3.7.4"
  }
 },
 "nbformat": 4,
 "nbformat_minor": 1
}