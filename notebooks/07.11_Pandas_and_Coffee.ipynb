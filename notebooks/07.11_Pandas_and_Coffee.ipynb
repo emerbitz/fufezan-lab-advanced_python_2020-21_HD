{
 "cells": [
  {
   "cell_type": "code",
   "execution_count": 1,
   "metadata": {
    "slideshow": {
     "slide_type": "slide"
    }
   },
   "outputs": [
    {
     "ename": "FileNotFoundError",
     "evalue": "[Errno 2] No such file or directory: 'C:\\\\Users\\\\Mir\\\\PycharmProjects\\\\fufezan-lab-advanced_python_2020-21_HD_fork\\\\notebooks\\\\course_title.md'",
     "output_type": "error",
     "traceback": [
      "\u001b[1;31m---------------------------------------------------------------------------\u001b[0m",
      "\u001b[1;31mFileNotFoundError\u001b[0m                         Traceback (most recent call last)",
      "\u001b[1;32m<ipython-input-1-b954323288bb>\u001b[0m in \u001b[0;36m<module>\u001b[1;34m\u001b[0m\n\u001b[1;32m----> 1\u001b[1;33m \u001b[1;32mimport\u001b[0m \u001b[0mcourse\u001b[0m\u001b[1;33m;\u001b[0m\u001b[0mcourse\u001b[0m\u001b[1;33m.\u001b[0m\u001b[0mheader\u001b[0m\u001b[1;33m(\u001b[0m\u001b[1;33m)\u001b[0m\u001b[1;33m\u001b[0m\u001b[1;33m\u001b[0m\u001b[0m\n\u001b[0m",
      "\u001b[1;32m~\\PycharmProjects\\fufezan-lab-advanced_python_2020-21_HD_fork\\notebooks\\course.py\u001b[0m in \u001b[0;36mheader\u001b[1;34m()\u001b[0m\n\u001b[0;32m     74\u001b[0m     \u001b[1;32mfrom\u001b[0m \u001b[0mIPython\u001b[0m\u001b[1;33m.\u001b[0m\u001b[0mdisplay\u001b[0m \u001b[1;32mimport\u001b[0m \u001b[0mdisplay\u001b[0m\u001b[1;33m,\u001b[0m \u001b[0mMarkdown\u001b[0m\u001b[1;33m\u001b[0m\u001b[1;33m\u001b[0m\u001b[0m\n\u001b[0;32m     75\u001b[0m \u001b[1;33m\u001b[0m\u001b[0m\n\u001b[1;32m---> 76\u001b[1;33m     \u001b[1;32mwith\u001b[0m \u001b[0mopen\u001b[0m\u001b[1;33m(\u001b[0m\u001b[0mos\u001b[0m\u001b[1;33m.\u001b[0m\u001b[0mpath\u001b[0m\u001b[1;33m.\u001b[0m\u001b[0mjoin\u001b[0m\u001b[1;33m(\u001b[0m\u001b[0mnotebook_dir\u001b[0m\u001b[1;33m,\u001b[0m \u001b[1;34m'course_title.md'\u001b[0m\u001b[1;33m)\u001b[0m\u001b[1;33m,\u001b[0m \u001b[1;34m'r'\u001b[0m\u001b[1;33m)\u001b[0m \u001b[1;32mas\u001b[0m \u001b[0mfh\u001b[0m\u001b[1;33m:\u001b[0m\u001b[1;33m\u001b[0m\u001b[1;33m\u001b[0m\u001b[0m\n\u001b[0m\u001b[0;32m     77\u001b[0m         \u001b[0mdisplay\u001b[0m\u001b[1;33m(\u001b[0m\u001b[0mMarkdown\u001b[0m\u001b[1;33m(\u001b[0m\u001b[0mfh\u001b[0m\u001b[1;33m.\u001b[0m\u001b[0mread\u001b[0m\u001b[1;33m(\u001b[0m\u001b[1;33m)\u001b[0m\u001b[1;33m)\u001b[0m\u001b[1;33m)\u001b[0m\u001b[1;33m\u001b[0m\u001b[1;33m\u001b[0m\u001b[0m\n\u001b[0;32m     78\u001b[0m \u001b[1;33m\u001b[0m\u001b[0m\n",
      "\u001b[1;31mFileNotFoundError\u001b[0m: [Errno 2] No such file or directory: 'C:\\\\Users\\\\Mir\\\\PycharmProjects\\\\fufezan-lab-advanced_python_2020-21_HD_fork\\\\notebooks\\\\course_title.md'"
     ]
    }
   ],
   "source": [
    "import course;course.header()"
   ]
  },
  {
   "cell_type": "markdown",
   "metadata": {},
   "source": [
    "## More advanced Pandas"
   ]
  },
  {
   "cell_type": "code",
   "execution_count": null,
   "metadata": {},
   "outputs": [],
   "source": [
    "import pandas as pd\n",
    "pd.set_option(\"max_columns\", 3000)\n",
    "\n",
    "import numpy as np"
   ]
  },
  {
   "cell_type": "code",
   "execution_count": null,
   "metadata": {},
   "outputs": [],
   "source": [
    "df = pd.read_csv(\"../data/arabica_data_cleaned.csv\", index_col=0)"
   ]
  },
  {
   "cell_type": "code",
   "execution_count": null,
   "metadata": {},
   "outputs": [],
   "source": [
    "df.head()"
   ]
  },
  {
   "cell_type": "markdown",
   "metadata": {},
   "source": [
    "# Dropping object columns"
   ]
  },
  {
   "cell_type": "code",
   "execution_count": null,
   "metadata": {},
   "outputs": [],
   "source": [
    " df.dtypes.head()"
   ]
  },
  {
   "cell_type": "code",
   "execution_count": null,
   "metadata": {},
   "outputs": [],
   "source": [
    "col_to_drop = []\n",
    "for col, d in zip(df.columns, df.dtypes):\n",
    "    if d == 'object':\n",
    "        if col not in [\"Country.of.Origin\", \"Producer\", \"Processing.Method\"]:\n",
    "            col_to_drop.append(col)\n",
    "df.drop(columns=col_to_drop, inplace=True)"
   ]
  },
  {
   "cell_type": "markdown",
   "metadata": {},
   "source": [
    "# renaming the dots"
   ]
  },
  {
   "cell_type": "code",
   "execution_count": null,
   "metadata": {},
   "outputs": [],
   "source": [
    "df.rename(\n",
    "    columns={\n",
    "        \"Country.of.Origin\": \"Country of Origin\", \n",
    "        \"Producer\": \"Producer\", \n",
    "        \"Processing.Method\": \"Processing Method\"\n",
    "    },\n",
    "    inplace=True\n",
    ")"
   ]
  },
  {
   "cell_type": "code",
   "execution_count": null,
   "metadata": {},
   "outputs": [],
   "source": [
    "df['Processing Method'].value_counts()"
   ]
  },
  {
   "cell_type": "code",
   "execution_count": null,
   "metadata": {},
   "outputs": [],
   "source": [
    "df.sample(5)"
   ]
  },
  {
   "cell_type": "code",
   "execution_count": null,
   "metadata": {},
   "outputs": [],
   "source": [
    "df.describe()"
   ]
  },
  {
   "cell_type": "code",
   "execution_count": null,
   "metadata": {},
   "outputs": [],
   "source": []
  },
  {
   "cell_type": "markdown",
   "metadata": {},
   "source": [
    "How to describe each Country.of.Origin separately?"
   ]
  },
  {
   "cell_type": "code",
   "execution_count": null,
   "metadata": {},
   "outputs": [],
   "source": [
    "df.groupby(\"Country of Origin\").describe()"
   ]
  },
  {
   "cell_type": "markdown",
   "metadata": {},
   "source": [
    "# Aggregation and group operations!"
   ]
  },
  {
   "cell_type": "code",
   "execution_count": null,
   "metadata": {},
   "outputs": [],
   "source": [
    "grp = df[['Country of Origin','Body']].groupby(\"Country of Origin\")"
   ]
  },
  {
   "cell_type": "code",
   "execution_count": null,
   "metadata": {},
   "outputs": [],
   "source": [
    "grp.head()"
   ]
  },
  {
   "cell_type": "markdown",
   "metadata": {},
   "source": [
    "Groups behave like dataframes or series!"
   ]
  },
  {
   "cell_type": "code",
   "execution_count": null,
   "metadata": {},
   "outputs": [],
   "source": [
    "grp.idxmax()"
   ]
  },
  {
   "cell_type": "markdown",
   "metadata": {},
   "source": [
    "**Note:** index is of original dataframe. Remember if not state explicitly, you will work on a view!"
   ]
  },
  {
   "cell_type": "code",
   "execution_count": null,
   "metadata": {},
   "outputs": [],
   "source": [
    "# get the content of a group object\n",
    "grp.get_group('Vietnam')"
   ]
  },
  {
   "cell_type": "code",
   "execution_count": null,
   "metadata": {},
   "outputs": [],
   "source": [
    "grp.mean()"
   ]
  },
  {
   "cell_type": "markdown",
   "metadata": {},
   "source": [
    "Groupby can also be combined\n"
   ]
  },
  {
   "cell_type": "code",
   "execution_count": null,
   "metadata": {},
   "outputs": [],
   "source": [
    "df[\n",
    "    [\n",
    "        'Country of Origin',\n",
    "        'Body',\n",
    "        'Aroma'\n",
    "    ]\n",
    "].groupby(\"Country of Origin\").mean()"
   ]
  },
  {
   "cell_type": "code",
   "execution_count": null,
   "metadata": {},
   "outputs": [],
   "source": [
    "grp_cols = ['Country of Origin',\"Processing Method\"]\n",
    "data_cols = ['Body','Aroma']\n",
    "grp = df[grp_cols + data_cols].groupby(grp_cols)"
   ]
  },
  {
   "cell_type": "code",
   "execution_count": null,
   "metadata": {},
   "outputs": [],
   "source": [
    "grp.mean()"
   ]
  },
  {
   "cell_type": "markdown",
   "metadata": {},
   "source": [
    "## Interating using groupby"
   ]
  },
  {
   "cell_type": "code",
   "execution_count": null,
   "metadata": {},
   "outputs": [],
   "source": [
    "grp_cols = ['Country of Origin',\"Processing Method\"]\n",
    "data_cols = ['Body','Aroma']\n",
    "for name, grp in df[grp_cols + data_cols].groupby(grp_cols):\n",
    "    print(name)\n",
    "    display(grp)\n",
    "    break"
   ]
  },
  {
   "cell_type": "markdown",
   "metadata": {},
   "source": [
    "How to set Body for the first entry to 10?"
   ]
  },
  {
   "cell_type": "code",
   "execution_count": null,
   "metadata": {},
   "outputs": [],
   "source": [
    "grp_cols = ['Country of Origin',\"Processing Method\"]\n",
    "data_cols = ['Body','Aroma']\n",
    "for name, grp in df[grp_cols + data_cols].groupby(grp_cols):\n",
    "    print(name)\n",
    "    display(grp.iloc[0][\"Body\"])\n",
    "    grp.iloc[0][\"Body\"] = 10\n",
    "    break"
   ]
  },
  {
   "cell_type": "code",
   "execution_count": null,
   "metadata": {},
   "outputs": [],
   "source": [
    "grp_cols = ['Country of Origin',\"Processing Method\"]\n",
    "data_cols = ['Body','Aroma']\n",
    "for name, grp in df[grp_cols + data_cols].groupby(grp_cols):\n",
    "    print(name)\n",
    "    display(grp)\n",
    "    break"
   ]
  },
  {
   "cell_type": "markdown",
   "metadata": {},
   "source": [
    "How to fix it?"
   ]
  },
  {
   "cell_type": "code",
   "execution_count": null,
   "metadata": {},
   "outputs": [],
   "source": [
    "grp_cols = ['Country of Origin',\"Processing Method\"]\n",
    "data_cols = ['Body','Aroma']\n",
    "for name, grp in df[grp_cols + data_cols].groupby(grp_cols):\n",
    "    print(name)\n",
    "#     print()\n",
    "    df.loc[grp.index[0], 'Body'] = 10\n",
    "    display(grp)\n",
    "    break"
   ]
  },
  {
   "cell_type": "markdown",
   "metadata": {},
   "source": [
    "# more generic groupby and aggregation"
   ]
  },
  {
   "cell_type": "code",
   "execution_count": null,
   "metadata": {},
   "outputs": [],
   "source": [
    "grps = df.groupby(['Country of Origin',\"Processing Method\"])\n",
    "# making is simpler - not defining data columns, ie keeping all"
   ]
  },
  {
   "cell_type": "code",
   "execution_count": null,
   "metadata": {},
   "outputs": [],
   "source": []
  },
  {
   "cell_type": "code",
   "execution_count": null,
   "metadata": {},
   "outputs": [],
   "source": [
    "grps.agg(\"mean\")"
   ]
  },
  {
   "cell_type": "code",
   "execution_count": null,
   "metadata": {},
   "outputs": [],
   "source": [
    "grps.max(\"mean\")['Body']"
   ]
  },
  {
   "cell_type": "markdown",
   "metadata": {},
   "source": [
    "# Apply - Split - Combine\n",
    "a very frequent usage of groupby"
   ]
  },
  {
   "cell_type": "code",
   "execution_count": null,
   "metadata": {},
   "outputs": [],
   "source": [
    "def top_x(df, x=7, col=\"Body\"):\n",
    "    return df.sort_values(col, ascending=False).head(x)\n",
    "\n",
    "top_x(df)"
   ]
  },
  {
   "cell_type": "code",
   "execution_count": null,
   "metadata": {},
   "outputs": [],
   "source": [
    "df.groupby(['Country of Origin',\"Processing Method\"]).apply(top_x)"
   ]
  },
  {
   "cell_type": "code",
   "execution_count": null,
   "metadata": {},
   "outputs": [],
   "source": [
    "# passing args n kwargs to apply function\n",
    "df.groupby(\n",
    "    ['Country of Origin',\"Processing Method\"]\n",
    ").apply(top_x, x=2)"
   ]
  },
  {
   "cell_type": "markdown",
   "metadata": {},
   "source": [
    "# Binning values\n",
    "Pandas cut or pandas qcut!\n",
    "* cut : cut an array by equal wide bins\n",
    "* qcut : cut an array by equally populated bin"
   ]
  },
  {
   "cell_type": "code",
   "execution_count": null,
   "metadata": {},
   "outputs": [],
   "source": [
    "pd.cut(df.Aroma, 5) \n",
    "# note dot nomenclature (instead of df['Aroma']) only works if columns\n",
    "# have no spaces "
   ]
  },
  {
   "cell_type": "code",
   "execution_count": null,
   "metadata": {},
   "outputs": [],
   "source": [
    "pd.qcut(df.Aroma, 5)"
   ]
  },
  {
   "cell_type": "code",
   "execution_count": null,
   "metadata": {},
   "outputs": [],
   "source": [
    "df['Aroma_bin'] = pd.qcut(df.Aroma, 5)"
   ]
  },
  {
   "cell_type": "code",
   "execution_count": null,
   "metadata": {},
   "outputs": [],
   "source": [
    "df['Aroma_cat'] = pd.qcut(\n",
    "    df.Aroma, \n",
    "    5, \n",
    "    labels=['--', '-', '', '+', '++']\n",
    ")"
   ]
  },
  {
   "cell_type": "code",
   "execution_count": null,
   "metadata": {},
   "outputs": [],
   "source": [
    "df.head()"
   ]
  },
  {
   "cell_type": "code",
   "execution_count": null,
   "metadata": {},
   "outputs": [],
   "source": [
    "df.groupby(\n",
    "    ['Country of Origin',\"Processing Method\", \"Aroma_cat\"]\n",
    ").apply(top_x, x=2).head(10)"
   ]
  },
  {
   "cell_type": "markdown",
   "metadata": {},
   "source": [
    "# Correlations based on Country of Origin\n"
   ]
  },
  {
   "cell_type": "code",
   "execution_count": null,
   "metadata": {},
   "outputs": [],
   "source": [
    "def correlate(grp, col_1=\"Aroma\", col_2=\"Aroma\"):\n",
    "    return grp[col_1].corr(grp[col_2])\n",
    "\n",
    "df.groupby(\n",
    "    ['Country of Origin']\n",
    ").apply(\n",
    "    correlate, \n",
    "    col_1=\"Aroma\", \n",
    "    col_2=\"Body\"\n",
    ").sort_values()"
   ]
  },
  {
   "cell_type": "code",
   "execution_count": null,
   "metadata": {},
   "outputs": [],
   "source": [
    "def correlate(grp, col_1=\"Aroma\", col_2=\"Aroma\"):\n",
    "    return grp[col_1].corr(grp[col_2]), grp.shape[0]  # how many obervations\n",
    "\n",
    "df.groupby(\n",
    "    ['Country of Origin']\n",
    ").apply(\n",
    "    correlate, \n",
    "    col_1=\"Aroma\", \n",
    "    col_2=\"Body\"\n",
    ").sort_values()"
   ]
  },
  {
   "cell_type": "code",
   "execution_count": null,
   "metadata": {},
   "outputs": [],
   "source": [
    "def correlate(grp, col_1=\"Aroma\", col_2=\"Aroma\"):\n",
    "    return pd.Series(\n",
    "        [\n",
    "            grp[col_1].corr(grp[col_2]), \n",
    "            grp.shape[0]\n",
    "        ], \n",
    "        index=['pearson-corr','n']\n",
    "    )\n",
    "\n",
    "df.groupby('Country of Origin').apply(\n",
    "    correlate,  \n",
    "    col_1=\"Aroma\", \n",
    "    col_2=\"Body\"\n",
    ").sort_values('pearson-corr')"
   ]
  },
  {
   "cell_type": "markdown",
   "metadata": {},
   "source": [
    "# Pivot tables\n"
   ]
  },
  {
   "cell_type": "code",
   "execution_count": null,
   "metadata": {},
   "outputs": [],
   "source": [
    "df.shape"
   ]
  },
  {
   "cell_type": "code",
   "execution_count": null,
   "metadata": {},
   "outputs": [],
   "source": [
    "df.pivot_table(\n",
    "    index=[\n",
    "        \"Country of Origin\", \n",
    "        \"Producer\", \n",
    "        \"Processing Method\"\n",
    "    ], \n",
    "    aggfunc=np.mean\n",
    ")"
   ]
  },
  {
   "cell_type": "code",
   "execution_count": null,
   "metadata": {},
   "outputs": [],
   "source": [
    "df.pivot_table(\n",
    "    index=[\n",
    "        \"Processing Method\",\n",
    "        \"Country of Origin\", \n",
    "#         \"Producer\",  # will be dropped\n",
    "    ], \n",
    "    aggfunc=np.mean\n",
    ")"
   ]
  },
  {
   "cell_type": "code",
   "execution_count": null,
   "metadata": {},
   "outputs": [],
   "source": [
    "df.pivot_table(\n",
    "    index=[\n",
    "        \"Processing Method\",\n",
    "        \"Country of Origin\", \n",
    "#         \"Producer\",  # will be dropped\n",
    "    ], \n",
    "    aggfunc={\n",
    "        'Aroma' : np.mean,\n",
    "        'Body': np.max\n",
    "    }\n",
    ")"
   ]
  },
  {
   "cell_type": "code",
   "execution_count": null,
   "metadata": {},
   "outputs": [],
   "source": [
    "df.pivot_table(\n",
    "    index=[\n",
    "        \"Processing Method\",\n",
    "        \"Country of Origin\", \n",
    "#         \"Producer\",  # will be dropped\n",
    "    ], \n",
    "    aggfunc=[np.median, np.mean]\n",
    ")"
   ]
  },
  {
   "cell_type": "code",
   "execution_count": null,
   "metadata": {},
   "outputs": [],
   "source": [
    "idx = pd.IndexSlice"
   ]
  },
  {
   "cell_type": "code",
   "execution_count": null,
   "metadata": {},
   "outputs": [],
   "source": [
    "_df = df.pivot_table(\n",
    "    index=[\n",
    "        \"Processing Method\",\n",
    "        \"Country of Origin\", \n",
    "#         \"Producer\",  # will be dropped\n",
    "    ], \n",
    "    aggfunc=[np.median, np.mean, np.min, np.max]\n",
    ")\n",
    "_df.loc[\n",
    "    idx[:,'Brazil'], \n",
    "    idx[:,['Acidity', 'Body']]\n",
    "]"
   ]
  },
  {
   "cell_type": "code",
   "execution_count": null,
   "metadata": {},
   "outputs": [],
   "source": [
    "_df.loc[\n",
    "    idx['Natural / Dry',:], \n",
    "    idx['median',['Acidity', 'Body']]\n",
    "].head(5)"
   ]
  },
  {
   "cell_type": "markdown",
   "metadata": {},
   "source": [
    "## Backup\n"
   ]
  },
  {
   "cell_type": "code",
   "execution_count": null,
   "metadata": {},
   "outputs": [],
   "source": [
    "df.sort_values(\"Total.Cup.Points\", ascending=False).head(1)"
   ]
  },
  {
   "cell_type": "code",
   "execution_count": null,
   "metadata": {},
   "outputs": [],
   "source": [
    "df['Country.of.Origin'].unique()"
   ]
  },
  {
   "cell_type": "code",
   "execution_count": null,
   "metadata": {},
   "outputs": [],
   "source": [
    "df['altitude_mean_meters'].describe()"
   ]
  },
  {
   "cell_type": "code",
   "execution_count": null,
   "metadata": {},
   "outputs": [],
   "source": [
    "df.sort_values('altitude_mean_meters', ascending=False).head(10)"
   ]
  },
  {
   "cell_type": "markdown",
   "metadata": {},
   "source": [
    "# Visualizing distribution of altitude"
   ]
  },
  {
   "cell_type": "code",
   "execution_count": null,
   "metadata": {},
   "outputs": [],
   "source": [
    "data = []\n",
    "for name, grp in df.groupby(\"Country.of.Origin\"):\n",
    "    data.append(go.Histogram(x=grp['altitude_mean_meters'], name=name))\n",
    "fig = go.Figure(data=data)\n",
    "fig.show()"
   ]
  },
  {
   "cell_type": "markdown",
   "metadata": {},
   "source": [
    "# Reviews"
   ]
  },
  {
   "cell_type": "code",
   "execution_count": null,
   "metadata": {},
   "outputs": [],
   "source": [
    "df.columns"
   ]
  },
  {
   "cell_type": "code",
   "execution_count": null,
   "metadata": {},
   "outputs": [],
   "source": [
    "rcols = [\n",
    "    'Aroma', \n",
    "    'Flavor', \n",
    "    'Aftertaste', \n",
    "    'Acidity', \n",
    "    'Body',\n",
    "#     'Balance', \n",
    "#     'Uniformity', \n",
    "#     'Clean.Cup', \n",
    "#     'Sweetness', \n",
    "    'Cupper.Points'\n",
    "]"
   ]
  },
  {
   "cell_type": "code",
   "execution_count": null,
   "metadata": {},
   "outputs": [],
   "source": [
    "import numpy as np\n",
    "data = []\n",
    "for name, grp in df.groupby(\"Country.of.Origin\"):\n",
    "    s1 = grp[rcols].apply(np.max, axis=0)\n",
    "    data.append(\n",
    "        go.Scatterpolar(\n",
    "          r=s1,\n",
    "          theta=rcols,\n",
    "#           fill='toself',\n",
    "          name=name\n",
    "        )\n",
    "    )\n",
    "fig = go.Figure(data=data)\n",
    "fig.show()"
   ]
  },
  {
   "cell_type": "code",
   "execution_count": null,
   "metadata": {},
   "outputs": [],
   "source": []
  }
 ],
 "metadata": {
  "kernelspec": {
   "display_name": "Python 3",
   "language": "python",
   "name": "python3"
  },
  "language_info": {
   "codemirror_mode": {
    "name": "ipython",
    "version": 3
   },
   "file_extension": ".py",
   "mimetype": "text/x-python",
   "name": "python",
   "nbconvert_exporter": "python",
   "pygments_lexer": "ipython3",
   "version": "3.8.3"
  }
 },
 "nbformat": 4,
 "nbformat_minor": 2
}
