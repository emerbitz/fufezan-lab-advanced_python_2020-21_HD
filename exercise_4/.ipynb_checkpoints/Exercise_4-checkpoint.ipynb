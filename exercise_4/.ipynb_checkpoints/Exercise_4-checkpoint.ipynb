{
 "cells": [
  {
   "cell_type": "code",
   "execution_count": 1,
   "metadata": {},
   "outputs": [],
   "source": [
    "import requests\n",
    "import pandas as pd\n",
    "import plotly.graph_objects as go\n",
    "from collections import deque"
   ]
  },
  {
   "cell_type": "code",
   "execution_count": 2,
   "metadata": {},
   "outputs": [],
   "source": [
    "def make_lookup():\n",
    "    names_of_properties = [\n",
    "        'Molecular Weight', 'Residue Weight', 'pka1', 'pka2', 'pkaX', 'pI',\n",
    "        'hydropathy index (Kyte-Doolittle method)', 'Accessible surface'\n",
    "    ]\n",
    "    df_properties = pd.read_csv('../data/amino_acid_properties.csv', index_col='1-letter code')\n",
    "    lookup = {}\n",
    "    for prop in names_of_properties:\n",
    "        property_series = df_properties[prop]\n",
    "        lookup[prop] = dict(property_series)\n",
    "    return lookup\n",
    "    "
   ]
  },
  {
   "cell_type": "code",
   "execution_count": 3,
   "metadata": {},
   "outputs": [
    {
     "data": {
      "text/plain": [
       "1.9"
      ]
     },
     "execution_count": 3,
     "metadata": {},
     "output_type": "execute_result"
    }
   ],
   "source": [
    "lookup = make_lookup()\n",
    "lookup['hydropathy index (Kyte-Doolittle method)']['M']"
   ]
  },
  {
   "cell_type": "code",
   "execution_count": 9,
   "metadata": {},
   "outputs": [],
   "source": [
    "class Protein():\n",
    "    def __init__(self, lookup): \n",
    "        self.lookup = lookup\n",
    "        self.id = self.url = self.fasta = self.seq = self.prop_values = self.prop = self.window_size = None\n",
    "        \n",
    "    def get_data(self, Id):\n",
    "        self.Id = Id\n",
    "        self.url = 'https://www.uniprot.org/uniprot/' + self.Id + '.fasta'\n",
    "        res = requests.get(self.url)\n",
    "        self.fasta = res.text\n",
    "        self.sequence = ''\n",
    "        for line in self.fasta.split('\\n'):\n",
    "            if not line.startswith('>'):\n",
    "                self.sequence += line.strip()\n",
    "        return self.sequence\n",
    "    \n",
    "    def map_property(self, selected_property='hydropathy index (Kyte-Doolittle method)'):\n",
    "        self.prop = selected_property\n",
    "        self.window_size = None\n",
    "        prop_dic = self.lookup[self.prop]\n",
    "        self.prop_values = [prop_dic[amino_acid] for amino_acid in self.sequence]\n",
    "        return self.prop_values\n",
    "    \n",
    "    def rolling_mean(self, selected_property='hydropathy index (Kyte-Doolittle method)', window_size=5):\n",
    "        prop_values_unsmoothed = self.map_property(selected_property)\n",
    "        self.prop_values = []\n",
    "        self.window_size = window_size\n",
    "        \n",
    "        window = deque(prop_values_unsmoothed[:window_size - 1], maxlen=window_size)\n",
    "        for value in prop_values_unsmoothed[window_size - 1:]:\n",
    "            window.append(value)\n",
    "            window_sum = sum(window)\n",
    "            self.prop_values.append(window_sum / window_size)\n",
    "        return self.prop_values\n",
    "    \n",
    "    def make_plot(self):\n",
    "        data = [\n",
    "            go.Scatter(x=list(range(0, len(self.prop_values))),\n",
    "                       y=self.prop_values\n",
    "                       )\n",
    "            ]\n",
    "        plot_title = self.Id\n",
    "        if self.window_size is not None:\n",
    "            plot_title += f' with window size of {self.window_size}'\n",
    "        layout = {\n",
    "            'title': {\n",
    "                'text': plot_title\n",
    "            },\n",
    "            'yaxis': {\n",
    "                'title': self.prop\n",
    "            },\n",
    "            'xaxis': {\n",
    "                'title': 'postion'\n",
    "            }\n",
    "        }\n",
    "\n",
    "        fig = go.Figure(data=data, layout=layout)\n",
    "        fig.show()"
   ]
  },
  {
   "cell_type": "code",
   "execution_count": 12,
   "metadata": {},
   "outputs": [
    {
     "data": {
      "application/vnd.plotly.v1+json": {
       "config": {
        "plotlyServerURL": "https://plot.ly"
       },
       "data": [
        {
         "type": "scatter",
         "x": [
          0,
          1,
          2,
          3,
          4,
          5,
          6,
          7,
          8,
          9,
          10,
          11,
          12,
          13,
          14,
          15,
          16,
          17,
          18,
          19,
          20,
          21,
          22,
          23,
          24,
          25,
          26,
          27,
          28,
          29,
          30,
          31,
          32,
          33,
          34,
          35,
          36,
          37,
          38,
          39,
          40,
          41,
          42,
          43,
          44,
          45,
          46,
          47,
          48,
          49,
          50,
          51,
          52,
          53,
          54,
          55,
          56,
          57,
          58,
          59,
          60,
          61,
          62,
          63,
          64,
          65,
          66,
          67,
          68,
          69,
          70,
          71,
          72,
          73,
          74,
          75,
          76,
          77,
          78,
          79,
          80,
          81,
          82,
          83,
          84,
          85,
          86,
          87,
          88,
          89,
          90,
          91,
          92,
          93,
          94,
          95,
          96,
          97,
          98,
          99,
          100,
          101,
          102,
          103,
          104,
          105,
          106,
          107,
          108,
          109,
          110,
          111,
          112,
          113,
          114,
          115,
          116,
          117,
          118,
          119,
          120,
          121,
          122,
          123,
          124,
          125,
          126,
          127,
          128,
          129,
          130,
          131,
          132,
          133,
          134,
          135,
          136,
          137,
          138,
          139,
          140,
          141,
          142,
          143,
          144,
          145,
          146,
          147,
          148,
          149,
          150,
          151,
          152,
          153,
          154,
          155,
          156,
          157,
          158,
          159,
          160,
          161,
          162,
          163,
          164,
          165,
          166,
          167,
          168,
          169,
          170,
          171,
          172,
          173,
          174,
          175,
          176,
          177,
          178,
          179,
          180,
          181,
          182,
          183,
          184,
          185,
          186,
          187,
          188,
          189,
          190,
          191,
          192,
          193,
          194,
          195,
          196,
          197,
          198,
          199,
          200,
          201,
          202,
          203,
          204,
          205,
          206,
          207,
          208,
          209,
          210,
          211,
          212,
          213,
          214,
          215,
          216,
          217,
          218,
          219,
          220,
          221,
          222,
          223,
          224,
          225,
          226,
          227,
          228,
          229,
          230,
          231,
          232,
          233,
          234,
          235,
          236,
          237,
          238,
          239,
          240,
          241,
          242,
          243,
          244,
          245,
          246,
          247,
          248,
          249,
          250,
          251,
          252,
          253,
          254,
          255,
          256,
          257,
          258,
          259,
          260,
          261,
          262,
          263,
          264,
          265,
          266,
          267,
          268,
          269,
          270,
          271,
          272,
          273,
          274,
          275,
          276,
          277,
          278,
          279,
          280,
          281,
          282,
          283,
          284,
          285,
          286,
          287,
          288,
          289,
          290,
          291,
          292,
          293,
          294,
          295,
          296,
          297,
          298,
          299,
          300,
          301,
          302,
          303,
          304,
          305,
          306,
          307,
          308,
          309,
          310,
          311,
          312,
          313,
          314,
          315,
          316,
          317,
          318,
          319,
          320,
          321,
          322,
          323,
          324,
          325,
          326,
          327,
          328,
          329,
          330,
          331,
          332,
          333,
          334,
          335,
          336,
          337,
          338,
          339,
          340,
          341,
          342,
          343,
          344,
          345,
          346,
          347,
          348,
          349,
          350,
          351,
          352,
          353,
          354,
          355,
          356,
          357,
          358,
          359,
          360
         ],
         "y": [
          5.74,
          2.77,
          6.02,
          5.65,
          5.74,
          6,
          5.41,
          5.41,
          5.48,
          5.6,
          6.3,
          6.3,
          5.68,
          6,
          5.6,
          6.3,
          5.65,
          5.97,
          5.41,
          2.77,
          5.07,
          2.77,
          5.98,
          5.66,
          6,
          7.59,
          7.59,
          5.68,
          5.6,
          6,
          10.76,
          6.02,
          5.96,
          5.74,
          6.3,
          5.98,
          7.59,
          5.66,
          5.68,
          5.98,
          5.96,
          5.48,
          6.02,
          6.02,
          5.97,
          5.98,
          5.96,
          5.97,
          5.41,
          5.98,
          5.98,
          6,
          5.98,
          5.96,
          5.96,
          6.02,
          5.96,
          5.65,
          5.41,
          10.76,
          9.74,
          9.74,
          6.02,
          5.41,
          5.68,
          5.6,
          5.6,
          5.98,
          5.66,
          5.68,
          5.6,
          5.41,
          5.98,
          5.96,
          6.02,
          5.68,
          2.77,
          6.02,
          5.98,
          5.48,
          5.6,
          5.6,
          6,
          5.98,
          6.3,
          5.6,
          10.76,
          6.02,
          6,
          5.66,
          5.66,
          6,
          5.74,
          5.97,
          5.48,
          2.77,
          5.89,
          10.76,
          6.02,
          5.97,
          2.77,
          6,
          5.98,
          5.07,
          10.76,
          6.02,
          5.6,
          6,
          5.98,
          5.96,
          5.48,
          5.66,
          6.02,
          5.41,
          5.6,
          5.66,
          6,
          5.97,
          5.96,
          5.41,
          5.48,
          5.74,
          5.6,
          5.07,
          5.98,
          5.68,
          6.02,
          2.77,
          10.76,
          5.48,
          6.02,
          6,
          5.96,
          5.96,
          7.59,
          6.3,
          5.98,
          10.76,
          5.66,
          5.41,
          9.74,
          6.02,
          9.74,
          10.76,
          6.02,
          3.22,
          7.59,
          6,
          9.74,
          5.97,
          5.96,
          5.07,
          6.02,
          5.48,
          5.96,
          5.89,
          6.02,
          5.98,
          5.96,
          5.48,
          6,
          5.65,
          5.6,
          5.98,
          6.3,
          5.98,
          5.98,
          6.02,
          5.41,
          6.3,
          5.74,
          5.68,
          9.74,
          5.65,
          3.22,
          6,
          3.22,
          10.76,
          6.02,
          5.6,
          5.07,
          5.74,
          3.22,
          5.66,
          6.3,
          5.41,
          5.48,
          3.22,
          3.22,
          5.6,
          9.74,
          5.68,
          5.98,
          6.3,
          5.89,
          6.02,
          5.98,
          5.98,
          5.97,
          6,
          5.07,
          5.48,
          6.02,
          5.97,
          5.66,
          5.96,
          5.98,
          6.3,
          5.98,
          6.02,
          6.02,
          6.02,
          5.98,
          6.02,
          5.07,
          5.66,
          5.68,
          5.65,
          6.02,
          5.07,
          5.07,
          9.74,
          5.98,
          5.48,
          10.76,
          5.6,
          6,
          9.74,
          5.65,
          5.41,
          6.3,
          5.98,
          5.6,
          3.22,
          9.74,
          5.68,
          5.97,
          5.96,
          5.41,
          9.74,
          9.74,
          6,
          5.98,
          5.41,
          5.6,
          6.02,
          6.02,
          5.98,
          6.02,
          6.02,
          5.96,
          5.96,
          5.48,
          5.96,
          5.98,
          5.07,
          5.48,
          5.6,
          6.3,
          5.66,
          7.59,
          5.96,
          6,
          6.02,
          6.02,
          5.65,
          7.59,
          5.74,
          6.02,
          9.74,
          9.74,
          5.98,
          10.76,
          5.48,
          5.68,
          5.41,
          5.48,
          5.98,
          3.22,
          5.07,
          5.68,
          5.65,
          10.76,
          7.59,
          5.68,
          5.48,
          5.65,
          6.02,
          5.68,
          5.98,
          7.59,
          5.48,
          5.6,
          5.96,
          5.07,
          5.98,
          5.74,
          5.41,
          5.48,
          5.41,
          5.07,
          5.07,
          5.74,
          2.77,
          6.3,
          5.48,
          6.02,
          5.66,
          5.48,
          5.48,
          6,
          5.07,
          9.74,
          5.97,
          5.66,
          9.74,
          10.76,
          9.74,
          5.96,
          5.74,
          10.76,
          5.74,
          5.98,
          9.74,
          10.76,
          5.65,
          5.96,
          5.68,
          5.96,
          5.68,
          6.02,
          5.68,
          5.68,
          6,
          5.96,
          9.74,
          5.68,
          6,
          6.3,
          3.22,
          3.22,
          5.41,
          5.68,
          10.76,
          3.22,
          5.74,
          5.6,
          3.22,
          5.6,
          5.65,
          5.74,
          5.74,
          6.02,
          7.59,
          5.68,
          9.74,
          5.68,
          5.68,
          5.41,
          5.97,
          9.74
         ]
        }
       ],
       "layout": {
        "template": {
         "data": {
          "bar": [
           {
            "error_x": {
             "color": "#2a3f5f"
            },
            "error_y": {
             "color": "#2a3f5f"
            },
            "marker": {
             "line": {
              "color": "#E5ECF6",
              "width": 0.5
             }
            },
            "type": "bar"
           }
          ],
          "barpolar": [
           {
            "marker": {
             "line": {
              "color": "#E5ECF6",
              "width": 0.5
             }
            },
            "type": "barpolar"
           }
          ],
          "carpet": [
           {
            "aaxis": {
             "endlinecolor": "#2a3f5f",
             "gridcolor": "white",
             "linecolor": "white",
             "minorgridcolor": "white",
             "startlinecolor": "#2a3f5f"
            },
            "baxis": {
             "endlinecolor": "#2a3f5f",
             "gridcolor": "white",
             "linecolor": "white",
             "minorgridcolor": "white",
             "startlinecolor": "#2a3f5f"
            },
            "type": "carpet"
           }
          ],
          "choropleth": [
           {
            "colorbar": {
             "outlinewidth": 0,
             "ticks": ""
            },
            "type": "choropleth"
           }
          ],
          "contour": [
           {
            "colorbar": {
             "outlinewidth": 0,
             "ticks": ""
            },
            "colorscale": [
             [
              0,
              "#0d0887"
             ],
             [
              0.1111111111111111,
              "#46039f"
             ],
             [
              0.2222222222222222,
              "#7201a8"
             ],
             [
              0.3333333333333333,
              "#9c179e"
             ],
             [
              0.4444444444444444,
              "#bd3786"
             ],
             [
              0.5555555555555556,
              "#d8576b"
             ],
             [
              0.6666666666666666,
              "#ed7953"
             ],
             [
              0.7777777777777778,
              "#fb9f3a"
             ],
             [
              0.8888888888888888,
              "#fdca26"
             ],
             [
              1,
              "#f0f921"
             ]
            ],
            "type": "contour"
           }
          ],
          "contourcarpet": [
           {
            "colorbar": {
             "outlinewidth": 0,
             "ticks": ""
            },
            "type": "contourcarpet"
           }
          ],
          "heatmap": [
           {
            "colorbar": {
             "outlinewidth": 0,
             "ticks": ""
            },
            "colorscale": [
             [
              0,
              "#0d0887"
             ],
             [
              0.1111111111111111,
              "#46039f"
             ],
             [
              0.2222222222222222,
              "#7201a8"
             ],
             [
              0.3333333333333333,
              "#9c179e"
             ],
             [
              0.4444444444444444,
              "#bd3786"
             ],
             [
              0.5555555555555556,
              "#d8576b"
             ],
             [
              0.6666666666666666,
              "#ed7953"
             ],
             [
              0.7777777777777778,
              "#fb9f3a"
             ],
             [
              0.8888888888888888,
              "#fdca26"
             ],
             [
              1,
              "#f0f921"
             ]
            ],
            "type": "heatmap"
           }
          ],
          "heatmapgl": [
           {
            "colorbar": {
             "outlinewidth": 0,
             "ticks": ""
            },
            "colorscale": [
             [
              0,
              "#0d0887"
             ],
             [
              0.1111111111111111,
              "#46039f"
             ],
             [
              0.2222222222222222,
              "#7201a8"
             ],
             [
              0.3333333333333333,
              "#9c179e"
             ],
             [
              0.4444444444444444,
              "#bd3786"
             ],
             [
              0.5555555555555556,
              "#d8576b"
             ],
             [
              0.6666666666666666,
              "#ed7953"
             ],
             [
              0.7777777777777778,
              "#fb9f3a"
             ],
             [
              0.8888888888888888,
              "#fdca26"
             ],
             [
              1,
              "#f0f921"
             ]
            ],
            "type": "heatmapgl"
           }
          ],
          "histogram": [
           {
            "marker": {
             "colorbar": {
              "outlinewidth": 0,
              "ticks": ""
             }
            },
            "type": "histogram"
           }
          ],
          "histogram2d": [
           {
            "colorbar": {
             "outlinewidth": 0,
             "ticks": ""
            },
            "colorscale": [
             [
              0,
              "#0d0887"
             ],
             [
              0.1111111111111111,
              "#46039f"
             ],
             [
              0.2222222222222222,
              "#7201a8"
             ],
             [
              0.3333333333333333,
              "#9c179e"
             ],
             [
              0.4444444444444444,
              "#bd3786"
             ],
             [
              0.5555555555555556,
              "#d8576b"
             ],
             [
              0.6666666666666666,
              "#ed7953"
             ],
             [
              0.7777777777777778,
              "#fb9f3a"
             ],
             [
              0.8888888888888888,
              "#fdca26"
             ],
             [
              1,
              "#f0f921"
             ]
            ],
            "type": "histogram2d"
           }
          ],
          "histogram2dcontour": [
           {
            "colorbar": {
             "outlinewidth": 0,
             "ticks": ""
            },
            "colorscale": [
             [
              0,
              "#0d0887"
             ],
             [
              0.1111111111111111,
              "#46039f"
             ],
             [
              0.2222222222222222,
              "#7201a8"
             ],
             [
              0.3333333333333333,
              "#9c179e"
             ],
             [
              0.4444444444444444,
              "#bd3786"
             ],
             [
              0.5555555555555556,
              "#d8576b"
             ],
             [
              0.6666666666666666,
              "#ed7953"
             ],
             [
              0.7777777777777778,
              "#fb9f3a"
             ],
             [
              0.8888888888888888,
              "#fdca26"
             ],
             [
              1,
              "#f0f921"
             ]
            ],
            "type": "histogram2dcontour"
           }
          ],
          "mesh3d": [
           {
            "colorbar": {
             "outlinewidth": 0,
             "ticks": ""
            },
            "type": "mesh3d"
           }
          ],
          "parcoords": [
           {
            "line": {
             "colorbar": {
              "outlinewidth": 0,
              "ticks": ""
             }
            },
            "type": "parcoords"
           }
          ],
          "pie": [
           {
            "automargin": true,
            "type": "pie"
           }
          ],
          "scatter": [
           {
            "marker": {
             "colorbar": {
              "outlinewidth": 0,
              "ticks": ""
             }
            },
            "type": "scatter"
           }
          ],
          "scatter3d": [
           {
            "line": {
             "colorbar": {
              "outlinewidth": 0,
              "ticks": ""
             }
            },
            "marker": {
             "colorbar": {
              "outlinewidth": 0,
              "ticks": ""
             }
            },
            "type": "scatter3d"
           }
          ],
          "scattercarpet": [
           {
            "marker": {
             "colorbar": {
              "outlinewidth": 0,
              "ticks": ""
             }
            },
            "type": "scattercarpet"
           }
          ],
          "scattergeo": [
           {
            "marker": {
             "colorbar": {
              "outlinewidth": 0,
              "ticks": ""
             }
            },
            "type": "scattergeo"
           }
          ],
          "scattergl": [
           {
            "marker": {
             "colorbar": {
              "outlinewidth": 0,
              "ticks": ""
             }
            },
            "type": "scattergl"
           }
          ],
          "scattermapbox": [
           {
            "marker": {
             "colorbar": {
              "outlinewidth": 0,
              "ticks": ""
             }
            },
            "type": "scattermapbox"
           }
          ],
          "scatterpolar": [
           {
            "marker": {
             "colorbar": {
              "outlinewidth": 0,
              "ticks": ""
             }
            },
            "type": "scatterpolar"
           }
          ],
          "scatterpolargl": [
           {
            "marker": {
             "colorbar": {
              "outlinewidth": 0,
              "ticks": ""
             }
            },
            "type": "scatterpolargl"
           }
          ],
          "scatterternary": [
           {
            "marker": {
             "colorbar": {
              "outlinewidth": 0,
              "ticks": ""
             }
            },
            "type": "scatterternary"
           }
          ],
          "surface": [
           {
            "colorbar": {
             "outlinewidth": 0,
             "ticks": ""
            },
            "colorscale": [
             [
              0,
              "#0d0887"
             ],
             [
              0.1111111111111111,
              "#46039f"
             ],
             [
              0.2222222222222222,
              "#7201a8"
             ],
             [
              0.3333333333333333,
              "#9c179e"
             ],
             [
              0.4444444444444444,
              "#bd3786"
             ],
             [
              0.5555555555555556,
              "#d8576b"
             ],
             [
              0.6666666666666666,
              "#ed7953"
             ],
             [
              0.7777777777777778,
              "#fb9f3a"
             ],
             [
              0.8888888888888888,
              "#fdca26"
             ],
             [
              1,
              "#f0f921"
             ]
            ],
            "type": "surface"
           }
          ],
          "table": [
           {
            "cells": {
             "fill": {
              "color": "#EBF0F8"
             },
             "line": {
              "color": "white"
             }
            },
            "header": {
             "fill": {
              "color": "#C8D4E3"
             },
             "line": {
              "color": "white"
             }
            },
            "type": "table"
           }
          ]
         },
         "layout": {
          "annotationdefaults": {
           "arrowcolor": "#2a3f5f",
           "arrowhead": 0,
           "arrowwidth": 1
          },
          "autotypenumbers": "strict",
          "coloraxis": {
           "colorbar": {
            "outlinewidth": 0,
            "ticks": ""
           }
          },
          "colorscale": {
           "diverging": [
            [
             0,
             "#8e0152"
            ],
            [
             0.1,
             "#c51b7d"
            ],
            [
             0.2,
             "#de77ae"
            ],
            [
             0.3,
             "#f1b6da"
            ],
            [
             0.4,
             "#fde0ef"
            ],
            [
             0.5,
             "#f7f7f7"
            ],
            [
             0.6,
             "#e6f5d0"
            ],
            [
             0.7,
             "#b8e186"
            ],
            [
             0.8,
             "#7fbc41"
            ],
            [
             0.9,
             "#4d9221"
            ],
            [
             1,
             "#276419"
            ]
           ],
           "sequential": [
            [
             0,
             "#0d0887"
            ],
            [
             0.1111111111111111,
             "#46039f"
            ],
            [
             0.2222222222222222,
             "#7201a8"
            ],
            [
             0.3333333333333333,
             "#9c179e"
            ],
            [
             0.4444444444444444,
             "#bd3786"
            ],
            [
             0.5555555555555556,
             "#d8576b"
            ],
            [
             0.6666666666666666,
             "#ed7953"
            ],
            [
             0.7777777777777778,
             "#fb9f3a"
            ],
            [
             0.8888888888888888,
             "#fdca26"
            ],
            [
             1,
             "#f0f921"
            ]
           ],
           "sequentialminus": [
            [
             0,
             "#0d0887"
            ],
            [
             0.1111111111111111,
             "#46039f"
            ],
            [
             0.2222222222222222,
             "#7201a8"
            ],
            [
             0.3333333333333333,
             "#9c179e"
            ],
            [
             0.4444444444444444,
             "#bd3786"
            ],
            [
             0.5555555555555556,
             "#d8576b"
            ],
            [
             0.6666666666666666,
             "#ed7953"
            ],
            [
             0.7777777777777778,
             "#fb9f3a"
            ],
            [
             0.8888888888888888,
             "#fdca26"
            ],
            [
             1,
             "#f0f921"
            ]
           ]
          },
          "colorway": [
           "#636efa",
           "#EF553B",
           "#00cc96",
           "#ab63fa",
           "#FFA15A",
           "#19d3f3",
           "#FF6692",
           "#B6E880",
           "#FF97FF",
           "#FECB52"
          ],
          "font": {
           "color": "#2a3f5f"
          },
          "geo": {
           "bgcolor": "white",
           "lakecolor": "white",
           "landcolor": "#E5ECF6",
           "showlakes": true,
           "showland": true,
           "subunitcolor": "white"
          },
          "hoverlabel": {
           "align": "left"
          },
          "hovermode": "closest",
          "mapbox": {
           "style": "light"
          },
          "paper_bgcolor": "white",
          "plot_bgcolor": "#E5ECF6",
          "polar": {
           "angularaxis": {
            "gridcolor": "white",
            "linecolor": "white",
            "ticks": ""
           },
           "bgcolor": "#E5ECF6",
           "radialaxis": {
            "gridcolor": "white",
            "linecolor": "white",
            "ticks": ""
           }
          },
          "scene": {
           "xaxis": {
            "backgroundcolor": "#E5ECF6",
            "gridcolor": "white",
            "gridwidth": 2,
            "linecolor": "white",
            "showbackground": true,
            "ticks": "",
            "zerolinecolor": "white"
           },
           "yaxis": {
            "backgroundcolor": "#E5ECF6",
            "gridcolor": "white",
            "gridwidth": 2,
            "linecolor": "white",
            "showbackground": true,
            "ticks": "",
            "zerolinecolor": "white"
           },
           "zaxis": {
            "backgroundcolor": "#E5ECF6",
            "gridcolor": "white",
            "gridwidth": 2,
            "linecolor": "white",
            "showbackground": true,
            "ticks": "",
            "zerolinecolor": "white"
           }
          },
          "shapedefaults": {
           "line": {
            "color": "#2a3f5f"
           }
          },
          "ternary": {
           "aaxis": {
            "gridcolor": "white",
            "linecolor": "white",
            "ticks": ""
           },
           "baxis": {
            "gridcolor": "white",
            "linecolor": "white",
            "ticks": ""
           },
           "bgcolor": "#E5ECF6",
           "caxis": {
            "gridcolor": "white",
            "linecolor": "white",
            "ticks": ""
           }
          },
          "title": {
           "x": 0.05
          },
          "xaxis": {
           "automargin": true,
           "gridcolor": "white",
           "linecolor": "white",
           "ticks": "",
           "title": {
            "standoff": 15
           },
           "zerolinecolor": "white",
           "zerolinewidth": 2
          },
          "yaxis": {
           "automargin": true,
           "gridcolor": "white",
           "linecolor": "white",
           "ticks": "",
           "title": {
            "standoff": 15
           },
           "zerolinecolor": "white",
           "zerolinewidth": 2
          }
         }
        },
        "title": {
         "text": "P32249"
        },
        "xaxis": {
         "title": {
          "text": "postion"
         }
        },
        "yaxis": {
         "title": {
          "text": "pI"
         }
        }
       }
      },
      "text/html": [
       "<div>                            <div id=\"c956388d-e6bf-431a-8ebc-b2e406544b41\" class=\"plotly-graph-div\" style=\"height:525px; width:100%;\"></div>            <script type=\"text/javascript\">                require([\"plotly\"], function(Plotly) {                    window.PLOTLYENV=window.PLOTLYENV || {};                                    if (document.getElementById(\"c956388d-e6bf-431a-8ebc-b2e406544b41\")) {                    Plotly.newPlot(                        \"c956388d-e6bf-431a-8ebc-b2e406544b41\",                        [{\"type\": \"scatter\", \"x\": [0, 1, 2, 3, 4, 5, 6, 7, 8, 9, 10, 11, 12, 13, 14, 15, 16, 17, 18, 19, 20, 21, 22, 23, 24, 25, 26, 27, 28, 29, 30, 31, 32, 33, 34, 35, 36, 37, 38, 39, 40, 41, 42, 43, 44, 45, 46, 47, 48, 49, 50, 51, 52, 53, 54, 55, 56, 57, 58, 59, 60, 61, 62, 63, 64, 65, 66, 67, 68, 69, 70, 71, 72, 73, 74, 75, 76, 77, 78, 79, 80, 81, 82, 83, 84, 85, 86, 87, 88, 89, 90, 91, 92, 93, 94, 95, 96, 97, 98, 99, 100, 101, 102, 103, 104, 105, 106, 107, 108, 109, 110, 111, 112, 113, 114, 115, 116, 117, 118, 119, 120, 121, 122, 123, 124, 125, 126, 127, 128, 129, 130, 131, 132, 133, 134, 135, 136, 137, 138, 139, 140, 141, 142, 143, 144, 145, 146, 147, 148, 149, 150, 151, 152, 153, 154, 155, 156, 157, 158, 159, 160, 161, 162, 163, 164, 165, 166, 167, 168, 169, 170, 171, 172, 173, 174, 175, 176, 177, 178, 179, 180, 181, 182, 183, 184, 185, 186, 187, 188, 189, 190, 191, 192, 193, 194, 195, 196, 197, 198, 199, 200, 201, 202, 203, 204, 205, 206, 207, 208, 209, 210, 211, 212, 213, 214, 215, 216, 217, 218, 219, 220, 221, 222, 223, 224, 225, 226, 227, 228, 229, 230, 231, 232, 233, 234, 235, 236, 237, 238, 239, 240, 241, 242, 243, 244, 245, 246, 247, 248, 249, 250, 251, 252, 253, 254, 255, 256, 257, 258, 259, 260, 261, 262, 263, 264, 265, 266, 267, 268, 269, 270, 271, 272, 273, 274, 275, 276, 277, 278, 279, 280, 281, 282, 283, 284, 285, 286, 287, 288, 289, 290, 291, 292, 293, 294, 295, 296, 297, 298, 299, 300, 301, 302, 303, 304, 305, 306, 307, 308, 309, 310, 311, 312, 313, 314, 315, 316, 317, 318, 319, 320, 321, 322, 323, 324, 325, 326, 327, 328, 329, 330, 331, 332, 333, 334, 335, 336, 337, 338, 339, 340, 341, 342, 343, 344, 345, 346, 347, 348, 349, 350, 351, 352, 353, 354, 355, 356, 357, 358, 359, 360], \"y\": [5.74, 2.77, 6.02, 5.65, 5.74, 6.0, 5.41, 5.41, 5.48, 5.6, 6.3, 6.3, 5.68, 6.0, 5.6, 6.3, 5.65, 5.97, 5.41, 2.77, 5.07, 2.77, 5.98, 5.66, 6.0, 7.59, 7.59, 5.68, 5.6, 6.0, 10.76, 6.02, 5.96, 5.74, 6.3, 5.98, 7.59, 5.66, 5.68, 5.98, 5.96, 5.48, 6.02, 6.02, 5.97, 5.98, 5.96, 5.97, 5.41, 5.98, 5.98, 6.0, 5.98, 5.96, 5.96, 6.02, 5.96, 5.65, 5.41, 10.76, 9.74, 9.74, 6.02, 5.41, 5.68, 5.6, 5.6, 5.98, 5.66, 5.68, 5.6, 5.41, 5.98, 5.96, 6.02, 5.68, 2.77, 6.02, 5.98, 5.48, 5.6, 5.6, 6.0, 5.98, 6.3, 5.6, 10.76, 6.02, 6.0, 5.66, 5.66, 6.0, 5.74, 5.97, 5.48, 2.77, 5.89, 10.76, 6.02, 5.97, 2.77, 6.0, 5.98, 5.07, 10.76, 6.02, 5.6, 6.0, 5.98, 5.96, 5.48, 5.66, 6.02, 5.41, 5.6, 5.66, 6.0, 5.97, 5.96, 5.41, 5.48, 5.74, 5.6, 5.07, 5.98, 5.68, 6.02, 2.77, 10.76, 5.48, 6.02, 6.0, 5.96, 5.96, 7.59, 6.3, 5.98, 10.76, 5.66, 5.41, 9.74, 6.02, 9.74, 10.76, 6.02, 3.22, 7.59, 6.0, 9.74, 5.97, 5.96, 5.07, 6.02, 5.48, 5.96, 5.89, 6.02, 5.98, 5.96, 5.48, 6.0, 5.65, 5.6, 5.98, 6.3, 5.98, 5.98, 6.02, 5.41, 6.3, 5.74, 5.68, 9.74, 5.65, 3.22, 6.0, 3.22, 10.76, 6.02, 5.6, 5.07, 5.74, 3.22, 5.66, 6.3, 5.41, 5.48, 3.22, 3.22, 5.6, 9.74, 5.68, 5.98, 6.3, 5.89, 6.02, 5.98, 5.98, 5.97, 6.0, 5.07, 5.48, 6.02, 5.97, 5.66, 5.96, 5.98, 6.3, 5.98, 6.02, 6.02, 6.02, 5.98, 6.02, 5.07, 5.66, 5.68, 5.65, 6.02, 5.07, 5.07, 9.74, 5.98, 5.48, 10.76, 5.6, 6.0, 9.74, 5.65, 5.41, 6.3, 5.98, 5.6, 3.22, 9.74, 5.68, 5.97, 5.96, 5.41, 9.74, 9.74, 6.0, 5.98, 5.41, 5.6, 6.02, 6.02, 5.98, 6.02, 6.02, 5.96, 5.96, 5.48, 5.96, 5.98, 5.07, 5.48, 5.6, 6.3, 5.66, 7.59, 5.96, 6.0, 6.02, 6.02, 5.65, 7.59, 5.74, 6.02, 9.74, 9.74, 5.98, 10.76, 5.48, 5.68, 5.41, 5.48, 5.98, 3.22, 5.07, 5.68, 5.65, 10.76, 7.59, 5.68, 5.48, 5.65, 6.02, 5.68, 5.98, 7.59, 5.48, 5.6, 5.96, 5.07, 5.98, 5.74, 5.41, 5.48, 5.41, 5.07, 5.07, 5.74, 2.77, 6.3, 5.48, 6.02, 5.66, 5.48, 5.48, 6.0, 5.07, 9.74, 5.97, 5.66, 9.74, 10.76, 9.74, 5.96, 5.74, 10.76, 5.74, 5.98, 9.74, 10.76, 5.65, 5.96, 5.68, 5.96, 5.68, 6.02, 5.68, 5.68, 6.0, 5.96, 9.74, 5.68, 6.0, 6.3, 3.22, 3.22, 5.41, 5.68, 10.76, 3.22, 5.74, 5.6, 3.22, 5.6, 5.65, 5.74, 5.74, 6.02, 7.59, 5.68, 9.74, 5.68, 5.68, 5.41, 5.97, 9.74]}],                        {\"template\": {\"data\": {\"bar\": [{\"error_x\": {\"color\": \"#2a3f5f\"}, \"error_y\": {\"color\": \"#2a3f5f\"}, \"marker\": {\"line\": {\"color\": \"#E5ECF6\", \"width\": 0.5}}, \"type\": \"bar\"}], \"barpolar\": [{\"marker\": {\"line\": {\"color\": \"#E5ECF6\", \"width\": 0.5}}, \"type\": \"barpolar\"}], \"carpet\": [{\"aaxis\": {\"endlinecolor\": \"#2a3f5f\", \"gridcolor\": \"white\", \"linecolor\": \"white\", \"minorgridcolor\": \"white\", \"startlinecolor\": \"#2a3f5f\"}, \"baxis\": {\"endlinecolor\": \"#2a3f5f\", \"gridcolor\": \"white\", \"linecolor\": \"white\", \"minorgridcolor\": \"white\", \"startlinecolor\": \"#2a3f5f\"}, \"type\": \"carpet\"}], \"choropleth\": [{\"colorbar\": {\"outlinewidth\": 0, \"ticks\": \"\"}, \"type\": \"choropleth\"}], \"contour\": [{\"colorbar\": {\"outlinewidth\": 0, \"ticks\": \"\"}, \"colorscale\": [[0.0, \"#0d0887\"], [0.1111111111111111, \"#46039f\"], [0.2222222222222222, \"#7201a8\"], [0.3333333333333333, \"#9c179e\"], [0.4444444444444444, \"#bd3786\"], [0.5555555555555556, \"#d8576b\"], [0.6666666666666666, \"#ed7953\"], [0.7777777777777778, \"#fb9f3a\"], [0.8888888888888888, \"#fdca26\"], [1.0, \"#f0f921\"]], \"type\": \"contour\"}], \"contourcarpet\": [{\"colorbar\": {\"outlinewidth\": 0, \"ticks\": \"\"}, \"type\": \"contourcarpet\"}], \"heatmap\": [{\"colorbar\": {\"outlinewidth\": 0, \"ticks\": \"\"}, \"colorscale\": [[0.0, \"#0d0887\"], [0.1111111111111111, \"#46039f\"], [0.2222222222222222, \"#7201a8\"], [0.3333333333333333, \"#9c179e\"], [0.4444444444444444, \"#bd3786\"], [0.5555555555555556, \"#d8576b\"], [0.6666666666666666, \"#ed7953\"], [0.7777777777777778, \"#fb9f3a\"], [0.8888888888888888, \"#fdca26\"], [1.0, \"#f0f921\"]], \"type\": \"heatmap\"}], \"heatmapgl\": [{\"colorbar\": {\"outlinewidth\": 0, \"ticks\": \"\"}, \"colorscale\": [[0.0, \"#0d0887\"], [0.1111111111111111, \"#46039f\"], [0.2222222222222222, \"#7201a8\"], [0.3333333333333333, \"#9c179e\"], [0.4444444444444444, \"#bd3786\"], [0.5555555555555556, \"#d8576b\"], [0.6666666666666666, \"#ed7953\"], [0.7777777777777778, \"#fb9f3a\"], [0.8888888888888888, \"#fdca26\"], [1.0, \"#f0f921\"]], \"type\": \"heatmapgl\"}], \"histogram\": [{\"marker\": {\"colorbar\": {\"outlinewidth\": 0, \"ticks\": \"\"}}, \"type\": \"histogram\"}], \"histogram2d\": [{\"colorbar\": {\"outlinewidth\": 0, \"ticks\": \"\"}, \"colorscale\": [[0.0, \"#0d0887\"], [0.1111111111111111, \"#46039f\"], [0.2222222222222222, \"#7201a8\"], [0.3333333333333333, \"#9c179e\"], [0.4444444444444444, \"#bd3786\"], [0.5555555555555556, \"#d8576b\"], [0.6666666666666666, \"#ed7953\"], [0.7777777777777778, \"#fb9f3a\"], [0.8888888888888888, \"#fdca26\"], [1.0, \"#f0f921\"]], \"type\": \"histogram2d\"}], \"histogram2dcontour\": [{\"colorbar\": {\"outlinewidth\": 0, \"ticks\": \"\"}, \"colorscale\": [[0.0, \"#0d0887\"], [0.1111111111111111, \"#46039f\"], [0.2222222222222222, \"#7201a8\"], [0.3333333333333333, \"#9c179e\"], [0.4444444444444444, \"#bd3786\"], [0.5555555555555556, \"#d8576b\"], [0.6666666666666666, \"#ed7953\"], [0.7777777777777778, \"#fb9f3a\"], [0.8888888888888888, \"#fdca26\"], [1.0, \"#f0f921\"]], \"type\": \"histogram2dcontour\"}], \"mesh3d\": [{\"colorbar\": {\"outlinewidth\": 0, \"ticks\": \"\"}, \"type\": \"mesh3d\"}], \"parcoords\": [{\"line\": {\"colorbar\": {\"outlinewidth\": 0, \"ticks\": \"\"}}, \"type\": \"parcoords\"}], \"pie\": [{\"automargin\": true, \"type\": \"pie\"}], \"scatter\": [{\"marker\": {\"colorbar\": {\"outlinewidth\": 0, \"ticks\": \"\"}}, \"type\": \"scatter\"}], \"scatter3d\": [{\"line\": {\"colorbar\": {\"outlinewidth\": 0, \"ticks\": \"\"}}, \"marker\": {\"colorbar\": {\"outlinewidth\": 0, \"ticks\": \"\"}}, \"type\": \"scatter3d\"}], \"scattercarpet\": [{\"marker\": {\"colorbar\": {\"outlinewidth\": 0, \"ticks\": \"\"}}, \"type\": \"scattercarpet\"}], \"scattergeo\": [{\"marker\": {\"colorbar\": {\"outlinewidth\": 0, \"ticks\": \"\"}}, \"type\": \"scattergeo\"}], \"scattergl\": [{\"marker\": {\"colorbar\": {\"outlinewidth\": 0, \"ticks\": \"\"}}, \"type\": \"scattergl\"}], \"scattermapbox\": [{\"marker\": {\"colorbar\": {\"outlinewidth\": 0, \"ticks\": \"\"}}, \"type\": \"scattermapbox\"}], \"scatterpolar\": [{\"marker\": {\"colorbar\": {\"outlinewidth\": 0, \"ticks\": \"\"}}, \"type\": \"scatterpolar\"}], \"scatterpolargl\": [{\"marker\": {\"colorbar\": {\"outlinewidth\": 0, \"ticks\": \"\"}}, \"type\": \"scatterpolargl\"}], \"scatterternary\": [{\"marker\": {\"colorbar\": {\"outlinewidth\": 0, \"ticks\": \"\"}}, \"type\": \"scatterternary\"}], \"surface\": [{\"colorbar\": {\"outlinewidth\": 0, \"ticks\": \"\"}, \"colorscale\": [[0.0, \"#0d0887\"], [0.1111111111111111, \"#46039f\"], [0.2222222222222222, \"#7201a8\"], [0.3333333333333333, \"#9c179e\"], [0.4444444444444444, \"#bd3786\"], [0.5555555555555556, \"#d8576b\"], [0.6666666666666666, \"#ed7953\"], [0.7777777777777778, \"#fb9f3a\"], [0.8888888888888888, \"#fdca26\"], [1.0, \"#f0f921\"]], \"type\": \"surface\"}], \"table\": [{\"cells\": {\"fill\": {\"color\": \"#EBF0F8\"}, \"line\": {\"color\": \"white\"}}, \"header\": {\"fill\": {\"color\": \"#C8D4E3\"}, \"line\": {\"color\": \"white\"}}, \"type\": \"table\"}]}, \"layout\": {\"annotationdefaults\": {\"arrowcolor\": \"#2a3f5f\", \"arrowhead\": 0, \"arrowwidth\": 1}, \"autotypenumbers\": \"strict\", \"coloraxis\": {\"colorbar\": {\"outlinewidth\": 0, \"ticks\": \"\"}}, \"colorscale\": {\"diverging\": [[0, \"#8e0152\"], [0.1, \"#c51b7d\"], [0.2, \"#de77ae\"], [0.3, \"#f1b6da\"], [0.4, \"#fde0ef\"], [0.5, \"#f7f7f7\"], [0.6, \"#e6f5d0\"], [0.7, \"#b8e186\"], [0.8, \"#7fbc41\"], [0.9, \"#4d9221\"], [1, \"#276419\"]], \"sequential\": [[0.0, \"#0d0887\"], [0.1111111111111111, \"#46039f\"], [0.2222222222222222, \"#7201a8\"], [0.3333333333333333, \"#9c179e\"], [0.4444444444444444, \"#bd3786\"], [0.5555555555555556, \"#d8576b\"], [0.6666666666666666, \"#ed7953\"], [0.7777777777777778, \"#fb9f3a\"], [0.8888888888888888, \"#fdca26\"], [1.0, \"#f0f921\"]], \"sequentialminus\": [[0.0, \"#0d0887\"], [0.1111111111111111, \"#46039f\"], [0.2222222222222222, \"#7201a8\"], [0.3333333333333333, \"#9c179e\"], [0.4444444444444444, \"#bd3786\"], [0.5555555555555556, \"#d8576b\"], [0.6666666666666666, \"#ed7953\"], [0.7777777777777778, \"#fb9f3a\"], [0.8888888888888888, \"#fdca26\"], [1.0, \"#f0f921\"]]}, \"colorway\": [\"#636efa\", \"#EF553B\", \"#00cc96\", \"#ab63fa\", \"#FFA15A\", \"#19d3f3\", \"#FF6692\", \"#B6E880\", \"#FF97FF\", \"#FECB52\"], \"font\": {\"color\": \"#2a3f5f\"}, \"geo\": {\"bgcolor\": \"white\", \"lakecolor\": \"white\", \"landcolor\": \"#E5ECF6\", \"showlakes\": true, \"showland\": true, \"subunitcolor\": \"white\"}, \"hoverlabel\": {\"align\": \"left\"}, \"hovermode\": \"closest\", \"mapbox\": {\"style\": \"light\"}, \"paper_bgcolor\": \"white\", \"plot_bgcolor\": \"#E5ECF6\", \"polar\": {\"angularaxis\": {\"gridcolor\": \"white\", \"linecolor\": \"white\", \"ticks\": \"\"}, \"bgcolor\": \"#E5ECF6\", \"radialaxis\": {\"gridcolor\": \"white\", \"linecolor\": \"white\", \"ticks\": \"\"}}, \"scene\": {\"xaxis\": {\"backgroundcolor\": \"#E5ECF6\", \"gridcolor\": \"white\", \"gridwidth\": 2, \"linecolor\": \"white\", \"showbackground\": true, \"ticks\": \"\", \"zerolinecolor\": \"white\"}, \"yaxis\": {\"backgroundcolor\": \"#E5ECF6\", \"gridcolor\": \"white\", \"gridwidth\": 2, \"linecolor\": \"white\", \"showbackground\": true, \"ticks\": \"\", \"zerolinecolor\": \"white\"}, \"zaxis\": {\"backgroundcolor\": \"#E5ECF6\", \"gridcolor\": \"white\", \"gridwidth\": 2, \"linecolor\": \"white\", \"showbackground\": true, \"ticks\": \"\", \"zerolinecolor\": \"white\"}}, \"shapedefaults\": {\"line\": {\"color\": \"#2a3f5f\"}}, \"ternary\": {\"aaxis\": {\"gridcolor\": \"white\", \"linecolor\": \"white\", \"ticks\": \"\"}, \"baxis\": {\"gridcolor\": \"white\", \"linecolor\": \"white\", \"ticks\": \"\"}, \"bgcolor\": \"#E5ECF6\", \"caxis\": {\"gridcolor\": \"white\", \"linecolor\": \"white\", \"ticks\": \"\"}}, \"title\": {\"x\": 0.05}, \"xaxis\": {\"automargin\": true, \"gridcolor\": \"white\", \"linecolor\": \"white\", \"ticks\": \"\", \"title\": {\"standoff\": 15}, \"zerolinecolor\": \"white\", \"zerolinewidth\": 2}, \"yaxis\": {\"automargin\": true, \"gridcolor\": \"white\", \"linecolor\": \"white\", \"ticks\": \"\", \"title\": {\"standoff\": 15}, \"zerolinecolor\": \"white\", \"zerolinewidth\": 2}}}, \"title\": {\"text\": \"P32249\"}, \"xaxis\": {\"title\": {\"text\": \"postion\"}}, \"yaxis\": {\"title\": {\"text\": \"pI\"}}},                        {\"responsive\": true}                    ).then(function(){\n",
       "                            \n",
       "var gd = document.getElementById('c956388d-e6bf-431a-8ebc-b2e406544b41');\n",
       "var x = new MutationObserver(function (mutations, observer) {{\n",
       "        var display = window.getComputedStyle(gd).display;\n",
       "        if (!display || display === 'none') {{\n",
       "            console.log([gd, 'removed!']);\n",
       "            Plotly.purge(gd);\n",
       "            observer.disconnect();\n",
       "        }}\n",
       "}});\n",
       "\n",
       "// Listen for the removal of the full notebook cells\n",
       "var notebookContainer = gd.closest('#notebook-container');\n",
       "if (notebookContainer) {{\n",
       "    x.observe(notebookContainer, {childList: true});\n",
       "}}\n",
       "\n",
       "// Listen for the clearing of the current output cell\n",
       "var outputEl = gd.closest('.output');\n",
       "if (outputEl) {{\n",
       "    x.observe(outputEl, {childList: true});\n",
       "}}\n",
       "\n",
       "                        })                };                });            </script>        </div>"
      ]
     },
     "metadata": {},
     "output_type": "display_data"
    }
   ],
   "source": [
    "Id = 'P32249'\n",
    "lookup = make_lookup()\n",
    "prop = 'pI'\n",
    "# prop = 'hydropathy index (Kyte-Doolittle method)'\n",
    "\n",
    "prot = Protein(lookup)\n",
    "seq = prot.get_data(Id)\n",
    "prop_values = prot.map_property(prop)\n",
    "# prop_values_smooted = prot.rolling_mean(prop, 15)\n",
    "prot.make_plot()"
   ]
  },
  {
   "cell_type": "code",
   "execution_count": 6,
   "metadata": {},
   "outputs": [],
   "source": [
    "file_path = '../data/amino_acid_properties.csv'\n",
    "properties_df = pd.read_csv(file_path, index_col='1-letter code')"
   ]
  },
  {
   "cell_type": "code",
   "execution_count": 7,
   "metadata": {},
   "outputs": [
    {
     "data": {
      "text/html": [
       "<div>\n",
       "<style scoped>\n",
       "    .dataframe tbody tr th:only-of-type {\n",
       "        vertical-align: middle;\n",
       "    }\n",
       "\n",
       "    .dataframe tbody tr th {\n",
       "        vertical-align: top;\n",
       "    }\n",
       "\n",
       "    .dataframe thead th {\n",
       "        text-align: right;\n",
       "    }\n",
       "</style>\n",
       "<table border=\"1\" class=\"dataframe\">\n",
       "  <thead>\n",
       "    <tr style=\"text-align: right;\">\n",
       "      <th></th>\n",
       "      <th>Name</th>\n",
       "      <th>3-letter code</th>\n",
       "      <th>Molecular Weight</th>\n",
       "      <th>Molecular Formula</th>\n",
       "      <th>Residue Formula</th>\n",
       "      <th>Residue Weight</th>\n",
       "      <th>pka1</th>\n",
       "      <th>pka2</th>\n",
       "      <th>pkaX</th>\n",
       "      <th>pI</th>\n",
       "      <th>hydropathy index (Kyte-Doolittle method)</th>\n",
       "      <th>Accessible surface</th>\n",
       "    </tr>\n",
       "    <tr>\n",
       "      <th>1-letter code</th>\n",
       "      <th></th>\n",
       "      <th></th>\n",
       "      <th></th>\n",
       "      <th></th>\n",
       "      <th></th>\n",
       "      <th></th>\n",
       "      <th></th>\n",
       "      <th></th>\n",
       "      <th></th>\n",
       "      <th></th>\n",
       "      <th></th>\n",
       "      <th></th>\n",
       "    </tr>\n",
       "  </thead>\n",
       "  <tbody>\n",
       "    <tr>\n",
       "      <th>A</th>\n",
       "      <td>Alanine</td>\n",
       "      <td>Ala</td>\n",
       "      <td>89.10</td>\n",
       "      <td>C3H7NO2</td>\n",
       "      <td>C3H5NO</td>\n",
       "      <td>71.08</td>\n",
       "      <td>2.34</td>\n",
       "      <td>9.69</td>\n",
       "      <td>NaN</td>\n",
       "      <td>6.00</td>\n",
       "      <td>1.8</td>\n",
       "      <td>44.1</td>\n",
       "    </tr>\n",
       "    <tr>\n",
       "      <th>R</th>\n",
       "      <td>Arginine</td>\n",
       "      <td>Arg</td>\n",
       "      <td>174.20</td>\n",
       "      <td>C6H14N4O2</td>\n",
       "      <td>C6H12N4O</td>\n",
       "      <td>156.19</td>\n",
       "      <td>2.17</td>\n",
       "      <td>9.04</td>\n",
       "      <td>12.48</td>\n",
       "      <td>10.76</td>\n",
       "      <td>-4.5</td>\n",
       "      <td>159.2</td>\n",
       "    </tr>\n",
       "    <tr>\n",
       "      <th>N</th>\n",
       "      <td>Asparagine</td>\n",
       "      <td>Asn</td>\n",
       "      <td>132.12</td>\n",
       "      <td>C4H8N2O3</td>\n",
       "      <td>C4H6N2O2</td>\n",
       "      <td>114.11</td>\n",
       "      <td>2.02</td>\n",
       "      <td>8.80</td>\n",
       "      <td>NaN</td>\n",
       "      <td>5.41</td>\n",
       "      <td>-3.5</td>\n",
       "      <td>80.8</td>\n",
       "    </tr>\n",
       "    <tr>\n",
       "      <th>D</th>\n",
       "      <td>Aspartic acid</td>\n",
       "      <td>Asp</td>\n",
       "      <td>133.11</td>\n",
       "      <td>C4H7NO4</td>\n",
       "      <td>C4H5NO3</td>\n",
       "      <td>115.09</td>\n",
       "      <td>1.88</td>\n",
       "      <td>9.60</td>\n",
       "      <td>3.65</td>\n",
       "      <td>2.77</td>\n",
       "      <td>-3.5</td>\n",
       "      <td>76.3</td>\n",
       "    </tr>\n",
       "    <tr>\n",
       "      <th>C</th>\n",
       "      <td>Cysteine</td>\n",
       "      <td>Cys</td>\n",
       "      <td>121.16</td>\n",
       "      <td>C3H7NO2S</td>\n",
       "      <td>C3H5NOS</td>\n",
       "      <td>103.15</td>\n",
       "      <td>1.96</td>\n",
       "      <td>10.28</td>\n",
       "      <td>8.18</td>\n",
       "      <td>5.07</td>\n",
       "      <td>2.5</td>\n",
       "      <td>56.4</td>\n",
       "    </tr>\n",
       "    <tr>\n",
       "      <th>E</th>\n",
       "      <td>Glutamic acid</td>\n",
       "      <td>Glu</td>\n",
       "      <td>147.13</td>\n",
       "      <td>C5H9NO4</td>\n",
       "      <td>C5H7NO3</td>\n",
       "      <td>129.12</td>\n",
       "      <td>2.19</td>\n",
       "      <td>9.67</td>\n",
       "      <td>4.25</td>\n",
       "      <td>3.22</td>\n",
       "      <td>-3.5</td>\n",
       "      <td>99.2</td>\n",
       "    </tr>\n",
       "    <tr>\n",
       "      <th>Q</th>\n",
       "      <td>Glutamine</td>\n",
       "      <td>Gln</td>\n",
       "      <td>146.15</td>\n",
       "      <td>C5H10N2O3</td>\n",
       "      <td>C5H8N2O2</td>\n",
       "      <td>128.13</td>\n",
       "      <td>2.17</td>\n",
       "      <td>9.13</td>\n",
       "      <td>NaN</td>\n",
       "      <td>5.65</td>\n",
       "      <td>-3.5</td>\n",
       "      <td>100.6</td>\n",
       "    </tr>\n",
       "    <tr>\n",
       "      <th>G</th>\n",
       "      <td>Glycine</td>\n",
       "      <td>Gly</td>\n",
       "      <td>75.07</td>\n",
       "      <td>C2H5NO2</td>\n",
       "      <td>C2H3NO</td>\n",
       "      <td>57.05</td>\n",
       "      <td>2.34</td>\n",
       "      <td>9.60</td>\n",
       "      <td>NaN</td>\n",
       "      <td>5.97</td>\n",
       "      <td>-0.4</td>\n",
       "      <td>0.0</td>\n",
       "    </tr>\n",
       "    <tr>\n",
       "      <th>H</th>\n",
       "      <td>Histidine</td>\n",
       "      <td>His</td>\n",
       "      <td>155.16</td>\n",
       "      <td>C6H9N3O2</td>\n",
       "      <td>C6H7N3O</td>\n",
       "      <td>137.14</td>\n",
       "      <td>1.82</td>\n",
       "      <td>9.17</td>\n",
       "      <td>6.00</td>\n",
       "      <td>7.59</td>\n",
       "      <td>-3.2</td>\n",
       "      <td>98.2</td>\n",
       "    </tr>\n",
       "    <tr>\n",
       "      <th>I</th>\n",
       "      <td>Isoleucine</td>\n",
       "      <td>Ile</td>\n",
       "      <td>131.18</td>\n",
       "      <td>C6H13NO2</td>\n",
       "      <td>C6H11NO</td>\n",
       "      <td>113.16</td>\n",
       "      <td>2.36</td>\n",
       "      <td>9.60</td>\n",
       "      <td>NaN</td>\n",
       "      <td>6.02</td>\n",
       "      <td>4.5</td>\n",
       "      <td>90.9</td>\n",
       "    </tr>\n",
       "    <tr>\n",
       "      <th>L</th>\n",
       "      <td>Leucine</td>\n",
       "      <td>Leu</td>\n",
       "      <td>131.18</td>\n",
       "      <td>C6H13NO2</td>\n",
       "      <td>C6H11NO</td>\n",
       "      <td>113.16</td>\n",
       "      <td>2.36</td>\n",
       "      <td>9.60</td>\n",
       "      <td>NaN</td>\n",
       "      <td>5.98</td>\n",
       "      <td>3.8</td>\n",
       "      <td>92.8</td>\n",
       "    </tr>\n",
       "    <tr>\n",
       "      <th>K</th>\n",
       "      <td>Lysine</td>\n",
       "      <td>Lys</td>\n",
       "      <td>146.19</td>\n",
       "      <td>C6H14N2O2</td>\n",
       "      <td>C6H12N2O</td>\n",
       "      <td>128.18</td>\n",
       "      <td>2.18</td>\n",
       "      <td>8.95</td>\n",
       "      <td>10.53</td>\n",
       "      <td>9.74</td>\n",
       "      <td>-3.9</td>\n",
       "      <td>139.1</td>\n",
       "    </tr>\n",
       "    <tr>\n",
       "      <th>M</th>\n",
       "      <td>Methionine</td>\n",
       "      <td>Met</td>\n",
       "      <td>149.21</td>\n",
       "      <td>C5H11NO2S</td>\n",
       "      <td>C5H9NOS</td>\n",
       "      <td>131.20</td>\n",
       "      <td>2.28</td>\n",
       "      <td>9.21</td>\n",
       "      <td>NaN</td>\n",
       "      <td>5.74</td>\n",
       "      <td>1.9</td>\n",
       "      <td>95.3</td>\n",
       "    </tr>\n",
       "    <tr>\n",
       "      <th>F</th>\n",
       "      <td>Phenylalanine</td>\n",
       "      <td>Phe</td>\n",
       "      <td>165.19</td>\n",
       "      <td>C9H11NO2</td>\n",
       "      <td>C9H9NO</td>\n",
       "      <td>147.18</td>\n",
       "      <td>1.83</td>\n",
       "      <td>9.13</td>\n",
       "      <td>NaN</td>\n",
       "      <td>5.48</td>\n",
       "      <td>2.8</td>\n",
       "      <td>107.4</td>\n",
       "    </tr>\n",
       "    <tr>\n",
       "      <th>P</th>\n",
       "      <td>Proline</td>\n",
       "      <td>Pro</td>\n",
       "      <td>115.13</td>\n",
       "      <td>C5H9NO2</td>\n",
       "      <td>C5H7NO</td>\n",
       "      <td>97.12</td>\n",
       "      <td>1.99</td>\n",
       "      <td>10.60</td>\n",
       "      <td>NaN</td>\n",
       "      <td>6.30</td>\n",
       "      <td>-1.6</td>\n",
       "      <td>79.5</td>\n",
       "    </tr>\n",
       "    <tr>\n",
       "      <th>S</th>\n",
       "      <td>Serine</td>\n",
       "      <td>Ser</td>\n",
       "      <td>105.09</td>\n",
       "      <td>C3H7NO3</td>\n",
       "      <td>C3H5NO2</td>\n",
       "      <td>87.08</td>\n",
       "      <td>2.21</td>\n",
       "      <td>9.15</td>\n",
       "      <td>NaN</td>\n",
       "      <td>5.68</td>\n",
       "      <td>-0.8</td>\n",
       "      <td>57.5</td>\n",
       "    </tr>\n",
       "    <tr>\n",
       "      <th>T</th>\n",
       "      <td>Threonine</td>\n",
       "      <td>Thr</td>\n",
       "      <td>119.12</td>\n",
       "      <td>C4H9NO3</td>\n",
       "      <td>C4H7NO2</td>\n",
       "      <td>101.11</td>\n",
       "      <td>2.09</td>\n",
       "      <td>9.10</td>\n",
       "      <td>NaN</td>\n",
       "      <td>5.60</td>\n",
       "      <td>-0.7</td>\n",
       "      <td>73.4</td>\n",
       "    </tr>\n",
       "    <tr>\n",
       "      <th>W</th>\n",
       "      <td>Tryptophan</td>\n",
       "      <td>Trp</td>\n",
       "      <td>204.23</td>\n",
       "      <td>C11H12N2O2</td>\n",
       "      <td>C11H10N2O</td>\n",
       "      <td>186.22</td>\n",
       "      <td>2.83</td>\n",
       "      <td>9.39</td>\n",
       "      <td>NaN</td>\n",
       "      <td>5.89</td>\n",
       "      <td>-0.9</td>\n",
       "      <td>143.4</td>\n",
       "    </tr>\n",
       "    <tr>\n",
       "      <th>Y</th>\n",
       "      <td>Tyrosine</td>\n",
       "      <td>Tyr</td>\n",
       "      <td>181.19</td>\n",
       "      <td>C9H11NO3</td>\n",
       "      <td>C9H9NO2</td>\n",
       "      <td>163.18</td>\n",
       "      <td>2.20</td>\n",
       "      <td>9.11</td>\n",
       "      <td>10.07</td>\n",
       "      <td>5.66</td>\n",
       "      <td>-1.3</td>\n",
       "      <td>119.1</td>\n",
       "    </tr>\n",
       "    <tr>\n",
       "      <th>V</th>\n",
       "      <td>Valine</td>\n",
       "      <td>Val</td>\n",
       "      <td>117.15</td>\n",
       "      <td>C5H11NO2</td>\n",
       "      <td>C5H9NO</td>\n",
       "      <td>99.13</td>\n",
       "      <td>2.32</td>\n",
       "      <td>9.62</td>\n",
       "      <td>NaN</td>\n",
       "      <td>5.96</td>\n",
       "      <td>4.2</td>\n",
       "      <td>73.0</td>\n",
       "    </tr>\n",
       "  </tbody>\n",
       "</table>\n",
       "</div>"
      ],
      "text/plain": [
       "                        Name 3-letter code  Molecular Weight  \\\n",
       "1-letter code                                                  \n",
       "A                    Alanine           Ala             89.10   \n",
       "R                   Arginine           Arg            174.20   \n",
       "N                 Asparagine           Asn            132.12   \n",
       "D              Aspartic acid           Asp            133.11   \n",
       "C                   Cysteine           Cys            121.16   \n",
       "E              Glutamic acid           Glu            147.13   \n",
       "Q                  Glutamine           Gln            146.15   \n",
       "G                    Glycine           Gly             75.07   \n",
       "H                  Histidine           His            155.16   \n",
       "I                 Isoleucine           Ile            131.18   \n",
       "L                    Leucine           Leu            131.18   \n",
       "K                     Lysine           Lys            146.19   \n",
       "M                 Methionine           Met            149.21   \n",
       "F              Phenylalanine           Phe            165.19   \n",
       "P                    Proline           Pro            115.13   \n",
       "S                     Serine           Ser            105.09   \n",
       "T                  Threonine           Thr            119.12   \n",
       "W                 Tryptophan           Trp            204.23   \n",
       "Y                   Tyrosine           Tyr            181.19   \n",
       "V                     Valine           Val            117.15   \n",
       "\n",
       "              Molecular Formula Residue Formula  Residue Weight  pka1   pka2  \\\n",
       "1-letter code                                                                  \n",
       "A                       C3H7NO2          C3H5NO           71.08  2.34   9.69   \n",
       "R                     C6H14N4O2        C6H12N4O          156.19  2.17   9.04   \n",
       "N                      C4H8N2O3        C4H6N2O2          114.11  2.02   8.80   \n",
       "D                       C4H7NO4         C4H5NO3          115.09  1.88   9.60   \n",
       "C                      C3H7NO2S         C3H5NOS          103.15  1.96  10.28   \n",
       "E                       C5H9NO4         C5H7NO3          129.12  2.19   9.67   \n",
       "Q                     C5H10N2O3        C5H8N2O2          128.13  2.17   9.13   \n",
       "G                       C2H5NO2          C2H3NO           57.05  2.34   9.60   \n",
       "H                      C6H9N3O2         C6H7N3O          137.14  1.82   9.17   \n",
       "I                      C6H13NO2         C6H11NO          113.16  2.36   9.60   \n",
       "L                      C6H13NO2         C6H11NO          113.16  2.36   9.60   \n",
       "K                     C6H14N2O2        C6H12N2O          128.18  2.18   8.95   \n",
       "M                     C5H11NO2S         C5H9NOS          131.20  2.28   9.21   \n",
       "F                      C9H11NO2          C9H9NO          147.18  1.83   9.13   \n",
       "P                       C5H9NO2          C5H7NO           97.12  1.99  10.60   \n",
       "S                       C3H7NO3         C3H5NO2           87.08  2.21   9.15   \n",
       "T                       C4H9NO3         C4H7NO2          101.11  2.09   9.10   \n",
       "W                    C11H12N2O2       C11H10N2O          186.22  2.83   9.39   \n",
       "Y                      C9H11NO3         C9H9NO2          163.18  2.20   9.11   \n",
       "V                      C5H11NO2          C5H9NO           99.13  2.32   9.62   \n",
       "\n",
       "                pkaX     pI  hydropathy index (Kyte-Doolittle method)  \\\n",
       "1-letter code                                                           \n",
       "A                NaN   6.00                                       1.8   \n",
       "R              12.48  10.76                                      -4.5   \n",
       "N                NaN   5.41                                      -3.5   \n",
       "D               3.65   2.77                                      -3.5   \n",
       "C               8.18   5.07                                       2.5   \n",
       "E               4.25   3.22                                      -3.5   \n",
       "Q                NaN   5.65                                      -3.5   \n",
       "G                NaN   5.97                                      -0.4   \n",
       "H               6.00   7.59                                      -3.2   \n",
       "I                NaN   6.02                                       4.5   \n",
       "L                NaN   5.98                                       3.8   \n",
       "K              10.53   9.74                                      -3.9   \n",
       "M                NaN   5.74                                       1.9   \n",
       "F                NaN   5.48                                       2.8   \n",
       "P                NaN   6.30                                      -1.6   \n",
       "S                NaN   5.68                                      -0.8   \n",
       "T                NaN   5.60                                      -0.7   \n",
       "W                NaN   5.89                                      -0.9   \n",
       "Y              10.07   5.66                                      -1.3   \n",
       "V                NaN   5.96                                       4.2   \n",
       "\n",
       "               Accessible surface  \n",
       "1-letter code                      \n",
       "A                            44.1  \n",
       "R                           159.2  \n",
       "N                            80.8  \n",
       "D                            76.3  \n",
       "C                            56.4  \n",
       "E                            99.2  \n",
       "Q                           100.6  \n",
       "G                             0.0  \n",
       "H                            98.2  \n",
       "I                            90.9  \n",
       "L                            92.8  \n",
       "K                           139.1  \n",
       "M                            95.3  \n",
       "F                           107.4  \n",
       "P                            79.5  \n",
       "S                            57.5  \n",
       "T                            73.4  \n",
       "W                           143.4  \n",
       "Y                           119.1  \n",
       "V                            73.0  "
      ]
     },
     "execution_count": 7,
     "metadata": {},
     "output_type": "execute_result"
    }
   ],
   "source": [
    "properties_df"
   ]
  },
  {
   "cell_type": "code",
   "execution_count": 8,
   "metadata": {},
   "outputs": [
    {
     "data": {
      "text/plain": [
       "Index(['Name', '3-letter code', 'Molecular Weight', 'Molecular Formula',\n",
       "       'Residue Formula', 'Residue Weight', 'pka1', 'pka2', 'pkaX', 'pI',\n",
       "       'hydropathy index (Kyte-Doolittle method)', 'Accessible surface'],\n",
       "      dtype='object')"
      ]
     },
     "execution_count": 8,
     "metadata": {},
     "output_type": "execute_result"
    }
   ],
   "source": [
    "properties_df.columns"
   ]
  }
 ],
 "metadata": {
  "kernelspec": {
   "display_name": "Python 3",
   "language": "python",
   "name": "python3"
  },
  "language_info": {
   "codemirror_mode": {
    "name": "ipython",
    "version": 3
   },
   "file_extension": ".py",
   "mimetype": "text/x-python",
   "name": "python",
   "nbconvert_exporter": "python",
   "pygments_lexer": "ipython3",
   "version": "3.7.4"
  }
 },
 "nbformat": 4,
 "nbformat_minor": 1
}
