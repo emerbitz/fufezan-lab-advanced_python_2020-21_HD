{
 "cells": [
  {
   "cell_type": "code",
   "execution_count": null,
   "metadata": {
    "pycharm": {
     "name": "#%%\n"
    }
   },
   "outputs": [],
   "source": [
    "import pandas as pd \n",
    "import numpy as np\n",
    "import re "
   ]
  },
  {
   "cell_type": "code",
   "execution_count": null,
   "metadata": {},
   "outputs": [],
   "source": [
    "mz_min = 300\n",
    "mz_max = 1500\n",
    "collision_energy_min = 0\n",
    "collision_energy_max = 100\n",
    "sequence_length_max = 50\n",
    "\n",
    "spectrum_df = pd.DataFrame()\n",
    "sequence_lst = []\n",
    "with open('../data/cptac2_mouse_hcd_selected.msp') as msp_file:\n",
    "    for box_num, box in  enumerate(msp_file.read().split('\\n\\n')):\n",
    "        print(box_num)\n",
    "        head, tail = box.split('\\n', maxsplit=1)\n",
    "        seq, col_energy  = head[6:-2].split('/')\n",
    "        col_energy = float(col_energy.split('_')[-1])\n",
    "#         print(head)\n",
    "#         print(seq)\n",
    "#         print(col_energy)\n",
    "#         print(len(seq))\n",
    "        if ((collision_energy_min <= col_energy <= collision_energy_max) & (len(seq)  <= sequence_length_max)) is False:\n",
    "            continue\n",
    "#         print(box_num)\n",
    "        sequence_lst.append(seq)\n",
    "        spectrum_lst = []\n",
    "        for pos, line in enumerate(tail.split('\\n')[3:]):\n",
    "#             print(pos)\n",
    "#             print(line)\n",
    "            mz, inten = line.split('\\t')[:2]\n",
    "            mz = round(float(mz))\n",
    "            if (mz_min <= mz <= mz_max) is False:\n",
    "                continue\n",
    "            inten = float(inten)\n",
    "            spectrum_lst.append((mz, inten))\n",
    "        spectrum_dic = dict(sorted(spectrum_lst))\n",
    "        spectrum_df = spectrum_df.append(spectrum_dic, ignore_index=True)\n",
    "sequence_df = pd.DataFrame(sequence_lst, columns='sequence')\n",
    "spectrum_df = spectrum_df[~(spectrum_df == 0).all()]"
   ]
  },
  {
   "cell_type": "code",
   "execution_count": null,
   "outputs": [],
   "source": [
    "df = pd.DataFrame({170: [0, 234.234, 342.34, 0, np.nan, np.nan], 171: [234.43, 3234.3, 543.2, 0, 43.54, np.nan], 172: [642.4, 6543.8, 9644.3, 0, 6473.54, np.nan]})\n",
    "df[~(df == 0).all(axis=1)]\n",
    "# (df != 0).all(axis=1)"
   ],
   "metadata": {
    "collapsed": false,
    "pycharm": {
     "name": "#%%\n"
    }
   }
  },
  {
   "cell_type": "code",
   "execution_count": null,
   "metadata": {},
   "outputs": [],
   "source": [
    "mz_min = 300\n",
    "mz_max = 1500\n",
    "collision_energy_min = 0\n",
    "collision_energy_max = 100\n",
    "sequence_length_max = 50\n",
    "\n",
    "spectrum_df = pd.DataFrame()\n",
    "spectrum_lst = []\n",
    "sequence_lst = []\n",
    "with open('../data/cptac2_mouse_hcd_selected.msp') as msp_file:\n",
    "    for pos, line in enumerate(msp_file):\n",
    "#         print(line)\n",
    "#         print(type(line))\n",
    "        if line.startswith('Name'):\n",
    "            seq, collision_energy  = line[6:-3].split('/')\n",
    "            collision_energy = float(collision_energy.split('_')[-1])\n",
    "#             print(f'{pos}: {seq}')\n",
    "#             print(len(seq))\n",
    "#             print(len(seq) < max_sequence_length)\n",
    "#             print(f'{pos}: {collision_energy} eV')\n",
    "#             print((collision_energy_range[0] < float(collision_energy) < collision_energy_range[1]))\n",
    "#             print((len(seq) < max_sequence_length) & (collision_energy_range[0] < float(collision_energy) < collision_energy_range[1]))\n",
    "            condition_go = False\n",
    "            if ((collision_energy_min <= col_energy <= collision_energy_max) & (len(seq)  <= sequence_length_max)):\n",
    "#                 print('inside if')\n",
    "                condition_go = True\n",
    "#                 print(pos, seq)\n",
    "#                 print(type(seq))\n",
    "                sequence_lst.append(seq)\n",
    "#                 print(pos, sequence_lst)\n",
    "                spectrum_dic = dict(sorted(spectrum_lst))\n",
    "                spectrum_df = spectrum_df.append(spectrum_dic, ignore_index=True)\n",
    "        if condition_go is False:\n",
    "            continue \n",
    "        if line[:3].isdigit() is True:\n",
    "#             print(line)\n",
    "            mz, peak = line.split('\\t')[:2]\n",
    "            mz = round(float(mz))\n",
    "            if (mz_min <= mz <= mz_max) is False:\n",
    "                continue\n",
    "            inten = float(inten)\n",
    "            spectrum_lst.append((mz, inten))\n",
    "#         if pos == 100:\n",
    "#             break\n",
    "# print(sequence_lst)\n",
    "sequence_df = pd.DataFrame(sequence_lst, columns='sequence')\n",
    "# print(sequence_df)"
   ]
  },
  {
   "cell_type": "code",
   "execution_count": null,
   "metadata": {
    "pycharm": {
     "name": "#%%\n"
    }
   },
   "outputs": [],
   "source": [
    "mz_min = 300\n",
    "mz_max = 1500\n",
    "collision_energy_min = 0\n",
    "collision_energy_max = 100\n",
    "sequence_length_max = 50\n",
    "\n",
    "spectrum_df = pd.DataFrame()\n",
    "spectrum_lst = []\n",
    "sequence_lst = []\n",
    "with open('../data/cptac2_mouse_hcd_selected.msp') as msp_file:\n",
    "    for pos, line in enumerate(msp_file):\n",
    "#         print(line)\n",
    "#         print(type(line))\n",
    "        if line.startswith('Name'):\n",
    "            seq, collision_energy  = line[6:-3].split('/')\n",
    "            collision_energy = float(collision_energy.split('_')[-1])\n",
    "#             print(f'{pos}: {seq}')\n",
    "#             print(len(seq))\n",
    "#             print(len(seq) < max_sequence_length)\n",
    "#             print(f'{pos}: {collision_energy} eV')\n",
    "#             print((collision_energy_range[0] < float(collision_energy) < collision_energy_range[1]))\n",
    "#             print((len(seq) < max_sequence_length) & (collision_energy_range[0] < float(collision_energy) < collision_energy_range[1]))\n",
    "            condition_go = False\n",
    "            if ((collision_energy_min <= col_energy <= collision_energy_max) & (len(seq)  <= sequence_length_max)):\n",
    "#                 print('inside if')\n",
    "                condition_go = True\n",
    "#                 print(pos, seq)\n",
    "#                 print(type(seq))\n",
    "                sequence_lst.append(seq)\n",
    "#                 print(pos, sequence_lst)\n",
    "                spectrum_dic = dict(sorted(spectrum_lst))\n",
    "                spectrum_df = spectrum_df.append(spectrum_dic, ignore_index=True)\n",
    "        if condition_go is False:\n",
    "            continue \n",
    "        if line[:3].isdigit() is True:\n",
    "#             print(line)\n",
    "            mz, peak = line.split('\\t')[:2]\n",
    "            mz = round(float(mz))\n",
    "            if (mz_min <= mz <= mz_max) is False:\n",
    "                continue\n",
    "            inten = float(inten)\n",
    "            spectrum_lst.append((mz, inten))\n",
    "#         if pos == 100:\n",
    "#             break\n",
    "# print(sequence_lst)\n",
    "sequence_df = pd.DataFrame(sequence_lst, columns='sequence')\n",
    "# print(sequence_df)"
   ]
  },
  {
   "cell_type": "code",
   "execution_count": null,
   "metadata": {},
   "outputs": [],
   "source": [
    "array = np.array([[170, 170, 170, 171, 210], [38.34, 5343.43, 954.32, 343.43, 543.32]])\n",
    "np.append(array, (172, 234.4))\n",
    "print(array)\n",
    "array = np.sort(array, axis=1, kind='heapsort')\n",
    "print(array)\n",
    "# dict(array)"
   ]
  },
  {
   "cell_type": "code",
   "execution_count": null,
   "metadata": {},
   "outputs": [],
   "source": [
    "array = np.array=([(170, 23.5),(170, 3432.5), (170, 323.5)])\n",
    "array = np.sort(array, axis=0)\n",
    "dict(array)"
   ]
  },
  {
   "cell_type": "code",
   "execution_count": null,
   "metadata": {},
   "outputs": [],
   "source": [
    "spectrum_lst = []\n",
    "line = '485.2569 \\t 1995.8 \\t \"Int/ELLE/-7.6ppm,Int/EELL/-7.6ppm,Int/LEEL/-7.6ppm\"'"
   ]
  },
  {
   "cell_type": "code",
   "execution_count": null,
   "metadata": {},
   "outputs": [],
   "source": [
    "%%timeit\n",
    "spectrum_lst = []\n",
    "line_split = line.split('\\t')[:2]\n",
    "spectrum_lst.append((round(float(line_split[0])),float(line_split[1]))) "
   ]
  },
  {
   "cell_type": "code",
   "execution_count": null,
   "metadata": {},
   "outputs": [],
   "source": [
    "%%timeit\n",
    "spectrum_lst = []\n",
    "mz, inten = line.split('\\t')[:2]\n",
    "mz = round(float(mz))\n",
    "inten = float(inten)\n",
    "spectrum_lst.append((mz, inten)) "
   ]
  },
  {
   "cell_type": "code",
   "execution_count": null,
   "metadata": {},
   "outputs": [],
   "source": [
    "%%timeit\n",
    "spectrum_lst = []\n",
    "line_split = line.split('\\t')\n",
    "spectrum_lst.append((round(float(line_split[0])),float(line_split[1]))) "
   ]
  },
  {
   "cell_type": "code",
   "execution_count": null,
   "metadata": {},
   "outputs": [],
   "source": [
    "spectrum_lst = []\n",
    "line = '485.2569 \\t 1995.8 \\t \"Int/ELLE/-7.6ppm,Int/EELL/-7.6ppm,Int/LEEL/-7.6ppm\"'\n",
    "mz, inten = line.split('\\t')[:2]\n",
    "mz = round(float(mz))\n",
    "inten = float(inten)\n",
    "print(line_split)\n",
    "spectrum_lst.append((mz, inten)) \n",
    "print(spectrum_lst)"
   ]
  },
  {
   "cell_type": "code",
   "execution_count": null,
   "metadata": {},
   "outputs": [],
   "source": [
    "spectrum_lst = []\n",
    "line = '485.2569 \\t 1995.8 \\t \"Int/ELLE/-7.6ppm,Int/EELL/-7.6ppm,Int/LEEL/-7.6ppm\"'\n",
    "line_split = line.split('\\t')\n",
    "print(line_split)\n",
    "spectrum_lst.append((round(float(line_split[0])),float(line_split[1]))) \n",
    "print(spectrum_lst)"
   ]
  },
  {
   "cell_type": "code",
   "execution_count": null,
   "metadata": {},
   "outputs": [],
   "source": [
    "mz_max = 170\n",
    "mz_min = 500\n",
    "collision_energy_max = 30\n",
    "collision_energy_min = 60\n",
    "sequence_length_max = 50\n",
    "\n",
    "sequence_lst = []\n",
    "with open('../data/cptac2_mouse_hcd_selected.msp') as msp_file:\n",
    "    for pos, line in enumerate(re.split('\\n|^Name: ', msp_file.read())[1:]):\n",
    "        print(pos)\n",
    "        print(line)\n",
    "        if pos == 5000:\n",
    "            break"
   ]
  },
  {
   "cell_type": "code",
   "execution_count": null,
   "metadata": {},
   "outputs": [],
   "source": [
    "with open('../data/cptac2_mouse_hcd_selected.msp') as msp_file:\n",
    "    for box_num, box in  enumerate(msp_file.read().split('\\n\\n')):\n",
    "        for pos, line in enumerate(box.split('\\n')):\n",
    "            print(pos)\n",
    "            print(line)\n",
    "            if pos == 5000:\n",
    "                break\n",
    "        break"
   ]
  },
  {
   "cell_type": "code",
   "execution_count": null,
   "metadata": {},
   "outputs": [],
   "source": [
    "df = pd.DataFrame()\n",
    "a = [(171, 5267.6), (170, 7394.5), (171, 20147)]\n",
    "a_dic = dict(sorted(a))\n",
    "df = df.append(a_dic, ignore_index=True)\n",
    "df = df.append(a_dic, ignore_index=True)\n",
    "df = df.append(a_dic, ignore_index=True)\n",
    "df"
   ]
  },
  {
   "cell_type": "code",
   "execution_count": null,
   "metadata": {},
   "outputs": [],
   "source": [
    "a = ['In nova fert animus']\n",
    "b= ' mutatas dicere formas'\n",
    "a.extend(b)\n",
    "a"
   ]
  },
  {
   "cell_type": "code",
   "execution_count": null,
   "metadata": {},
   "outputs": [],
   "source": [
    "%%timeit\n",
    "line = 'Name: AAAAAAAAAAEEAAMQRDLLPPAGR/3_0_34.9eV'\n",
    "line_split = re.split('[_/]',line)\n",
    "seq = line_split[0][6:]\n",
    "col_energy = line_split[-1][:-2]"
   ]
  },
  {
   "cell_type": "code",
   "execution_count": null,
   "metadata": {},
   "outputs": [],
   "source": [
    "%%timeit\n",
    "line = 'Name: AAAAAAAAAAEEAAMQRDLLPPAGR/3_0_34.9eV'\n",
    "seq = re.split('[_/]',line)[0][6:]\n",
    "col_energy = re.split('[_/]',line)[-1][:-2]"
   ]
  },
  {
   "cell_type": "code",
   "execution_count": null,
   "metadata": {},
   "outputs": [],
   "source": [
    "%%timeit\n",
    "line = 'Name: AAAAAAAAAAEEAAMQRDLLPPAGR/3_0_34.9eV'\n",
    "seq, col_energy  = line[6:-2].split('/')\n",
    "col_energy = col_energy.split('_')[-1]"
   ]
  },
  {
   "cell_type": "code",
   "execution_count": null,
   "metadata": {},
   "outputs": [],
   "source": [
    "%%timeit\n",
    "line = 'Name: AAAAAAAAAAEEAAMQRDLLPPAGR/3_0_34.9eV'\n",
    "seq, line_tail  = line[6:-2].split('/')\n",
    "col_energy = line_tail.split('_')[-1]"
   ]
  },
  {
   "cell_type": "code",
   "execution_count": null,
   "metadata": {},
   "outputs": [],
   "source": [
    "with open('../data/cptac2_mouse_hcd_selected.msp') as msp_file:\n",
    "    for pos, line in enumerate(msp_file):\n",
    "        print(pos)\n",
    "        print(line + 'HAHA')"
   ]
  },
  {
   "cell_type": "code",
   "execution_count": null,
   "metadata": {},
   "outputs": [],
   "source": [
    "a = 'asf \\rsad f'\n",
    "print(a)"
   ]
  },
  {
   "cell_type": "code",
   "execution_count": null,
   "metadata": {},
   "outputs": [],
   "source": [
    "df = pd.DataFrame()\n",
    "df['a'] = [5]\n",
    "df['a'] = [4]\n",
    "df"
   ]
  },
  {
   "cell_type": "code",
   "execution_count": null,
   "metadata": {
    "pycharm": {
     "name": "#%%\n"
    }
   },
   "outputs": [],
   "source": [
    "lst = []\n",
    "lst.append('sdaads')\n",
    "print(lst)"
   ]
  },
  {
   "cell_type": "code",
   "execution_count": null,
   "metadata": {},
   "outputs": [],
   "source": [
    "line = '166.0501 \\t 2077 \\t \"Int/AE-H2O-NH3/1.2ppm,Int/EA-H2O-NH3/1.2ppm\"'\n",
    "re.match('^\\d', line) is not None"
   ]
  },
  {
   "cell_type": "code",
   "execution_count": null,
   "metadata": {},
   "outputs": [],
   "source": [
    "line = '166.0501 \\t 2077 \\t \"Int/AE-H2O-NH3/1.2ppm,Int/EA-H2O-NH3/1.2ppm\"'\n",
    "re.match('^\\d', line) is not None"
   ]
  },
  {
   "cell_type": "code",
   "execution_count": null,
   "metadata": {},
   "outputs": [],
   "source": [
    "line = 'Name: AAAAAAAAAAEEAAMQRDLLPPAGR/3_0_34.9eV'\n",
    "%timeit re.match('^N', line) is not None"
   ]
  },
  {
   "cell_type": "code",
   "execution_count": null,
   "metadata": {},
   "outputs": [],
   "source": [
    "%timeit line.startswith('N')"
   ]
  },
  {
   "cell_type": "code",
   "execution_count": null,
   "metadata": {},
   "outputs": [],
   "source": [
    "dir(re.match)"
   ]
  },
  {
   "cell_type": "code",
   "execution_count": null,
   "metadata": {},
   "outputs": [],
   "source": [
    "line = 'Name: AAAAAAAAAAEEAAMQRDLLPPAGR/3_0_34.9eV'\n",
    "re.split('[_/]', line)"
   ]
  },
  {
   "cell_type": "code",
   "execution_count": null,
   "metadata": {},
   "outputs": [],
   "source": [
    "%%timeit\n",
    "line = 'Name: AAAAAAAAAAEEAAMQRDLLPPAGR/3_0_34.9eV'\n",
    "re.split('[/]', line)"
   ]
  },
  {
   "cell_type": "code",
   "execution_count": null,
   "metadata": {},
   "outputs": [],
   "source": [
    "%%timeit\n",
    "line = 'Name: AAAAAAAAAAEEAAMQRDLLPPAGR/3_0_34.9eV'\n",
    "line.split('/')"
   ]
  },
  {
   "cell_type": "code",
   "execution_count": null,
   "metadata": {
    "pycharm": {
     "name": "#%%\n"
    }
   },
   "outputs": [],
   "source": [
    "df_seq = pd.DataFrame"
   ]
  },
  {
   "cell_type": "code",
   "execution_count": null,
   "metadata": {
    "pycharm": {
     "name": "#%%\n"
    }
   },
   "outputs": [],
   "source": [
    "%%timeit\n",
    "seq = np.array([])\n",
    "np.append(seq, 'w')"
   ]
  },
  {
   "cell_type": "code",
   "execution_count": null,
   "metadata": {
    "pycharm": {
     "name": "#%%\n"
    }
   },
   "outputs": [],
   "source": [
    "%%timeit\n",
    "seq = []\n",
    "seq.append('w')"
   ]
  },
  {
   "cell_type": "code",
   "execution_count": null,
   "metadata": {},
   "outputs": [],
   "source": [
    "%%timeit\n",
    "seq = []\n",
    "seq.append('w')"
   ]
  },
  {
   "cell_type": "code",
   "execution_count": null,
   "metadata": {},
   "outputs": [],
   "source": [
    "%%timeit\n",
    "seq = np.array([])\n",
    "np.append(seq, 'w')"
   ]
  },
  {
   "cell_type": "code",
   "execution_count": null,
   "metadata": {},
   "outputs": [],
   "source": [
    "%%timeit\n",
    "seq = []\n",
    "seq.append('w')"
   ]
  }
 ],
 "metadata": {
  "kernelspec": {
   "display_name": "Python 3",
   "language": "python",
   "name": "python3"
  },
  "language_info": {
   "codemirror_mode": {
    "name": "ipython",
    "version": 3
   },
   "file_extension": ".py",
   "mimetype": "text/x-python",
   "name": "python",
   "nbconvert_exporter": "python",
   "pygments_lexer": "ipython3",
   "version": "3.8.3"
  }
 },
 "nbformat": 4,
 "nbformat_minor": 1
}