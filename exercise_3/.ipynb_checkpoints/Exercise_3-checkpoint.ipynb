{
 "cells": [
  {
   "cell_type": "code",
   "execution_count": 1,
   "metadata": {},
   "outputs": [],
   "source": [
    "import pandas as pd\n",
    "import plotly.graph_objects as go\n",
    "from collections import deque"
   ]
  },
  {
   "cell_type": "code",
   "execution_count": 2,
   "metadata": {},
   "outputs": [
    {
     "name": "stdout",
     "output_type": "stream",
     "text": [
      "MDIQMANNFTPPSATPQGNDCDLYAHHSTARIVMPLHYSLVFIIGLVGNLLALVVIVQNRKKINSTTLYSTNLVISDILFTTALPTRIAYYAMGFDWRIGDALCRITALVFYINTYAGVNFMTCLSIDRFIAVVHPLRYNKIKRIEHAKGVCIFVWILVFAQTLPLLINPMSKQEAERITCMEYPNFEETKSLPWILLGACFIGYVLPLIIILICYSQICCKLFRTAKQNPLTEKSGVNKKALNTIILIIVVFVLCFTPYHVAIIQHMIKKLRFSNFLECSQRHSFQISLHFTVCLMNFNCCMDPFIYFFACKGYKRKVMRMLKRQVSVSISSAVKSAPEENSREMTETQMMIHSKSSNGK\n"
     ]
    }
   ],
   "source": [
    "with open('../data/G-protein_coupled_receptor.fasta', 'r') as fasta_file:\n",
    "    amino_acid_seq = ''\n",
    "    for line in fasta_file:\n",
    "        if not line.startswith('>'):\n",
    "            amino_acid_seq += line.strip()\n",
    "print(amino_acid_seq)"
   ]
  },
  {
   "cell_type": "code",
   "execution_count": 3,
   "metadata": {},
   "outputs": [],
   "source": [
    "aap_df = pd.read_csv('../data/amino_acid_properties.csv', index_col='1-letter code')"
   ]
  },
  {
   "cell_type": "code",
   "execution_count": 4,
   "metadata": {},
   "outputs": [
    {
     "data": {
      "text/html": [
       "<div>\n",
       "<style scoped>\n",
       "    .dataframe tbody tr th:only-of-type {\n",
       "        vertical-align: middle;\n",
       "    }\n",
       "\n",
       "    .dataframe tbody tr th {\n",
       "        vertical-align: top;\n",
       "    }\n",
       "\n",
       "    .dataframe thead th {\n",
       "        text-align: right;\n",
       "    }\n",
       "</style>\n",
       "<table border=\"1\" class=\"dataframe\">\n",
       "  <thead>\n",
       "    <tr style=\"text-align: right;\">\n",
       "      <th></th>\n",
       "      <th>Name</th>\n",
       "      <th>3-letter code</th>\n",
       "      <th>Molecular Weight</th>\n",
       "      <th>Molecular Formula</th>\n",
       "      <th>Residue Formula</th>\n",
       "      <th>Residue Weight</th>\n",
       "      <th>pka1</th>\n",
       "      <th>pka2</th>\n",
       "      <th>pkaX</th>\n",
       "      <th>pI</th>\n",
       "      <th>hydropathy index (Kyte-Doolittle method)</th>\n",
       "      <th>Accessible surface</th>\n",
       "    </tr>\n",
       "    <tr>\n",
       "      <th>1-letter code</th>\n",
       "      <th></th>\n",
       "      <th></th>\n",
       "      <th></th>\n",
       "      <th></th>\n",
       "      <th></th>\n",
       "      <th></th>\n",
       "      <th></th>\n",
       "      <th></th>\n",
       "      <th></th>\n",
       "      <th></th>\n",
       "      <th></th>\n",
       "      <th></th>\n",
       "    </tr>\n",
       "  </thead>\n",
       "  <tbody>\n",
       "    <tr>\n",
       "      <th>A</th>\n",
       "      <td>Alanine</td>\n",
       "      <td>Ala</td>\n",
       "      <td>89.10</td>\n",
       "      <td>C3H7NO2</td>\n",
       "      <td>C3H5NO</td>\n",
       "      <td>71.08</td>\n",
       "      <td>2.34</td>\n",
       "      <td>9.69</td>\n",
       "      <td>NaN</td>\n",
       "      <td>6.00</td>\n",
       "      <td>1.8</td>\n",
       "      <td>44.1</td>\n",
       "    </tr>\n",
       "    <tr>\n",
       "      <th>R</th>\n",
       "      <td>Arginine</td>\n",
       "      <td>Arg</td>\n",
       "      <td>174.20</td>\n",
       "      <td>C6H14N4O2</td>\n",
       "      <td>C6H12N4O</td>\n",
       "      <td>156.19</td>\n",
       "      <td>2.17</td>\n",
       "      <td>9.04</td>\n",
       "      <td>12.48</td>\n",
       "      <td>10.76</td>\n",
       "      <td>-4.5</td>\n",
       "      <td>159.2</td>\n",
       "    </tr>\n",
       "    <tr>\n",
       "      <th>N</th>\n",
       "      <td>Asparagine</td>\n",
       "      <td>Asn</td>\n",
       "      <td>132.12</td>\n",
       "      <td>C4H8N2O3</td>\n",
       "      <td>C4H6N2O2</td>\n",
       "      <td>114.11</td>\n",
       "      <td>2.02</td>\n",
       "      <td>8.80</td>\n",
       "      <td>NaN</td>\n",
       "      <td>5.41</td>\n",
       "      <td>-3.5</td>\n",
       "      <td>80.8</td>\n",
       "    </tr>\n",
       "    <tr>\n",
       "      <th>D</th>\n",
       "      <td>Aspartic acid</td>\n",
       "      <td>Asp</td>\n",
       "      <td>133.11</td>\n",
       "      <td>C4H7NO4</td>\n",
       "      <td>C4H5NO3</td>\n",
       "      <td>115.09</td>\n",
       "      <td>1.88</td>\n",
       "      <td>9.60</td>\n",
       "      <td>3.65</td>\n",
       "      <td>2.77</td>\n",
       "      <td>-3.5</td>\n",
       "      <td>76.3</td>\n",
       "    </tr>\n",
       "    <tr>\n",
       "      <th>C</th>\n",
       "      <td>Cysteine</td>\n",
       "      <td>Cys</td>\n",
       "      <td>121.16</td>\n",
       "      <td>C3H7NO2S</td>\n",
       "      <td>C3H5NOS</td>\n",
       "      <td>103.15</td>\n",
       "      <td>1.96</td>\n",
       "      <td>10.28</td>\n",
       "      <td>8.18</td>\n",
       "      <td>5.07</td>\n",
       "      <td>2.5</td>\n",
       "      <td>56.4</td>\n",
       "    </tr>\n",
       "    <tr>\n",
       "      <th>E</th>\n",
       "      <td>Glutamic acid</td>\n",
       "      <td>Glu</td>\n",
       "      <td>147.13</td>\n",
       "      <td>C5H9NO4</td>\n",
       "      <td>C5H7NO3</td>\n",
       "      <td>129.12</td>\n",
       "      <td>2.19</td>\n",
       "      <td>9.67</td>\n",
       "      <td>4.25</td>\n",
       "      <td>3.22</td>\n",
       "      <td>-3.5</td>\n",
       "      <td>99.2</td>\n",
       "    </tr>\n",
       "    <tr>\n",
       "      <th>Q</th>\n",
       "      <td>Glutamine</td>\n",
       "      <td>Gln</td>\n",
       "      <td>146.15</td>\n",
       "      <td>C5H10N2O3</td>\n",
       "      <td>C5H8N2O2</td>\n",
       "      <td>128.13</td>\n",
       "      <td>2.17</td>\n",
       "      <td>9.13</td>\n",
       "      <td>NaN</td>\n",
       "      <td>5.65</td>\n",
       "      <td>-3.5</td>\n",
       "      <td>100.6</td>\n",
       "    </tr>\n",
       "    <tr>\n",
       "      <th>G</th>\n",
       "      <td>Glycine</td>\n",
       "      <td>Gly</td>\n",
       "      <td>75.07</td>\n",
       "      <td>C2H5NO2</td>\n",
       "      <td>C2H3NO</td>\n",
       "      <td>57.05</td>\n",
       "      <td>2.34</td>\n",
       "      <td>9.60</td>\n",
       "      <td>NaN</td>\n",
       "      <td>5.97</td>\n",
       "      <td>-0.4</td>\n",
       "      <td>0.0</td>\n",
       "    </tr>\n",
       "    <tr>\n",
       "      <th>H</th>\n",
       "      <td>Histidine</td>\n",
       "      <td>His</td>\n",
       "      <td>155.16</td>\n",
       "      <td>C6H9N3O2</td>\n",
       "      <td>C6H7N3O</td>\n",
       "      <td>137.14</td>\n",
       "      <td>1.82</td>\n",
       "      <td>9.17</td>\n",
       "      <td>6.00</td>\n",
       "      <td>7.59</td>\n",
       "      <td>-3.2</td>\n",
       "      <td>98.2</td>\n",
       "    </tr>\n",
       "    <tr>\n",
       "      <th>I</th>\n",
       "      <td>Isoleucine</td>\n",
       "      <td>Ile</td>\n",
       "      <td>131.18</td>\n",
       "      <td>C6H13NO2</td>\n",
       "      <td>C6H11NO</td>\n",
       "      <td>113.16</td>\n",
       "      <td>2.36</td>\n",
       "      <td>9.60</td>\n",
       "      <td>NaN</td>\n",
       "      <td>6.02</td>\n",
       "      <td>4.5</td>\n",
       "      <td>90.9</td>\n",
       "    </tr>\n",
       "    <tr>\n",
       "      <th>L</th>\n",
       "      <td>Leucine</td>\n",
       "      <td>Leu</td>\n",
       "      <td>131.18</td>\n",
       "      <td>C6H13NO2</td>\n",
       "      <td>C6H11NO</td>\n",
       "      <td>113.16</td>\n",
       "      <td>2.36</td>\n",
       "      <td>9.60</td>\n",
       "      <td>NaN</td>\n",
       "      <td>5.98</td>\n",
       "      <td>3.8</td>\n",
       "      <td>92.8</td>\n",
       "    </tr>\n",
       "    <tr>\n",
       "      <th>K</th>\n",
       "      <td>Lysine</td>\n",
       "      <td>Lys</td>\n",
       "      <td>146.19</td>\n",
       "      <td>C6H14N2O2</td>\n",
       "      <td>C6H12N2O</td>\n",
       "      <td>128.18</td>\n",
       "      <td>2.18</td>\n",
       "      <td>8.95</td>\n",
       "      <td>10.53</td>\n",
       "      <td>9.74</td>\n",
       "      <td>-3.9</td>\n",
       "      <td>139.1</td>\n",
       "    </tr>\n",
       "    <tr>\n",
       "      <th>M</th>\n",
       "      <td>Methionine</td>\n",
       "      <td>Met</td>\n",
       "      <td>149.21</td>\n",
       "      <td>C5H11NO2S</td>\n",
       "      <td>C5H9NOS</td>\n",
       "      <td>131.20</td>\n",
       "      <td>2.28</td>\n",
       "      <td>9.21</td>\n",
       "      <td>NaN</td>\n",
       "      <td>5.74</td>\n",
       "      <td>1.9</td>\n",
       "      <td>95.3</td>\n",
       "    </tr>\n",
       "    <tr>\n",
       "      <th>F</th>\n",
       "      <td>Phenylalanine</td>\n",
       "      <td>Phe</td>\n",
       "      <td>165.19</td>\n",
       "      <td>C9H11NO2</td>\n",
       "      <td>C9H9NO</td>\n",
       "      <td>147.18</td>\n",
       "      <td>1.83</td>\n",
       "      <td>9.13</td>\n",
       "      <td>NaN</td>\n",
       "      <td>5.48</td>\n",
       "      <td>2.8</td>\n",
       "      <td>107.4</td>\n",
       "    </tr>\n",
       "    <tr>\n",
       "      <th>P</th>\n",
       "      <td>Proline</td>\n",
       "      <td>Pro</td>\n",
       "      <td>115.13</td>\n",
       "      <td>C5H9NO2</td>\n",
       "      <td>C5H7NO</td>\n",
       "      <td>97.12</td>\n",
       "      <td>1.99</td>\n",
       "      <td>10.60</td>\n",
       "      <td>NaN</td>\n",
       "      <td>6.30</td>\n",
       "      <td>-1.6</td>\n",
       "      <td>79.5</td>\n",
       "    </tr>\n",
       "    <tr>\n",
       "      <th>S</th>\n",
       "      <td>Serine</td>\n",
       "      <td>Ser</td>\n",
       "      <td>105.09</td>\n",
       "      <td>C3H7NO3</td>\n",
       "      <td>C3H5NO2</td>\n",
       "      <td>87.08</td>\n",
       "      <td>2.21</td>\n",
       "      <td>9.15</td>\n",
       "      <td>NaN</td>\n",
       "      <td>5.68</td>\n",
       "      <td>-0.8</td>\n",
       "      <td>57.5</td>\n",
       "    </tr>\n",
       "    <tr>\n",
       "      <th>T</th>\n",
       "      <td>Threonine</td>\n",
       "      <td>Thr</td>\n",
       "      <td>119.12</td>\n",
       "      <td>C4H9NO3</td>\n",
       "      <td>C4H7NO2</td>\n",
       "      <td>101.11</td>\n",
       "      <td>2.09</td>\n",
       "      <td>9.10</td>\n",
       "      <td>NaN</td>\n",
       "      <td>5.60</td>\n",
       "      <td>-0.7</td>\n",
       "      <td>73.4</td>\n",
       "    </tr>\n",
       "    <tr>\n",
       "      <th>W</th>\n",
       "      <td>Tryptophan</td>\n",
       "      <td>Trp</td>\n",
       "      <td>204.23</td>\n",
       "      <td>C11H12N2O2</td>\n",
       "      <td>C11H10N2O</td>\n",
       "      <td>186.22</td>\n",
       "      <td>2.83</td>\n",
       "      <td>9.39</td>\n",
       "      <td>NaN</td>\n",
       "      <td>5.89</td>\n",
       "      <td>-0.9</td>\n",
       "      <td>143.4</td>\n",
       "    </tr>\n",
       "    <tr>\n",
       "      <th>Y</th>\n",
       "      <td>Tyrosine</td>\n",
       "      <td>Tyr</td>\n",
       "      <td>181.19</td>\n",
       "      <td>C9H11NO3</td>\n",
       "      <td>C9H9NO2</td>\n",
       "      <td>163.18</td>\n",
       "      <td>2.20</td>\n",
       "      <td>9.11</td>\n",
       "      <td>10.07</td>\n",
       "      <td>5.66</td>\n",
       "      <td>-1.3</td>\n",
       "      <td>119.1</td>\n",
       "    </tr>\n",
       "    <tr>\n",
       "      <th>V</th>\n",
       "      <td>Valine</td>\n",
       "      <td>Val</td>\n",
       "      <td>117.15</td>\n",
       "      <td>C5H11NO2</td>\n",
       "      <td>C5H9NO</td>\n",
       "      <td>99.13</td>\n",
       "      <td>2.32</td>\n",
       "      <td>9.62</td>\n",
       "      <td>NaN</td>\n",
       "      <td>5.96</td>\n",
       "      <td>4.2</td>\n",
       "      <td>73.0</td>\n",
       "    </tr>\n",
       "  </tbody>\n",
       "</table>\n",
       "</div>"
      ],
      "text/plain": [
       "                        Name 3-letter code  Molecular Weight  \\\n",
       "1-letter code                                                  \n",
       "A                    Alanine           Ala             89.10   \n",
       "R                   Arginine           Arg            174.20   \n",
       "N                 Asparagine           Asn            132.12   \n",
       "D              Aspartic acid           Asp            133.11   \n",
       "C                   Cysteine           Cys            121.16   \n",
       "E              Glutamic acid           Glu            147.13   \n",
       "Q                  Glutamine           Gln            146.15   \n",
       "G                    Glycine           Gly             75.07   \n",
       "H                  Histidine           His            155.16   \n",
       "I                 Isoleucine           Ile            131.18   \n",
       "L                    Leucine           Leu            131.18   \n",
       "K                     Lysine           Lys            146.19   \n",
       "M                 Methionine           Met            149.21   \n",
       "F              Phenylalanine           Phe            165.19   \n",
       "P                    Proline           Pro            115.13   \n",
       "S                     Serine           Ser            105.09   \n",
       "T                  Threonine           Thr            119.12   \n",
       "W                 Tryptophan           Trp            204.23   \n",
       "Y                   Tyrosine           Tyr            181.19   \n",
       "V                     Valine           Val            117.15   \n",
       "\n",
       "              Molecular Formula Residue Formula  Residue Weight  pka1   pka2  \\\n",
       "1-letter code                                                                  \n",
       "A                       C3H7NO2          C3H5NO           71.08  2.34   9.69   \n",
       "R                     C6H14N4O2        C6H12N4O          156.19  2.17   9.04   \n",
       "N                      C4H8N2O3        C4H6N2O2          114.11  2.02   8.80   \n",
       "D                       C4H7NO4         C4H5NO3          115.09  1.88   9.60   \n",
       "C                      C3H7NO2S         C3H5NOS          103.15  1.96  10.28   \n",
       "E                       C5H9NO4         C5H7NO3          129.12  2.19   9.67   \n",
       "Q                     C5H10N2O3        C5H8N2O2          128.13  2.17   9.13   \n",
       "G                       C2H5NO2          C2H3NO           57.05  2.34   9.60   \n",
       "H                      C6H9N3O2         C6H7N3O          137.14  1.82   9.17   \n",
       "I                      C6H13NO2         C6H11NO          113.16  2.36   9.60   \n",
       "L                      C6H13NO2         C6H11NO          113.16  2.36   9.60   \n",
       "K                     C6H14N2O2        C6H12N2O          128.18  2.18   8.95   \n",
       "M                     C5H11NO2S         C5H9NOS          131.20  2.28   9.21   \n",
       "F                      C9H11NO2          C9H9NO          147.18  1.83   9.13   \n",
       "P                       C5H9NO2          C5H7NO           97.12  1.99  10.60   \n",
       "S                       C3H7NO3         C3H5NO2           87.08  2.21   9.15   \n",
       "T                       C4H9NO3         C4H7NO2          101.11  2.09   9.10   \n",
       "W                    C11H12N2O2       C11H10N2O          186.22  2.83   9.39   \n",
       "Y                      C9H11NO3         C9H9NO2          163.18  2.20   9.11   \n",
       "V                      C5H11NO2          C5H9NO           99.13  2.32   9.62   \n",
       "\n",
       "                pkaX     pI  hydropathy index (Kyte-Doolittle method)  \\\n",
       "1-letter code                                                           \n",
       "A                NaN   6.00                                       1.8   \n",
       "R              12.48  10.76                                      -4.5   \n",
       "N                NaN   5.41                                      -3.5   \n",
       "D               3.65   2.77                                      -3.5   \n",
       "C               8.18   5.07                                       2.5   \n",
       "E               4.25   3.22                                      -3.5   \n",
       "Q                NaN   5.65                                      -3.5   \n",
       "G                NaN   5.97                                      -0.4   \n",
       "H               6.00   7.59                                      -3.2   \n",
       "I                NaN   6.02                                       4.5   \n",
       "L                NaN   5.98                                       3.8   \n",
       "K              10.53   9.74                                      -3.9   \n",
       "M                NaN   5.74                                       1.9   \n",
       "F                NaN   5.48                                       2.8   \n",
       "P                NaN   6.30                                      -1.6   \n",
       "S                NaN   5.68                                      -0.8   \n",
       "T                NaN   5.60                                      -0.7   \n",
       "W                NaN   5.89                                      -0.9   \n",
       "Y              10.07   5.66                                      -1.3   \n",
       "V                NaN   5.96                                       4.2   \n",
       "\n",
       "               Accessible surface  \n",
       "1-letter code                      \n",
       "A                            44.1  \n",
       "R                           159.2  \n",
       "N                            80.8  \n",
       "D                            76.3  \n",
       "C                            56.4  \n",
       "E                            99.2  \n",
       "Q                           100.6  \n",
       "G                             0.0  \n",
       "H                            98.2  \n",
       "I                            90.9  \n",
       "L                            92.8  \n",
       "K                           139.1  \n",
       "M                            95.3  \n",
       "F                           107.4  \n",
       "P                            79.5  \n",
       "S                            57.5  \n",
       "T                            73.4  \n",
       "W                           143.4  \n",
       "Y                           119.1  \n",
       "V                            73.0  "
      ]
     },
     "execution_count": 4,
     "metadata": {},
     "output_type": "execute_result"
    }
   ],
   "source": [
    "aap_df"
   ]
  },
  {
   "cell_type": "code",
   "execution_count": 5,
   "metadata": {},
   "outputs": [
    {
     "name": "stdout",
     "output_type": "stream",
     "text": [
      "1.9\n"
     ]
    }
   ],
   "source": [
    "aap_series = aap_df['hydropathy index (Kyte-Doolittle method)']\n",
    "aap = dict(aap_series)\n",
    "print(aap['M'])"
   ]
  },
  {
   "cell_type": "code",
   "execution_count": 6,
   "metadata": {},
   "outputs": [],
   "source": [
    "hydropathy = []\n",
    "for amino_acid in amino_acid_seq:\n",
    "    hydropathy.append(aap[amino_acid])\n",
    "\n",
    "# or hydropathy = [aap[amino_acid] for amino_acid in amino_acid_seq]"
   ]
  },
  {
   "cell_type": "code",
   "execution_count": 13,
   "metadata": {},
   "outputs": [
    {
     "data": {
      "application/vnd.plotly.v1+json": {
       "config": {
        "plotlyServerURL": "https://plot.ly"
       },
       "data": [
        {
         "type": "scatter",
         "x": [
          0,
          1,
          2,
          3,
          4,
          5,
          6,
          7,
          8,
          9,
          10,
          11,
          12,
          13,
          14,
          15,
          16,
          17,
          18,
          19,
          20,
          21,
          22,
          23,
          24,
          25,
          26,
          27,
          28,
          29,
          30,
          31,
          32,
          33,
          34,
          35,
          36,
          37,
          38,
          39,
          40,
          41,
          42,
          43,
          44,
          45,
          46,
          47,
          48,
          49,
          50,
          51,
          52,
          53,
          54,
          55,
          56,
          57,
          58,
          59,
          60,
          61,
          62,
          63,
          64,
          65,
          66,
          67,
          68,
          69,
          70,
          71,
          72,
          73,
          74,
          75,
          76,
          77,
          78,
          79,
          80,
          81,
          82,
          83,
          84,
          85,
          86,
          87,
          88,
          89,
          90,
          91,
          92,
          93,
          94,
          95,
          96,
          97,
          98,
          99,
          100,
          101,
          102,
          103,
          104,
          105,
          106,
          107,
          108,
          109,
          110,
          111,
          112,
          113,
          114,
          115,
          116,
          117,
          118,
          119,
          120,
          121,
          122,
          123,
          124,
          125,
          126,
          127,
          128,
          129,
          130,
          131,
          132,
          133,
          134,
          135,
          136,
          137,
          138,
          139,
          140,
          141,
          142,
          143,
          144,
          145,
          146,
          147,
          148,
          149,
          150,
          151,
          152,
          153,
          154,
          155,
          156,
          157,
          158,
          159,
          160,
          161,
          162,
          163,
          164,
          165,
          166,
          167,
          168,
          169,
          170,
          171,
          172,
          173,
          174,
          175,
          176,
          177,
          178,
          179,
          180,
          181,
          182,
          183,
          184,
          185,
          186,
          187,
          188,
          189,
          190,
          191,
          192,
          193,
          194,
          195,
          196,
          197,
          198,
          199,
          200,
          201,
          202,
          203,
          204,
          205,
          206,
          207,
          208,
          209,
          210,
          211,
          212,
          213,
          214,
          215,
          216,
          217,
          218,
          219,
          220,
          221,
          222,
          223,
          224,
          225,
          226,
          227,
          228,
          229,
          230,
          231,
          232,
          233,
          234,
          235,
          236,
          237,
          238,
          239,
          240,
          241,
          242,
          243,
          244,
          245,
          246,
          247,
          248,
          249,
          250,
          251,
          252,
          253,
          254,
          255,
          256,
          257,
          258,
          259,
          260,
          261,
          262,
          263,
          264,
          265,
          266,
          267,
          268,
          269,
          270,
          271,
          272,
          273,
          274,
          275,
          276,
          277,
          278,
          279,
          280,
          281,
          282,
          283,
          284,
          285,
          286,
          287,
          288,
          289,
          290,
          291,
          292,
          293,
          294,
          295,
          296,
          297,
          298,
          299,
          300,
          301,
          302,
          303,
          304,
          305,
          306,
          307,
          308,
          309,
          310,
          311,
          312,
          313,
          314,
          315,
          316,
          317,
          318,
          319,
          320,
          321,
          322,
          323,
          324,
          325,
          326,
          327,
          328,
          329,
          330,
          331,
          332,
          333,
          334,
          335,
          336,
          337,
          338,
          339,
          340,
          341,
          342,
          343,
          344,
          345,
          346,
          347,
          348,
          349,
          350,
          351,
          352,
          353,
          354,
          355,
          356,
          357,
          358,
          359,
          360
         ],
         "y": [
          1.9,
          -3.5,
          4.5,
          -3.5,
          1.9,
          1.8,
          -3.5,
          -3.5,
          2.8,
          -0.7,
          -1.6,
          -1.6,
          -0.8,
          1.8,
          -0.7,
          -1.6,
          -3.5,
          -0.4,
          -3.5,
          -3.5,
          2.5,
          -3.5,
          3.8,
          -1.3,
          1.8,
          -3.2,
          -3.2,
          -0.8,
          -0.7,
          1.8,
          -4.5,
          4.5,
          4.2,
          1.9,
          -1.6,
          3.8,
          -3.2,
          -1.3,
          -0.8,
          3.8,
          4.2,
          2.8,
          4.5,
          4.5,
          -0.4,
          3.8,
          4.2,
          -0.4,
          -3.5,
          3.8,
          3.8,
          1.8,
          3.8,
          4.2,
          4.2,
          4.5,
          4.2,
          -3.5,
          -3.5,
          -4.5,
          -3.9,
          -3.9,
          4.5,
          -3.5,
          -0.8,
          -0.7,
          -0.7,
          3.8,
          -1.3,
          -0.8,
          -0.7,
          -3.5,
          3.8,
          4.2,
          4.5,
          -0.8,
          -3.5,
          4.5,
          3.8,
          2.8,
          -0.7,
          -0.7,
          1.8,
          3.8,
          -1.6,
          -0.7,
          -4.5,
          4.5,
          1.8,
          -1.3,
          -1.3,
          1.8,
          1.9,
          -0.4,
          2.8,
          -3.5,
          -0.9,
          -4.5,
          4.5,
          -0.4,
          -3.5,
          1.8,
          3.8,
          2.5,
          -4.5,
          4.5,
          -0.7,
          1.8,
          3.8,
          4.2,
          2.8,
          -1.3,
          4.5,
          -3.5,
          -0.7,
          -1.3,
          1.8,
          -0.4,
          4.2,
          -3.5,
          2.8,
          1.9,
          -0.7,
          2.5,
          3.8,
          -0.8,
          4.5,
          -3.5,
          -4.5,
          2.8,
          4.5,
          1.8,
          4.2,
          4.2,
          -3.2,
          -1.6,
          3.8,
          -4.5,
          -1.3,
          -3.5,
          -3.9,
          4.5,
          -3.9,
          -4.5,
          4.5,
          -3.5,
          -3.2,
          1.8,
          -3.9,
          -0.4,
          4.2,
          2.5,
          4.5,
          2.8,
          4.2,
          -0.9,
          4.5,
          3.8,
          4.2,
          2.8,
          1.8,
          -3.5,
          -0.7,
          3.8,
          -1.6,
          3.8,
          3.8,
          4.5,
          -3.5,
          -1.6,
          1.9,
          -0.8,
          -3.9,
          -3.5,
          -3.5,
          1.8,
          -3.5,
          -4.5,
          4.5,
          -0.7,
          2.5,
          1.9,
          -3.5,
          -1.3,
          -1.6,
          -3.5,
          2.8,
          -3.5,
          -3.5,
          -0.7,
          -3.9,
          -0.8,
          3.8,
          -1.6,
          -0.9,
          4.5,
          3.8,
          3.8,
          -0.4,
          1.8,
          2.5,
          2.8,
          4.5,
          -0.4,
          -1.3,
          4.2,
          3.8,
          -1.6,
          3.8,
          4.5,
          4.5,
          4.5,
          3.8,
          4.5,
          2.5,
          -1.3,
          -0.8,
          -3.5,
          4.5,
          2.5,
          2.5,
          -3.9,
          3.8,
          2.8,
          -4.5,
          -0.7,
          1.8,
          -3.9,
          -3.5,
          -3.5,
          -1.6,
          3.8,
          -0.7,
          -3.5,
          -3.9,
          -0.8,
          -0.4,
          4.2,
          -3.5,
          -3.9,
          -3.9,
          1.8,
          3.8,
          -3.5,
          -0.7,
          4.5,
          4.5,
          3.8,
          4.5,
          4.5,
          4.2,
          4.2,
          2.8,
          4.2,
          3.8,
          2.5,
          2.8,
          -0.7,
          -1.6,
          -1.3,
          -3.2,
          4.2,
          1.8,
          4.5,
          4.5,
          -3.5,
          -3.2,
          1.9,
          4.5,
          -3.9,
          -3.9,
          3.8,
          -4.5,
          2.8,
          -0.8,
          -3.5,
          2.8,
          3.8,
          -3.5,
          2.5,
          -0.8,
          -3.5,
          -4.5,
          -3.2,
          -0.8,
          2.8,
          -3.5,
          4.5,
          -0.8,
          3.8,
          -3.2,
          2.8,
          -0.7,
          4.2,
          2.5,
          3.8,
          1.9,
          -3.5,
          2.8,
          -3.5,
          2.5,
          2.5,
          1.9,
          -3.5,
          -1.6,
          2.8,
          4.5,
          -1.3,
          2.8,
          2.8,
          1.8,
          2.5,
          -3.9,
          -0.4,
          -1.3,
          -3.9,
          -4.5,
          -3.9,
          4.2,
          1.9,
          -4.5,
          1.9,
          3.8,
          -3.9,
          -4.5,
          -3.5,
          4.2,
          -0.8,
          4.2,
          -0.8,
          4.5,
          -0.8,
          -0.8,
          1.8,
          4.2,
          -3.9,
          -0.8,
          1.8,
          -1.6,
          -3.5,
          -3.5,
          -3.5,
          -0.8,
          -4.5,
          -3.5,
          1.9,
          -0.7,
          -3.5,
          -0.7,
          -3.5,
          1.9,
          1.9,
          4.5,
          -3.2,
          -0.8,
          -3.9,
          -0.8,
          -0.8,
          -3.5,
          -0.4,
          -3.9
         ]
        }
       ],
       "layout": {
        "template": {
         "data": {
          "bar": [
           {
            "error_x": {
             "color": "#2a3f5f"
            },
            "error_y": {
             "color": "#2a3f5f"
            },
            "marker": {
             "line": {
              "color": "#E5ECF6",
              "width": 0.5
             }
            },
            "type": "bar"
           }
          ],
          "barpolar": [
           {
            "marker": {
             "line": {
              "color": "#E5ECF6",
              "width": 0.5
             }
            },
            "type": "barpolar"
           }
          ],
          "carpet": [
           {
            "aaxis": {
             "endlinecolor": "#2a3f5f",
             "gridcolor": "white",
             "linecolor": "white",
             "minorgridcolor": "white",
             "startlinecolor": "#2a3f5f"
            },
            "baxis": {
             "endlinecolor": "#2a3f5f",
             "gridcolor": "white",
             "linecolor": "white",
             "minorgridcolor": "white",
             "startlinecolor": "#2a3f5f"
            },
            "type": "carpet"
           }
          ],
          "choropleth": [
           {
            "colorbar": {
             "outlinewidth": 0,
             "ticks": ""
            },
            "type": "choropleth"
           }
          ],
          "contour": [
           {
            "colorbar": {
             "outlinewidth": 0,
             "ticks": ""
            },
            "colorscale": [
             [
              0,
              "#0d0887"
             ],
             [
              0.1111111111111111,
              "#46039f"
             ],
             [
              0.2222222222222222,
              "#7201a8"
             ],
             [
              0.3333333333333333,
              "#9c179e"
             ],
             [
              0.4444444444444444,
              "#bd3786"
             ],
             [
              0.5555555555555556,
              "#d8576b"
             ],
             [
              0.6666666666666666,
              "#ed7953"
             ],
             [
              0.7777777777777778,
              "#fb9f3a"
             ],
             [
              0.8888888888888888,
              "#fdca26"
             ],
             [
              1,
              "#f0f921"
             ]
            ],
            "type": "contour"
           }
          ],
          "contourcarpet": [
           {
            "colorbar": {
             "outlinewidth": 0,
             "ticks": ""
            },
            "type": "contourcarpet"
           }
          ],
          "heatmap": [
           {
            "colorbar": {
             "outlinewidth": 0,
             "ticks": ""
            },
            "colorscale": [
             [
              0,
              "#0d0887"
             ],
             [
              0.1111111111111111,
              "#46039f"
             ],
             [
              0.2222222222222222,
              "#7201a8"
             ],
             [
              0.3333333333333333,
              "#9c179e"
             ],
             [
              0.4444444444444444,
              "#bd3786"
             ],
             [
              0.5555555555555556,
              "#d8576b"
             ],
             [
              0.6666666666666666,
              "#ed7953"
             ],
             [
              0.7777777777777778,
              "#fb9f3a"
             ],
             [
              0.8888888888888888,
              "#fdca26"
             ],
             [
              1,
              "#f0f921"
             ]
            ],
            "type": "heatmap"
           }
          ],
          "heatmapgl": [
           {
            "colorbar": {
             "outlinewidth": 0,
             "ticks": ""
            },
            "colorscale": [
             [
              0,
              "#0d0887"
             ],
             [
              0.1111111111111111,
              "#46039f"
             ],
             [
              0.2222222222222222,
              "#7201a8"
             ],
             [
              0.3333333333333333,
              "#9c179e"
             ],
             [
              0.4444444444444444,
              "#bd3786"
             ],
             [
              0.5555555555555556,
              "#d8576b"
             ],
             [
              0.6666666666666666,
              "#ed7953"
             ],
             [
              0.7777777777777778,
              "#fb9f3a"
             ],
             [
              0.8888888888888888,
              "#fdca26"
             ],
             [
              1,
              "#f0f921"
             ]
            ],
            "type": "heatmapgl"
           }
          ],
          "histogram": [
           {
            "marker": {
             "colorbar": {
              "outlinewidth": 0,
              "ticks": ""
             }
            },
            "type": "histogram"
           }
          ],
          "histogram2d": [
           {
            "colorbar": {
             "outlinewidth": 0,
             "ticks": ""
            },
            "colorscale": [
             [
              0,
              "#0d0887"
             ],
             [
              0.1111111111111111,
              "#46039f"
             ],
             [
              0.2222222222222222,
              "#7201a8"
             ],
             [
              0.3333333333333333,
              "#9c179e"
             ],
             [
              0.4444444444444444,
              "#bd3786"
             ],
             [
              0.5555555555555556,
              "#d8576b"
             ],
             [
              0.6666666666666666,
              "#ed7953"
             ],
             [
              0.7777777777777778,
              "#fb9f3a"
             ],
             [
              0.8888888888888888,
              "#fdca26"
             ],
             [
              1,
              "#f0f921"
             ]
            ],
            "type": "histogram2d"
           }
          ],
          "histogram2dcontour": [
           {
            "colorbar": {
             "outlinewidth": 0,
             "ticks": ""
            },
            "colorscale": [
             [
              0,
              "#0d0887"
             ],
             [
              0.1111111111111111,
              "#46039f"
             ],
             [
              0.2222222222222222,
              "#7201a8"
             ],
             [
              0.3333333333333333,
              "#9c179e"
             ],
             [
              0.4444444444444444,
              "#bd3786"
             ],
             [
              0.5555555555555556,
              "#d8576b"
             ],
             [
              0.6666666666666666,
              "#ed7953"
             ],
             [
              0.7777777777777778,
              "#fb9f3a"
             ],
             [
              0.8888888888888888,
              "#fdca26"
             ],
             [
              1,
              "#f0f921"
             ]
            ],
            "type": "histogram2dcontour"
           }
          ],
          "mesh3d": [
           {
            "colorbar": {
             "outlinewidth": 0,
             "ticks": ""
            },
            "type": "mesh3d"
           }
          ],
          "parcoords": [
           {
            "line": {
             "colorbar": {
              "outlinewidth": 0,
              "ticks": ""
             }
            },
            "type": "parcoords"
           }
          ],
          "pie": [
           {
            "automargin": true,
            "type": "pie"
           }
          ],
          "scatter": [
           {
            "marker": {
             "colorbar": {
              "outlinewidth": 0,
              "ticks": ""
             }
            },
            "type": "scatter"
           }
          ],
          "scatter3d": [
           {
            "line": {
             "colorbar": {
              "outlinewidth": 0,
              "ticks": ""
             }
            },
            "marker": {
             "colorbar": {
              "outlinewidth": 0,
              "ticks": ""
             }
            },
            "type": "scatter3d"
           }
          ],
          "scattercarpet": [
           {
            "marker": {
             "colorbar": {
              "outlinewidth": 0,
              "ticks": ""
             }
            },
            "type": "scattercarpet"
           }
          ],
          "scattergeo": [
           {
            "marker": {
             "colorbar": {
              "outlinewidth": 0,
              "ticks": ""
             }
            },
            "type": "scattergeo"
           }
          ],
          "scattergl": [
           {
            "marker": {
             "colorbar": {
              "outlinewidth": 0,
              "ticks": ""
             }
            },
            "type": "scattergl"
           }
          ],
          "scattermapbox": [
           {
            "marker": {
             "colorbar": {
              "outlinewidth": 0,
              "ticks": ""
             }
            },
            "type": "scattermapbox"
           }
          ],
          "scatterpolar": [
           {
            "marker": {
             "colorbar": {
              "outlinewidth": 0,
              "ticks": ""
             }
            },
            "type": "scatterpolar"
           }
          ],
          "scatterpolargl": [
           {
            "marker": {
             "colorbar": {
              "outlinewidth": 0,
              "ticks": ""
             }
            },
            "type": "scatterpolargl"
           }
          ],
          "scatterternary": [
           {
            "marker": {
             "colorbar": {
              "outlinewidth": 0,
              "ticks": ""
             }
            },
            "type": "scatterternary"
           }
          ],
          "surface": [
           {
            "colorbar": {
             "outlinewidth": 0,
             "ticks": ""
            },
            "colorscale": [
             [
              0,
              "#0d0887"
             ],
             [
              0.1111111111111111,
              "#46039f"
             ],
             [
              0.2222222222222222,
              "#7201a8"
             ],
             [
              0.3333333333333333,
              "#9c179e"
             ],
             [
              0.4444444444444444,
              "#bd3786"
             ],
             [
              0.5555555555555556,
              "#d8576b"
             ],
             [
              0.6666666666666666,
              "#ed7953"
             ],
             [
              0.7777777777777778,
              "#fb9f3a"
             ],
             [
              0.8888888888888888,
              "#fdca26"
             ],
             [
              1,
              "#f0f921"
             ]
            ],
            "type": "surface"
           }
          ],
          "table": [
           {
            "cells": {
             "fill": {
              "color": "#EBF0F8"
             },
             "line": {
              "color": "white"
             }
            },
            "header": {
             "fill": {
              "color": "#C8D4E3"
             },
             "line": {
              "color": "white"
             }
            },
            "type": "table"
           }
          ]
         },
         "layout": {
          "annotationdefaults": {
           "arrowcolor": "#2a3f5f",
           "arrowhead": 0,
           "arrowwidth": 1
          },
          "autotypenumbers": "strict",
          "coloraxis": {
           "colorbar": {
            "outlinewidth": 0,
            "ticks": ""
           }
          },
          "colorscale": {
           "diverging": [
            [
             0,
             "#8e0152"
            ],
            [
             0.1,
             "#c51b7d"
            ],
            [
             0.2,
             "#de77ae"
            ],
            [
             0.3,
             "#f1b6da"
            ],
            [
             0.4,
             "#fde0ef"
            ],
            [
             0.5,
             "#f7f7f7"
            ],
            [
             0.6,
             "#e6f5d0"
            ],
            [
             0.7,
             "#b8e186"
            ],
            [
             0.8,
             "#7fbc41"
            ],
            [
             0.9,
             "#4d9221"
            ],
            [
             1,
             "#276419"
            ]
           ],
           "sequential": [
            [
             0,
             "#0d0887"
            ],
            [
             0.1111111111111111,
             "#46039f"
            ],
            [
             0.2222222222222222,
             "#7201a8"
            ],
            [
             0.3333333333333333,
             "#9c179e"
            ],
            [
             0.4444444444444444,
             "#bd3786"
            ],
            [
             0.5555555555555556,
             "#d8576b"
            ],
            [
             0.6666666666666666,
             "#ed7953"
            ],
            [
             0.7777777777777778,
             "#fb9f3a"
            ],
            [
             0.8888888888888888,
             "#fdca26"
            ],
            [
             1,
             "#f0f921"
            ]
           ],
           "sequentialminus": [
            [
             0,
             "#0d0887"
            ],
            [
             0.1111111111111111,
             "#46039f"
            ],
            [
             0.2222222222222222,
             "#7201a8"
            ],
            [
             0.3333333333333333,
             "#9c179e"
            ],
            [
             0.4444444444444444,
             "#bd3786"
            ],
            [
             0.5555555555555556,
             "#d8576b"
            ],
            [
             0.6666666666666666,
             "#ed7953"
            ],
            [
             0.7777777777777778,
             "#fb9f3a"
            ],
            [
             0.8888888888888888,
             "#fdca26"
            ],
            [
             1,
             "#f0f921"
            ]
           ]
          },
          "colorway": [
           "#636efa",
           "#EF553B",
           "#00cc96",
           "#ab63fa",
           "#FFA15A",
           "#19d3f3",
           "#FF6692",
           "#B6E880",
           "#FF97FF",
           "#FECB52"
          ],
          "font": {
           "color": "#2a3f5f"
          },
          "geo": {
           "bgcolor": "white",
           "lakecolor": "white",
           "landcolor": "#E5ECF6",
           "showlakes": true,
           "showland": true,
           "subunitcolor": "white"
          },
          "hoverlabel": {
           "align": "left"
          },
          "hovermode": "closest",
          "mapbox": {
           "style": "light"
          },
          "paper_bgcolor": "white",
          "plot_bgcolor": "#E5ECF6",
          "polar": {
           "angularaxis": {
            "gridcolor": "white",
            "linecolor": "white",
            "ticks": ""
           },
           "bgcolor": "#E5ECF6",
           "radialaxis": {
            "gridcolor": "white",
            "linecolor": "white",
            "ticks": ""
           }
          },
          "scene": {
           "xaxis": {
            "backgroundcolor": "#E5ECF6",
            "gridcolor": "white",
            "gridwidth": 2,
            "linecolor": "white",
            "showbackground": true,
            "ticks": "",
            "zerolinecolor": "white"
           },
           "yaxis": {
            "backgroundcolor": "#E5ECF6",
            "gridcolor": "white",
            "gridwidth": 2,
            "linecolor": "white",
            "showbackground": true,
            "ticks": "",
            "zerolinecolor": "white"
           },
           "zaxis": {
            "backgroundcolor": "#E5ECF6",
            "gridcolor": "white",
            "gridwidth": 2,
            "linecolor": "white",
            "showbackground": true,
            "ticks": "",
            "zerolinecolor": "white"
           }
          },
          "shapedefaults": {
           "line": {
            "color": "#2a3f5f"
           }
          },
          "ternary": {
           "aaxis": {
            "gridcolor": "white",
            "linecolor": "white",
            "ticks": ""
           },
           "baxis": {
            "gridcolor": "white",
            "linecolor": "white",
            "ticks": ""
           },
           "bgcolor": "#E5ECF6",
           "caxis": {
            "gridcolor": "white",
            "linecolor": "white",
            "ticks": ""
           }
          },
          "title": {
           "x": 0.05
          },
          "xaxis": {
           "automargin": true,
           "gridcolor": "white",
           "linecolor": "white",
           "ticks": "",
           "title": {
            "standoff": 15
           },
           "zerolinecolor": "white",
           "zerolinewidth": 2
          },
          "yaxis": {
           "automargin": true,
           "gridcolor": "white",
           "linecolor": "white",
           "ticks": "",
           "title": {
            "standoff": 15
           },
           "zerolinecolor": "white",
           "zerolinewidth": 2
          }
         }
        },
        "title": {
         "text": "Human G-protein coupled receptor 183"
        },
        "xaxis": {
         "title": {
          "text": "Postion"
         }
        },
        "yaxis": {
         "title": {
          "text": "Hydropathy"
         }
        }
       }
      },
      "text/html": [
       "<div>                            <div id=\"59baae04-cf12-45f6-9ae8-895169edc168\" class=\"plotly-graph-div\" style=\"height:525px; width:100%;\"></div>            <script type=\"text/javascript\">                require([\"plotly\"], function(Plotly) {                    window.PLOTLYENV=window.PLOTLYENV || {};                                    if (document.getElementById(\"59baae04-cf12-45f6-9ae8-895169edc168\")) {                    Plotly.newPlot(                        \"59baae04-cf12-45f6-9ae8-895169edc168\",                        [{\"type\": \"scatter\", \"x\": [0, 1, 2, 3, 4, 5, 6, 7, 8, 9, 10, 11, 12, 13, 14, 15, 16, 17, 18, 19, 20, 21, 22, 23, 24, 25, 26, 27, 28, 29, 30, 31, 32, 33, 34, 35, 36, 37, 38, 39, 40, 41, 42, 43, 44, 45, 46, 47, 48, 49, 50, 51, 52, 53, 54, 55, 56, 57, 58, 59, 60, 61, 62, 63, 64, 65, 66, 67, 68, 69, 70, 71, 72, 73, 74, 75, 76, 77, 78, 79, 80, 81, 82, 83, 84, 85, 86, 87, 88, 89, 90, 91, 92, 93, 94, 95, 96, 97, 98, 99, 100, 101, 102, 103, 104, 105, 106, 107, 108, 109, 110, 111, 112, 113, 114, 115, 116, 117, 118, 119, 120, 121, 122, 123, 124, 125, 126, 127, 128, 129, 130, 131, 132, 133, 134, 135, 136, 137, 138, 139, 140, 141, 142, 143, 144, 145, 146, 147, 148, 149, 150, 151, 152, 153, 154, 155, 156, 157, 158, 159, 160, 161, 162, 163, 164, 165, 166, 167, 168, 169, 170, 171, 172, 173, 174, 175, 176, 177, 178, 179, 180, 181, 182, 183, 184, 185, 186, 187, 188, 189, 190, 191, 192, 193, 194, 195, 196, 197, 198, 199, 200, 201, 202, 203, 204, 205, 206, 207, 208, 209, 210, 211, 212, 213, 214, 215, 216, 217, 218, 219, 220, 221, 222, 223, 224, 225, 226, 227, 228, 229, 230, 231, 232, 233, 234, 235, 236, 237, 238, 239, 240, 241, 242, 243, 244, 245, 246, 247, 248, 249, 250, 251, 252, 253, 254, 255, 256, 257, 258, 259, 260, 261, 262, 263, 264, 265, 266, 267, 268, 269, 270, 271, 272, 273, 274, 275, 276, 277, 278, 279, 280, 281, 282, 283, 284, 285, 286, 287, 288, 289, 290, 291, 292, 293, 294, 295, 296, 297, 298, 299, 300, 301, 302, 303, 304, 305, 306, 307, 308, 309, 310, 311, 312, 313, 314, 315, 316, 317, 318, 319, 320, 321, 322, 323, 324, 325, 326, 327, 328, 329, 330, 331, 332, 333, 334, 335, 336, 337, 338, 339, 340, 341, 342, 343, 344, 345, 346, 347, 348, 349, 350, 351, 352, 353, 354, 355, 356, 357, 358, 359, 360], \"y\": [1.9, -3.5, 4.5, -3.5, 1.9, 1.8, -3.5, -3.5, 2.8, -0.7, -1.6, -1.6, -0.8, 1.8, -0.7, -1.6, -3.5, -0.4, -3.5, -3.5, 2.5, -3.5, 3.8, -1.3, 1.8, -3.2, -3.2, -0.8, -0.7, 1.8, -4.5, 4.5, 4.2, 1.9, -1.6, 3.8, -3.2, -1.3, -0.8, 3.8, 4.2, 2.8, 4.5, 4.5, -0.4, 3.8, 4.2, -0.4, -3.5, 3.8, 3.8, 1.8, 3.8, 4.2, 4.2, 4.5, 4.2, -3.5, -3.5, -4.5, -3.9, -3.9, 4.5, -3.5, -0.8, -0.7, -0.7, 3.8, -1.3, -0.8, -0.7, -3.5, 3.8, 4.2, 4.5, -0.8, -3.5, 4.5, 3.8, 2.8, -0.7, -0.7, 1.8, 3.8, -1.6, -0.7, -4.5, 4.5, 1.8, -1.3, -1.3, 1.8, 1.9, -0.4, 2.8, -3.5, -0.9, -4.5, 4.5, -0.4, -3.5, 1.8, 3.8, 2.5, -4.5, 4.5, -0.7, 1.8, 3.8, 4.2, 2.8, -1.3, 4.5, -3.5, -0.7, -1.3, 1.8, -0.4, 4.2, -3.5, 2.8, 1.9, -0.7, 2.5, 3.8, -0.8, 4.5, -3.5, -4.5, 2.8, 4.5, 1.8, 4.2, 4.2, -3.2, -1.6, 3.8, -4.5, -1.3, -3.5, -3.9, 4.5, -3.9, -4.5, 4.5, -3.5, -3.2, 1.8, -3.9, -0.4, 4.2, 2.5, 4.5, 2.8, 4.2, -0.9, 4.5, 3.8, 4.2, 2.8, 1.8, -3.5, -0.7, 3.8, -1.6, 3.8, 3.8, 4.5, -3.5, -1.6, 1.9, -0.8, -3.9, -3.5, -3.5, 1.8, -3.5, -4.5, 4.5, -0.7, 2.5, 1.9, -3.5, -1.3, -1.6, -3.5, 2.8, -3.5, -3.5, -0.7, -3.9, -0.8, 3.8, -1.6, -0.9, 4.5, 3.8, 3.8, -0.4, 1.8, 2.5, 2.8, 4.5, -0.4, -1.3, 4.2, 3.8, -1.6, 3.8, 4.5, 4.5, 4.5, 3.8, 4.5, 2.5, -1.3, -0.8, -3.5, 4.5, 2.5, 2.5, -3.9, 3.8, 2.8, -4.5, -0.7, 1.8, -3.9, -3.5, -3.5, -1.6, 3.8, -0.7, -3.5, -3.9, -0.8, -0.4, 4.2, -3.5, -3.9, -3.9, 1.8, 3.8, -3.5, -0.7, 4.5, 4.5, 3.8, 4.5, 4.5, 4.2, 4.2, 2.8, 4.2, 3.8, 2.5, 2.8, -0.7, -1.6, -1.3, -3.2, 4.2, 1.8, 4.5, 4.5, -3.5, -3.2, 1.9, 4.5, -3.9, -3.9, 3.8, -4.5, 2.8, -0.8, -3.5, 2.8, 3.8, -3.5, 2.5, -0.8, -3.5, -4.5, -3.2, -0.8, 2.8, -3.5, 4.5, -0.8, 3.8, -3.2, 2.8, -0.7, 4.2, 2.5, 3.8, 1.9, -3.5, 2.8, -3.5, 2.5, 2.5, 1.9, -3.5, -1.6, 2.8, 4.5, -1.3, 2.8, 2.8, 1.8, 2.5, -3.9, -0.4, -1.3, -3.9, -4.5, -3.9, 4.2, 1.9, -4.5, 1.9, 3.8, -3.9, -4.5, -3.5, 4.2, -0.8, 4.2, -0.8, 4.5, -0.8, -0.8, 1.8, 4.2, -3.9, -0.8, 1.8, -1.6, -3.5, -3.5, -3.5, -0.8, -4.5, -3.5, 1.9, -0.7, -3.5, -0.7, -3.5, 1.9, 1.9, 4.5, -3.2, -0.8, -3.9, -0.8, -0.8, -3.5, -0.4, -3.9]}],                        {\"template\": {\"data\": {\"bar\": [{\"error_x\": {\"color\": \"#2a3f5f\"}, \"error_y\": {\"color\": \"#2a3f5f\"}, \"marker\": {\"line\": {\"color\": \"#E5ECF6\", \"width\": 0.5}}, \"type\": \"bar\"}], \"barpolar\": [{\"marker\": {\"line\": {\"color\": \"#E5ECF6\", \"width\": 0.5}}, \"type\": \"barpolar\"}], \"carpet\": [{\"aaxis\": {\"endlinecolor\": \"#2a3f5f\", \"gridcolor\": \"white\", \"linecolor\": \"white\", \"minorgridcolor\": \"white\", \"startlinecolor\": \"#2a3f5f\"}, \"baxis\": {\"endlinecolor\": \"#2a3f5f\", \"gridcolor\": \"white\", \"linecolor\": \"white\", \"minorgridcolor\": \"white\", \"startlinecolor\": \"#2a3f5f\"}, \"type\": \"carpet\"}], \"choropleth\": [{\"colorbar\": {\"outlinewidth\": 0, \"ticks\": \"\"}, \"type\": \"choropleth\"}], \"contour\": [{\"colorbar\": {\"outlinewidth\": 0, \"ticks\": \"\"}, \"colorscale\": [[0.0, \"#0d0887\"], [0.1111111111111111, \"#46039f\"], [0.2222222222222222, \"#7201a8\"], [0.3333333333333333, \"#9c179e\"], [0.4444444444444444, \"#bd3786\"], [0.5555555555555556, \"#d8576b\"], [0.6666666666666666, \"#ed7953\"], [0.7777777777777778, \"#fb9f3a\"], [0.8888888888888888, \"#fdca26\"], [1.0, \"#f0f921\"]], \"type\": \"contour\"}], \"contourcarpet\": [{\"colorbar\": {\"outlinewidth\": 0, \"ticks\": \"\"}, \"type\": \"contourcarpet\"}], \"heatmap\": [{\"colorbar\": {\"outlinewidth\": 0, \"ticks\": \"\"}, \"colorscale\": [[0.0, \"#0d0887\"], [0.1111111111111111, \"#46039f\"], [0.2222222222222222, \"#7201a8\"], [0.3333333333333333, \"#9c179e\"], [0.4444444444444444, \"#bd3786\"], [0.5555555555555556, \"#d8576b\"], [0.6666666666666666, \"#ed7953\"], [0.7777777777777778, \"#fb9f3a\"], [0.8888888888888888, \"#fdca26\"], [1.0, \"#f0f921\"]], \"type\": \"heatmap\"}], \"heatmapgl\": [{\"colorbar\": {\"outlinewidth\": 0, \"ticks\": \"\"}, \"colorscale\": [[0.0, \"#0d0887\"], [0.1111111111111111, \"#46039f\"], [0.2222222222222222, \"#7201a8\"], [0.3333333333333333, \"#9c179e\"], [0.4444444444444444, \"#bd3786\"], [0.5555555555555556, \"#d8576b\"], [0.6666666666666666, \"#ed7953\"], [0.7777777777777778, \"#fb9f3a\"], [0.8888888888888888, \"#fdca26\"], [1.0, \"#f0f921\"]], \"type\": \"heatmapgl\"}], \"histogram\": [{\"marker\": {\"colorbar\": {\"outlinewidth\": 0, \"ticks\": \"\"}}, \"type\": \"histogram\"}], \"histogram2d\": [{\"colorbar\": {\"outlinewidth\": 0, \"ticks\": \"\"}, \"colorscale\": [[0.0, \"#0d0887\"], [0.1111111111111111, \"#46039f\"], [0.2222222222222222, \"#7201a8\"], [0.3333333333333333, \"#9c179e\"], [0.4444444444444444, \"#bd3786\"], [0.5555555555555556, \"#d8576b\"], [0.6666666666666666, \"#ed7953\"], [0.7777777777777778, \"#fb9f3a\"], [0.8888888888888888, \"#fdca26\"], [1.0, \"#f0f921\"]], \"type\": \"histogram2d\"}], \"histogram2dcontour\": [{\"colorbar\": {\"outlinewidth\": 0, \"ticks\": \"\"}, \"colorscale\": [[0.0, \"#0d0887\"], [0.1111111111111111, \"#46039f\"], [0.2222222222222222, \"#7201a8\"], [0.3333333333333333, \"#9c179e\"], [0.4444444444444444, \"#bd3786\"], [0.5555555555555556, \"#d8576b\"], [0.6666666666666666, \"#ed7953\"], [0.7777777777777778, \"#fb9f3a\"], [0.8888888888888888, \"#fdca26\"], [1.0, \"#f0f921\"]], \"type\": \"histogram2dcontour\"}], \"mesh3d\": [{\"colorbar\": {\"outlinewidth\": 0, \"ticks\": \"\"}, \"type\": \"mesh3d\"}], \"parcoords\": [{\"line\": {\"colorbar\": {\"outlinewidth\": 0, \"ticks\": \"\"}}, \"type\": \"parcoords\"}], \"pie\": [{\"automargin\": true, \"type\": \"pie\"}], \"scatter\": [{\"marker\": {\"colorbar\": {\"outlinewidth\": 0, \"ticks\": \"\"}}, \"type\": \"scatter\"}], \"scatter3d\": [{\"line\": {\"colorbar\": {\"outlinewidth\": 0, \"ticks\": \"\"}}, \"marker\": {\"colorbar\": {\"outlinewidth\": 0, \"ticks\": \"\"}}, \"type\": \"scatter3d\"}], \"scattercarpet\": [{\"marker\": {\"colorbar\": {\"outlinewidth\": 0, \"ticks\": \"\"}}, \"type\": \"scattercarpet\"}], \"scattergeo\": [{\"marker\": {\"colorbar\": {\"outlinewidth\": 0, \"ticks\": \"\"}}, \"type\": \"scattergeo\"}], \"scattergl\": [{\"marker\": {\"colorbar\": {\"outlinewidth\": 0, \"ticks\": \"\"}}, \"type\": \"scattergl\"}], \"scattermapbox\": [{\"marker\": {\"colorbar\": {\"outlinewidth\": 0, \"ticks\": \"\"}}, \"type\": \"scattermapbox\"}], \"scatterpolar\": [{\"marker\": {\"colorbar\": {\"outlinewidth\": 0, \"ticks\": \"\"}}, \"type\": \"scatterpolar\"}], \"scatterpolargl\": [{\"marker\": {\"colorbar\": {\"outlinewidth\": 0, \"ticks\": \"\"}}, \"type\": \"scatterpolargl\"}], \"scatterternary\": [{\"marker\": {\"colorbar\": {\"outlinewidth\": 0, \"ticks\": \"\"}}, \"type\": \"scatterternary\"}], \"surface\": [{\"colorbar\": {\"outlinewidth\": 0, \"ticks\": \"\"}, \"colorscale\": [[0.0, \"#0d0887\"], [0.1111111111111111, \"#46039f\"], [0.2222222222222222, \"#7201a8\"], [0.3333333333333333, \"#9c179e\"], [0.4444444444444444, \"#bd3786\"], [0.5555555555555556, \"#d8576b\"], [0.6666666666666666, \"#ed7953\"], [0.7777777777777778, \"#fb9f3a\"], [0.8888888888888888, \"#fdca26\"], [1.0, \"#f0f921\"]], \"type\": \"surface\"}], \"table\": [{\"cells\": {\"fill\": {\"color\": \"#EBF0F8\"}, \"line\": {\"color\": \"white\"}}, \"header\": {\"fill\": {\"color\": \"#C8D4E3\"}, \"line\": {\"color\": \"white\"}}, \"type\": \"table\"}]}, \"layout\": {\"annotationdefaults\": {\"arrowcolor\": \"#2a3f5f\", \"arrowhead\": 0, \"arrowwidth\": 1}, \"autotypenumbers\": \"strict\", \"coloraxis\": {\"colorbar\": {\"outlinewidth\": 0, \"ticks\": \"\"}}, \"colorscale\": {\"diverging\": [[0, \"#8e0152\"], [0.1, \"#c51b7d\"], [0.2, \"#de77ae\"], [0.3, \"#f1b6da\"], [0.4, \"#fde0ef\"], [0.5, \"#f7f7f7\"], [0.6, \"#e6f5d0\"], [0.7, \"#b8e186\"], [0.8, \"#7fbc41\"], [0.9, \"#4d9221\"], [1, \"#276419\"]], \"sequential\": [[0.0, \"#0d0887\"], [0.1111111111111111, \"#46039f\"], [0.2222222222222222, \"#7201a8\"], [0.3333333333333333, \"#9c179e\"], [0.4444444444444444, \"#bd3786\"], [0.5555555555555556, \"#d8576b\"], [0.6666666666666666, \"#ed7953\"], [0.7777777777777778, \"#fb9f3a\"], [0.8888888888888888, \"#fdca26\"], [1.0, \"#f0f921\"]], \"sequentialminus\": [[0.0, \"#0d0887\"], [0.1111111111111111, \"#46039f\"], [0.2222222222222222, \"#7201a8\"], [0.3333333333333333, \"#9c179e\"], [0.4444444444444444, \"#bd3786\"], [0.5555555555555556, \"#d8576b\"], [0.6666666666666666, \"#ed7953\"], [0.7777777777777778, \"#fb9f3a\"], [0.8888888888888888, \"#fdca26\"], [1.0, \"#f0f921\"]]}, \"colorway\": [\"#636efa\", \"#EF553B\", \"#00cc96\", \"#ab63fa\", \"#FFA15A\", \"#19d3f3\", \"#FF6692\", \"#B6E880\", \"#FF97FF\", \"#FECB52\"], \"font\": {\"color\": \"#2a3f5f\"}, \"geo\": {\"bgcolor\": \"white\", \"lakecolor\": \"white\", \"landcolor\": \"#E5ECF6\", \"showlakes\": true, \"showland\": true, \"subunitcolor\": \"white\"}, \"hoverlabel\": {\"align\": \"left\"}, \"hovermode\": \"closest\", \"mapbox\": {\"style\": \"light\"}, \"paper_bgcolor\": \"white\", \"plot_bgcolor\": \"#E5ECF6\", \"polar\": {\"angularaxis\": {\"gridcolor\": \"white\", \"linecolor\": \"white\", \"ticks\": \"\"}, \"bgcolor\": \"#E5ECF6\", \"radialaxis\": {\"gridcolor\": \"white\", \"linecolor\": \"white\", \"ticks\": \"\"}}, \"scene\": {\"xaxis\": {\"backgroundcolor\": \"#E5ECF6\", \"gridcolor\": \"white\", \"gridwidth\": 2, \"linecolor\": \"white\", \"showbackground\": true, \"ticks\": \"\", \"zerolinecolor\": \"white\"}, \"yaxis\": {\"backgroundcolor\": \"#E5ECF6\", \"gridcolor\": \"white\", \"gridwidth\": 2, \"linecolor\": \"white\", \"showbackground\": true, \"ticks\": \"\", \"zerolinecolor\": \"white\"}, \"zaxis\": {\"backgroundcolor\": \"#E5ECF6\", \"gridcolor\": \"white\", \"gridwidth\": 2, \"linecolor\": \"white\", \"showbackground\": true, \"ticks\": \"\", \"zerolinecolor\": \"white\"}}, \"shapedefaults\": {\"line\": {\"color\": \"#2a3f5f\"}}, \"ternary\": {\"aaxis\": {\"gridcolor\": \"white\", \"linecolor\": \"white\", \"ticks\": \"\"}, \"baxis\": {\"gridcolor\": \"white\", \"linecolor\": \"white\", \"ticks\": \"\"}, \"bgcolor\": \"#E5ECF6\", \"caxis\": {\"gridcolor\": \"white\", \"linecolor\": \"white\", \"ticks\": \"\"}}, \"title\": {\"x\": 0.05}, \"xaxis\": {\"automargin\": true, \"gridcolor\": \"white\", \"linecolor\": \"white\", \"ticks\": \"\", \"title\": {\"standoff\": 15}, \"zerolinecolor\": \"white\", \"zerolinewidth\": 2}, \"yaxis\": {\"automargin\": true, \"gridcolor\": \"white\", \"linecolor\": \"white\", \"ticks\": \"\", \"title\": {\"standoff\": 15}, \"zerolinecolor\": \"white\", \"zerolinewidth\": 2}}}, \"title\": {\"text\": \"Human G-protein coupled receptor 183\"}, \"xaxis\": {\"title\": {\"text\": \"Postion\"}}, \"yaxis\": {\"title\": {\"text\": \"Hydropathy\"}}},                        {\"responsive\": true}                    ).then(function(){\n",
       "                            \n",
       "var gd = document.getElementById('59baae04-cf12-45f6-9ae8-895169edc168');\n",
       "var x = new MutationObserver(function (mutations, observer) {{\n",
       "        var display = window.getComputedStyle(gd).display;\n",
       "        if (!display || display === 'none') {{\n",
       "            console.log([gd, 'removed!']);\n",
       "            Plotly.purge(gd);\n",
       "            observer.disconnect();\n",
       "        }}\n",
       "}});\n",
       "\n",
       "// Listen for the removal of the full notebook cells\n",
       "var notebookContainer = gd.closest('#notebook-container');\n",
       "if (notebookContainer) {{\n",
       "    x.observe(notebookContainer, {childList: true});\n",
       "}}\n",
       "\n",
       "// Listen for the clearing of the current output cell\n",
       "var outputEl = gd.closest('.output');\n",
       "if (outputEl) {{\n",
       "    x.observe(outputEl, {childList: true});\n",
       "}}\n",
       "\n",
       "                        })                };                });            </script>        </div>"
      ]
     },
     "metadata": {},
     "output_type": "display_data"
    }
   ],
   "source": [
    "data = [\n",
    "    go.Scatter(x=list(range(0,len(hydropathy))),\n",
    "               y=hydropathy\n",
    "    )\n",
    "]\n",
    "\n",
    "layout = {\n",
    "    'title': {\n",
    "        'text':'Human G-protein coupled receptor 183'\n",
    "    },\n",
    "    'yaxis':{\n",
    "        'title': 'Hydropathy'\n",
    "    },\n",
    "    'xaxis':{\n",
    "        'title': 'Postion'\n",
    "    }\n",
    "}\n",
    "\n",
    "fig = go.Figure(data=data, layout=layout)\n",
    "fig.show()"
   ]
  },
  {
   "cell_type": "code",
   "execution_count": 8,
   "metadata": {},
   "outputs": [],
   "source": [
    "def rolling_mean(lst, window_size):\n",
    "    smoothed_lst = []\n",
    "    window = deque(lst[:window_size-1], maxlen=window_size)\n",
    "    for value in lst[window_size-1:]:\n",
    "        window.append(value)\n",
    "        window_sum = sum(window)\n",
    "        smoothed_lst.append(window_sum/window_size)\n",
    "    return smoothed_lst"
   ]
  },
  {
   "cell_type": "code",
   "execution_count": 9,
   "metadata": {},
   "outputs": [],
   "source": [
    "hydropathy_5 = rolling_mean(hydropathy, 5)\n",
    "hydropathy_10 = rolling_mean(hydropathy, 10)\n",
    "hydropathy_15 = rolling_mean(hydropathy, 15)"
   ]
  },
  {
   "cell_type": "code",
   "execution_count": 12,
   "metadata": {},
   "outputs": [
    {
     "data": {
      "application/vnd.plotly.v1+json": {
       "config": {
        "plotlyServerURL": "https://plot.ly"
       },
       "data": [
        {
         "name": "window size 5",
         "type": "scatter",
         "x": [
          0,
          1,
          2,
          3,
          4,
          5,
          6,
          7,
          8,
          9,
          10,
          11,
          12,
          13,
          14,
          15,
          16,
          17,
          18,
          19,
          20,
          21,
          22,
          23,
          24,
          25,
          26,
          27,
          28,
          29,
          30,
          31,
          32,
          33,
          34,
          35,
          36,
          37,
          38,
          39,
          40,
          41,
          42,
          43,
          44,
          45,
          46,
          47,
          48,
          49,
          50,
          51,
          52,
          53,
          54,
          55,
          56,
          57,
          58,
          59,
          60,
          61,
          62,
          63,
          64,
          65,
          66,
          67,
          68,
          69,
          70,
          71,
          72,
          73,
          74,
          75,
          76,
          77,
          78,
          79,
          80,
          81,
          82,
          83,
          84,
          85,
          86,
          87,
          88,
          89,
          90,
          91,
          92,
          93,
          94,
          95,
          96,
          97,
          98,
          99,
          100,
          101,
          102,
          103,
          104,
          105,
          106,
          107,
          108,
          109,
          110,
          111,
          112,
          113,
          114,
          115,
          116,
          117,
          118,
          119,
          120,
          121,
          122,
          123,
          124,
          125,
          126,
          127,
          128,
          129,
          130,
          131,
          132,
          133,
          134,
          135,
          136,
          137,
          138,
          139,
          140,
          141,
          142,
          143,
          144,
          145,
          146,
          147,
          148,
          149,
          150,
          151,
          152,
          153,
          154,
          155,
          156,
          157,
          158,
          159,
          160,
          161,
          162,
          163,
          164,
          165,
          166,
          167,
          168,
          169,
          170,
          171,
          172,
          173,
          174,
          175,
          176,
          177,
          178,
          179,
          180,
          181,
          182,
          183,
          184,
          185,
          186,
          187,
          188,
          189,
          190,
          191,
          192,
          193,
          194,
          195,
          196,
          197,
          198,
          199,
          200,
          201,
          202,
          203,
          204,
          205,
          206,
          207,
          208,
          209,
          210,
          211,
          212,
          213,
          214,
          215,
          216,
          217,
          218,
          219,
          220,
          221,
          222,
          223,
          224,
          225,
          226,
          227,
          228,
          229,
          230,
          231,
          232,
          233,
          234,
          235,
          236,
          237,
          238,
          239,
          240,
          241,
          242,
          243,
          244,
          245,
          246,
          247,
          248,
          249,
          250,
          251,
          252,
          253,
          254,
          255,
          256,
          257,
          258,
          259,
          260,
          261,
          262,
          263,
          264,
          265,
          266,
          267,
          268,
          269,
          270,
          271,
          272,
          273,
          274,
          275,
          276,
          277,
          278,
          279,
          280,
          281,
          282,
          283,
          284,
          285,
          286,
          287,
          288,
          289,
          290,
          291,
          292,
          293,
          294,
          295,
          296,
          297,
          298,
          299,
          300,
          301,
          302,
          303,
          304,
          305,
          306,
          307,
          308,
          309,
          310,
          311,
          312,
          313,
          314,
          315,
          316,
          317,
          318,
          319,
          320,
          321,
          322,
          323,
          324,
          325,
          326,
          327,
          328,
          329,
          330,
          331,
          332,
          333,
          334,
          335,
          336,
          337,
          338,
          339,
          340,
          341,
          342,
          343,
          344,
          345,
          346,
          347,
          348,
          349,
          350,
          351,
          352,
          353,
          354,
          355,
          356
         ],
         "y": [
          0.25999999999999995,
          0.24,
          0.24000000000000005,
          -1.3599999999999999,
          -0.1,
          -0.6200000000000001,
          -1.3,
          -0.9199999999999999,
          -0.3800000000000001,
          -0.5800000000000001,
          -0.5800000000000001,
          -0.5800000000000001,
          -0.96,
          -0.8800000000000001,
          -1.94,
          -2.5,
          -1.6800000000000002,
          -1.6800000000000002,
          -0.8400000000000001,
          -0.4,
          0.6599999999999999,
          -0.4800000000000001,
          -0.4200000000000001,
          -1.34,
          -1.2200000000000002,
          -1.2200000000000002,
          -1.48,
          0.05999999999999996,
          1.06,
          1.58,
          0.9,
          2.56,
          1.02,
          -0.08000000000000011,
          -0.6200000000000001,
          0.45999999999999985,
          0.54,
          1.7399999999999998,
          2.9,
          3.96,
          3.12,
          3.04,
          3.3199999999999994,
          2.34,
          0.7399999999999999,
          1.5799999999999998,
          1.5799999999999998,
          1.1,
          1.94,
          3.4799999999999995,
          3.5599999999999996,
          3.7,
          4.18,
          2.72,
          1.1799999999999997,
          -0.5600000000000002,
          -2.2399999999999998,
          -3.8600000000000003,
          -2.2600000000000002,
          -2.2600000000000002,
          -1.52,
          -0.8800000000000001,
          -0.24,
          -0.38000000000000006,
          0.05999999999999992,
          0.05999999999999996,
          0.05999999999999992,
          -0.5,
          -0.5,
          0.6,
          1.6600000000000001,
          1.64,
          1.64,
          1.7799999999999998,
          1.7,
          1.3599999999999999,
          1.38,
          1.9400000000000006,
          1.4,
          1.4,
          0.52,
          0.5200000000000001,
          -0.24000000000000005,
          0.3,
          -0.09999999999999995,
          -0.040000000000000036,
          -0.16,
          1.1,
          0.58,
          0.13999999999999996,
          0.96,
          0.5199999999999999,
          -0.02000000000000004,
          -1.3,
          -0.31999999999999995,
          -0.9600000000000002,
          -0.9600000000000002,
          -0.41999999999999993,
          1.2399999999999998,
          0.8400000000000001,
          0.019999999999999928,
          1.6199999999999999,
          1.1199999999999999,
          0.72,
          0.9800000000000001,
          2.7199999999999998,
          2.3800000000000003,
          2.2600000000000002,
          2.8,
          1.3399999999999999,
          0.36,
          -0.45999999999999996,
          0.16,
          -0.8200000000000001,
          0.72,
          0.15999999999999998,
          0.9799999999999999,
          1,
          0.9400000000000001,
          0.6,
          2.0599999999999996,
          1.34,
          1.86,
          1.3,
          -0.1,
          -0.3,
          0.76,
          0.21999999999999997,
          1.7600000000000002,
          3.5,
          2.3,
          1.0799999999999996,
          1.48,
          -0.26000000000000006,
          -1.36,
          -1.4200000000000002,
          -1.8800000000000001,
          -1.7400000000000002,
          -1.6199999999999999,
          -2.2600000000000002,
          -0.6599999999999999,
          -0.58,
          -2.12,
          -0.9800000000000001,
          -0.86,
          -1.8400000000000003,
          -0.3,
          0.8400000000000002,
          1.3800000000000001,
          2.72,
          3.6399999999999997,
          2.62,
          3.02,
          2.88,
          3.16,
          2.8800000000000003,
          3.4200000000000004,
          1.8200000000000003,
          0.9200000000000002,
          0.8399999999999999,
          -0.040000000000000036,
          0.3599999999999999,
          1.8199999999999996,
          2.8600000000000003,
          1.4,
          1.4,
          1.02,
          0.09999999999999995,
          -1.58,
          -1.58,
          -1.9600000000000002,
          -1.9799999999999998,
          -2.52,
          -2.6399999999999997,
          -1.0399999999999998,
          -0.4800000000000001,
          -0.34,
          0.74,
          0.9399999999999998,
          -0.21999999999999997,
          -0.39999999999999997,
          -1.6,
          -1.4200000000000002,
          -1.4200000000000002,
          -1.86,
          -1.6800000000000002,
          -1.7600000000000002,
          -2.48,
          -1.02,
          -0.6399999999999999,
          -0.68,
          1,
          1.92,
          1.92,
          2.1599999999999997,
          2.7,
          2.3,
          2.1,
          2.2399999999999998,
          2.2399999999999998,
          1.6199999999999999,
          1.9600000000000002,
          2.16,
          0.9399999999999998,
          1.7799999999999998,
          2.94,
          3,
          3.1399999999999997,
          4.220000000000001,
          4.36,
          3.96,
          2.8,
          1.7399999999999998,
          0.2800000000000001,
          0.27999999999999997,
          0.2800000000000001,
          1.04,
          0.42000000000000004,
          1.8799999999999997,
          1.54,
          0.13999999999999985,
          -0.5,
          0.6399999999999999,
          -0.9,
          -2.16,
          -1.9600000000000002,
          -2.1399999999999997,
          -1.7399999999999998,
          -1.1,
          -1.1,
          -1.1800000000000002,
          -1.02,
          -1.86,
          -0.8800000000000002,
          -0.8800000000000001,
          -0.8800000000000001,
          -1.5,
          -1.06,
          -1.1400000000000001,
          -1.1400000000000001,
          -0.5,
          1.18,
          1.72,
          1.72,
          3.3200000000000003,
          4.36,
          4.3,
          4.24,
          4.04,
          3.9799999999999995,
          3.84,
          3.5,
          3.22,
          2.5200000000000005,
          1.36,
          0.3399999999999999,
          -0.8000000000000002,
          -0.5199999999999999,
          -0.020000000000000063,
          1.2,
          2.3600000000000003,
          2.3,
          0.8200000000000001,
          0.8399999999999999,
          0.8399999999999999,
          -0.8400000000000002,
          -0.9199999999999999,
          0.4800000000000001,
          -0.8,
          -1.1400000000000001,
          -0.5199999999999999,
          -0.44000000000000006,
          -0.64,
          1.02,
          -0.24000000000000005,
          0.41999999999999993,
          0.96,
          -0.30000000000000004,
          -1.9600000000000002,
          -1.9,
          -2.56,
          -1.8399999999999999,
          -1.8399999999999999,
          -0.040000000000000036,
          0.44000000000000006,
          1.3599999999999999,
          0.15999999999999998,
          1.42,
          0.37999999999999995,
          1.38,
          1.1199999999999999,
          2.5200000000000005,
          2.3400000000000003,
          1.78,
          1.4999999999999998,
          0.2999999999999998,
          0.039999999999999945,
          0.15999999999999998,
          1.2399999999999998,
          -0.020000000000000018,
          0.36000000000000004,
          0.42000000000000004,
          0.82,
          0.18000000000000002,
          1.44,
          2.3200000000000003,
          2.12,
          1.72,
          1.1999999999999997,
          0.5599999999999999,
          -0.26000000000000006,
          -1.4,
          -2.8,
          -2.8,
          -1.8799999999999997,
          -1.2400000000000002,
          -1.36,
          -0.07999999999999999,
          1.4599999999999997,
          -0.16000000000000006,
          -1.44,
          -1.2400000000000002,
          -0.7799999999999999,
          -1.7,
          -0.07999999999999989,
          0.6600000000000001,
          2.2600000000000002,
          1.2600000000000002,
          1.2600000000000002,
          0.78,
          1.78,
          0.10000000000000009,
          0.10000000000000005,
          0.62,
          -0.05999999999999996,
          -1.6,
          -1.52,
          -2.06,
          -2.58,
          -3.16,
          -3.16,
          -2.08,
          -1.52,
          -2.06,
          -1.3,
          -1.3,
          -1.3,
          -0.7800000000000001,
          0.82,
          0.31999999999999995,
          0.8600000000000001,
          -0.29999999999999993,
          -0.8400000000000001,
          -1.9000000000000004,
          -1.9600000000000002,
          -1.8800000000000001,
          -1.8800000000000001
         ]
        },
        {
         "name": "window size 10",
         "type": "scatter",
         "x": [
          0,
          1,
          2,
          3,
          4,
          5,
          6,
          7,
          8,
          9,
          10,
          11,
          12,
          13,
          14,
          15,
          16,
          17,
          18,
          19,
          20,
          21,
          22,
          23,
          24,
          25,
          26,
          27,
          28,
          29,
          30,
          31,
          32,
          33,
          34,
          35,
          36,
          37,
          38,
          39,
          40,
          41,
          42,
          43,
          44,
          45,
          46,
          47,
          48,
          49,
          50,
          51,
          52,
          53,
          54,
          55,
          56,
          57,
          58,
          59,
          60,
          61,
          62,
          63,
          64,
          65,
          66,
          67,
          68,
          69,
          70,
          71,
          72,
          73,
          74,
          75,
          76,
          77,
          78,
          79,
          80,
          81,
          82,
          83,
          84,
          85,
          86,
          87,
          88,
          89,
          90,
          91,
          92,
          93,
          94,
          95,
          96,
          97,
          98,
          99,
          100,
          101,
          102,
          103,
          104,
          105,
          106,
          107,
          108,
          109,
          110,
          111,
          112,
          113,
          114,
          115,
          116,
          117,
          118,
          119,
          120,
          121,
          122,
          123,
          124,
          125,
          126,
          127,
          128,
          129,
          130,
          131,
          132,
          133,
          134,
          135,
          136,
          137,
          138,
          139,
          140,
          141,
          142,
          143,
          144,
          145,
          146,
          147,
          148,
          149,
          150,
          151,
          152,
          153,
          154,
          155,
          156,
          157,
          158,
          159,
          160,
          161,
          162,
          163,
          164,
          165,
          166,
          167,
          168,
          169,
          170,
          171,
          172,
          173,
          174,
          175,
          176,
          177,
          178,
          179,
          180,
          181,
          182,
          183,
          184,
          185,
          186,
          187,
          188,
          189,
          190,
          191,
          192,
          193,
          194,
          195,
          196,
          197,
          198,
          199,
          200,
          201,
          202,
          203,
          204,
          205,
          206,
          207,
          208,
          209,
          210,
          211,
          212,
          213,
          214,
          215,
          216,
          217,
          218,
          219,
          220,
          221,
          222,
          223,
          224,
          225,
          226,
          227,
          228,
          229,
          230,
          231,
          232,
          233,
          234,
          235,
          236,
          237,
          238,
          239,
          240,
          241,
          242,
          243,
          244,
          245,
          246,
          247,
          248,
          249,
          250,
          251,
          252,
          253,
          254,
          255,
          256,
          257,
          258,
          259,
          260,
          261,
          262,
          263,
          264,
          265,
          266,
          267,
          268,
          269,
          270,
          271,
          272,
          273,
          274,
          275,
          276,
          277,
          278,
          279,
          280,
          281,
          282,
          283,
          284,
          285,
          286,
          287,
          288,
          289,
          290,
          291,
          292,
          293,
          294,
          295,
          296,
          297,
          298,
          299,
          300,
          301,
          302,
          303,
          304,
          305,
          306,
          307,
          308,
          309,
          310,
          311,
          312,
          313,
          314,
          315,
          316,
          317,
          318,
          319,
          320,
          321,
          322,
          323,
          324,
          325,
          326,
          327,
          328,
          329,
          330,
          331,
          332,
          333,
          334,
          335,
          336,
          337,
          338,
          339,
          340,
          341,
          342,
          343,
          344,
          345,
          346,
          347,
          348,
          349,
          350,
          351
         ],
         "y": [
          -0.18000000000000005,
          -0.53,
          -0.34,
          -0.8700000000000001,
          -0.34,
          -0.6000000000000001,
          -0.9400000000000001,
          -0.9400000000000001,
          -0.6300000000000001,
          -1.2600000000000002,
          -1.54,
          -1.1300000000000001,
          -1.3199999999999998,
          -0.8600000000000001,
          -1.17,
          -0.9199999999999999,
          -1.0800000000000003,
          -1.05,
          -1.0900000000000003,
          -0.8099999999999999,
          -0.2800000000000001,
          -0.9800000000000001,
          -0.18000000000000008,
          -0.14000000000000012,
          0.17999999999999994,
          -0.16000000000000014,
          0.5399999999999999,
          0.5400000000000001,
          0.4900000000000002,
          0.48000000000000015,
          0.68,
          1.55,
          1.3800000000000001,
          1.4099999999999997,
          1.67,
          1.7900000000000003,
          1.7899999999999998,
          2.5300000000000002,
          2.62,
          2.3500000000000005,
          2.35,
          2.31,
          2.21,
          2.14,
          2.11,
          2.57,
          2.6399999999999997,
          2.6399999999999997,
          2.3299999999999996,
          2.3299999999999996,
          1.4999999999999996,
          0.7299999999999999,
          0.15999999999999984,
          0.23000000000000015,
          -0.5400000000000001,
          -1.0400000000000003,
          -1.56,
          -2.05,
          -1.3199999999999998,
          -1.1,
          -0.7299999999999998,
          -0.41000000000000003,
          -0.37,
          -0.43999999999999995,
          0.32999999999999996,
          0.86,
          0.85,
          0.57,
          0.64,
          1.15,
          1.5100000000000002,
          1.5100000000000002,
          1.7900000000000003,
          1.5900000000000003,
          1.5500000000000003,
          0.9400000000000001,
          0.95,
          0.8500000000000005,
          0.85,
          0.65,
          0.24000000000000005,
          0.18000000000000005,
          0.43,
          0.44000000000000006,
          0.020000000000000028,
          0.45999999999999996,
          0.18,
          0.54,
          -0.36,
          -0.09000000000000004,
          -5.551115123125783e-17,
          -0.22000000000000003,
          -0.2200000000000001,
          -0.030000000000000072,
          0.25999999999999995,
          -0.4700000000000001,
          0.3299999999999999,
          0.35,
          0.9799999999999999,
          0.9099999999999999,
          1.3699999999999999,
          2,
          1.69,
          1.7600000000000002,
          1.1600000000000001,
          1.5399999999999998,
          0.9600000000000002,
          1.2100000000000002,
          0.99,
          1.0299999999999998,
          0.25999999999999995,
          0.26,
          0.5800000000000001,
          0.05999999999999994,
          0.6599999999999999,
          1.1099999999999999,
          1.1599999999999997,
          1.43,
          1.1199999999999999,
          0.25,
          0.8799999999999997,
          1.05,
          1.0400000000000003,
          1.53,
          1.7,
          1,
          0.9200000000000002,
          0.85,
          0.75,
          1.0699999999999998,
          0.43999999999999995,
          -0.4,
          -0.12999999999999998,
          -0.9400000000000001,
          -1.81,
          -1.04,
          -1.23,
          -1.9300000000000002,
          -1.3,
          -1.56,
          -1.25,
          -0.43999999999999995,
          -0.6400000000000002,
          0.1999999999999999,
          0.93,
          0.9,
          1.16,
          1.9299999999999997,
          2.13,
          2.9400000000000004,
          3.2600000000000002,
          3.0200000000000005,
          2.42,
          1.9,
          2.0000000000000004,
          1.4200000000000004,
          1.8900000000000001,
          1.8200000000000003,
          1.8900000000000001,
          1.1199999999999999,
          0.6799999999999999,
          0.6900000000000001,
          0.9599999999999997,
          0.64,
          -0.0899999999999999,
          -0.2800000000000001,
          -0.48,
          -1.21,
          -2.1100000000000003,
          -1.31,
          -1.22,
          -1.1599999999999997,
          -0.89,
          -0.8499999999999999,
          -0.63,
          -0.44000000000000006,
          -0.9700000000000001,
          -0.34,
          -0.24000000000000007,
          -1.04,
          -1.0399999999999998,
          -1.6799999999999997,
          -1.95,
          -1.22,
          -1.2500000000000002,
          -1.1800000000000002,
          -0.3800000000000002,
          -0.28000000000000014,
          0.44999999999999984,
          0.76,
          1.01,
          1.65,
          2.01,
          2.08,
          2.2,
          2.16,
          2.13,
          2.13,
          1.59,
          2.01,
          2.2800000000000002,
          2.48,
          2.65,
          2.58,
          3.07,
          3.45,
          2.9,
          2.44,
          2.25,
          2.32,
          2.12,
          1.92,
          1.0799999999999998,
          1.08,
          0.9100000000000001,
          0.20999999999999996,
          0.2699999999999999,
          0.5299999999999999,
          0.4899999999999999,
          -0.31,
          -0.9100000000000001,
          -1.3199999999999998,
          -0.55,
          -1,
          -1.6300000000000001,
          -1.57,
          -1.58,
          -1.7999999999999996,
          -0.9900000000000002,
          -0.9900000000000002,
          -1.03,
          -1.2600000000000002,
          -1.4600000000000002,
          -1.0100000000000002,
          -1.0100000000000002,
          -0.6900000000000002,
          -0.16000000000000006,
          0.32999999999999996,
          0.29000000000000015,
          1.0899999999999999,
          1.9300000000000002,
          2.7399999999999998,
          2.9799999999999995,
          2.88,
          3.65,
          4.1,
          3.9,
          3.7299999999999995,
          3.28,
          2.67,
          2.09,
          1.35,
          1.35,
          1.2500000000000002,
          1.28,
          1.35,
          0.75,
          0.1499999999999999,
          0.4099999999999998,
          1.02,
          0.76,
          0.6900000000000001,
          0.65,
          0.019999999999999928,
          -0.15000000000000008,
          -0.68,
          -0.6799999999999999,
          -0.07999999999999999,
          0.10999999999999996,
          -0.6900000000000001,
          -0.05,
          0.25999999999999995,
          -0.47000000000000003,
          -0.47000000000000003,
          -1.0699999999999998,
          -1.07,
          -0.44000000000000006,
          -1.0699999999999998,
          -1,
          -0.73,
          -0.6000000000000001,
          -0.8400000000000001,
          -0.20999999999999996,
          0.16999999999999996,
          0.9099999999999999,
          1.2399999999999998,
          1.3399999999999999,
          1.8799999999999997,
          1.0799999999999998,
          1.44,
          0.7099999999999997,
          1.28,
          1.25,
          1.51,
          0.74,
          0.32999999999999985,
          0.22999999999999993,
          0.48999999999999994,
          0.7099999999999999,
          0.71,
          1.3399999999999999,
          1.27,
          1.27,
          0.6900000000000001,
          1,
          1.03,
          0.3600000000000001,
          -0.54,
          -0.8000000000000002,
          -0.66,
          -0.7499999999999998,
          -1.38,
          -1.4399999999999997,
          -0.67,
          -1.0199999999999998,
          -1.34,
          -1.3,
          -0.43,
          -0.12000000000000013,
          -0.12000000000000002,
          -0.38999999999999985,
          0.51,
          0.24000000000000013,
          -0.21999999999999997,
          0.3500000000000001,
          1.2200000000000002,
          1.18,
          0.6799999999999999,
          0.9400000000000001,
          0.3600000000000001,
          0.09000000000000004,
          -0.71,
          -0.9800000000000001,
          -0.9800000000000001,
          -1.61,
          -2.38,
          -1.8,
          -1.7900000000000003,
          -2.32,
          -2.23,
          -2.23,
          -1.69,
          -1.15,
          -0.6199999999999999,
          -0.48999999999999994,
          -0.22000000000000003,
          -0.8,
          -0.8100000000000002,
          -0.54,
          -0.82,
          -0.51,
          -1.09
         ]
        },
        {
         "name": "window size 15",
         "type": "scatter",
         "x": [
          0,
          1,
          2,
          3,
          4,
          5,
          6,
          7,
          8,
          9,
          10,
          11,
          12,
          13,
          14,
          15,
          16,
          17,
          18,
          19,
          20,
          21,
          22,
          23,
          24,
          25,
          26,
          27,
          28,
          29,
          30,
          31,
          32,
          33,
          34,
          35,
          36,
          37,
          38,
          39,
          40,
          41,
          42,
          43,
          44,
          45,
          46,
          47,
          48,
          49,
          50,
          51,
          52,
          53,
          54,
          55,
          56,
          57,
          58,
          59,
          60,
          61,
          62,
          63,
          64,
          65,
          66,
          67,
          68,
          69,
          70,
          71,
          72,
          73,
          74,
          75,
          76,
          77,
          78,
          79,
          80,
          81,
          82,
          83,
          84,
          85,
          86,
          87,
          88,
          89,
          90,
          91,
          92,
          93,
          94,
          95,
          96,
          97,
          98,
          99,
          100,
          101,
          102,
          103,
          104,
          105,
          106,
          107,
          108,
          109,
          110,
          111,
          112,
          113,
          114,
          115,
          116,
          117,
          118,
          119,
          120,
          121,
          122,
          123,
          124,
          125,
          126,
          127,
          128,
          129,
          130,
          131,
          132,
          133,
          134,
          135,
          136,
          137,
          138,
          139,
          140,
          141,
          142,
          143,
          144,
          145,
          146,
          147,
          148,
          149,
          150,
          151,
          152,
          153,
          154,
          155,
          156,
          157,
          158,
          159,
          160,
          161,
          162,
          163,
          164,
          165,
          166,
          167,
          168,
          169,
          170,
          171,
          172,
          173,
          174,
          175,
          176,
          177,
          178,
          179,
          180,
          181,
          182,
          183,
          184,
          185,
          186,
          187,
          188,
          189,
          190,
          191,
          192,
          193,
          194,
          195,
          196,
          197,
          198,
          199,
          200,
          201,
          202,
          203,
          204,
          205,
          206,
          207,
          208,
          209,
          210,
          211,
          212,
          213,
          214,
          215,
          216,
          217,
          218,
          219,
          220,
          221,
          222,
          223,
          224,
          225,
          226,
          227,
          228,
          229,
          230,
          231,
          232,
          233,
          234,
          235,
          236,
          237,
          238,
          239,
          240,
          241,
          242,
          243,
          244,
          245,
          246,
          247,
          248,
          249,
          250,
          251,
          252,
          253,
          254,
          255,
          256,
          257,
          258,
          259,
          260,
          261,
          262,
          263,
          264,
          265,
          266,
          267,
          268,
          269,
          270,
          271,
          272,
          273,
          274,
          275,
          276,
          277,
          278,
          279,
          280,
          281,
          282,
          283,
          284,
          285,
          286,
          287,
          288,
          289,
          290,
          291,
          292,
          293,
          294,
          295,
          296,
          297,
          298,
          299,
          300,
          301,
          302,
          303,
          304,
          305,
          306,
          307,
          308,
          309,
          310,
          311,
          312,
          313,
          314,
          315,
          316,
          317,
          318,
          319,
          320,
          321,
          322,
          323,
          324,
          325,
          326,
          327,
          328,
          329,
          330,
          331,
          332,
          333,
          334,
          335,
          336,
          337,
          338,
          339,
          340,
          341,
          342,
          343,
          344,
          345,
          346
         ],
         "y": [
          -0.31333333333333335,
          -0.5466666666666667,
          -0.5466666666666667,
          -0.8733333333333334,
          -0.8733333333333334,
          -1.2333333333333334,
          -1.1866666666666668,
          -1.1866666666666668,
          -0.7,
          -0.9733333333333334,
          -0.8066666666666665,
          -0.9133333333333333,
          -1.0199999999999998,
          -1.02,
          -1.1866666666666665,
          -1.0199999999999998,
          -1.2133333333333336,
          -0.6799999999999999,
          -0.37333333333333335,
          -0.013333333333333374,
          0.11333333333333329,
          0.19999999999999993,
          0.21999999999999986,
          -0.12000000000000012,
          -0.08666666666666674,
          0.04666666666666656,
          0.5399999999999999,
          0.9400000000000001,
          1.2933333333333334,
          1.6400000000000001,
          1.4933333333333334,
          2.046666666666667,
          2.026666666666667,
          1.72,
          1.36,
          1.7200000000000002,
          1.72,
          2.0533333333333337,
          2.393333333333333,
          2.726666666666667,
          2.7533333333333334,
          2.773333333333334,
          2.866666666666667,
          2.3333333333333335,
          1.8,
          1.5266666666666666,
          1.0133333333333332,
          0.4733333333333332,
          0.7999999999999997,
          0.7999999999999997,
          0.49333333333333307,
          0.19333333333333325,
          0.026666666666666526,
          0.026666666666666748,
          -0.3400000000000001,
          -0.6733333333333335,
          -1.02,
          -1.5333333333333334,
          -1.0466666666666666,
          -0.5333333333333333,
          0.06666666666666679,
          0.2733333333333333,
          0.3,
          0.30000000000000004,
          0.7866666666666667,
          1.0266666666666668,
          1.0266666666666668,
          1.0266666666666668,
          0.8933333333333334,
          1.2333333333333336,
          1.1800000000000002,
          1.1800000000000002,
          1.1133333333333335,
          1.1600000000000001,
          1.0000000000000004,
          0.6133333333333334,
          0.58,
          0.9333333333333337,
          0.76,
          0.4799999999999999,
          0.48000000000000004,
          0.2933333333333333,
          0.27999999999999986,
          -0.14,
          -0.09333333333333335,
          -0.013333333333333383,
          -0.2,
          0.22,
          0.1733333333333333,
          0.21999999999999992,
          0.006666666666666643,
          0.3933333333333333,
          0.22666666666666657,
          0.21999999999999995,
          0.5,
          0.5933333333333333,
          1.0133333333333332,
          0.9866666666666667,
          1.5866666666666664,
          1.0533333333333335,
          1.0333333333333334,
          1.18,
          1.18,
          0.9000000000000001,
          1.0133333333333334,
          1.0799999999999998,
          0.9666666666666669,
          1.1400000000000001,
          0.9733333333333335,
          0.8866666666666666,
          0.8599999999999999,
          0.6199999999999999,
          1.0066666666666666,
          0.47333333333333333,
          0.4066666666666665,
          0.6399999999999999,
          1.0266666666666666,
          1.0266666666666666,
          1.3333333333333333,
          1.3333333333333333,
          1.353333333333333,
          1.06,
          1.1866666666666668,
          0.9333333333333333,
          0.6799999999999999,
          0.1933333333333333,
          -0.013333333333333315,
          -0.013333333333333286,
          -0.03999999999999997,
          -0.04000000000000006,
          0.07333333333333333,
          -0.46,
          -0.7933333333333332,
          -0.9533333333333334,
          -1.4933333333333332,
          -1.3066666666666664,
          -0.9199999999999998,
          -1.0066666666666666,
          -0.4066666666666665,
          -0.1333333333333334,
          0.37999999999999995,
          0.5800000000000001,
          0.5799999999999998,
          1.0933333333333333,
          1.6733333333333333,
          1.5599999999999998,
          1.9133333333333336,
          1.8933333333333333,
          1.7266666666666668,
          2.24,
          2.1599999999999997,
          2.1333333333333333,
          2.2199999999999998,
          2.2199999999999998,
          1.8000000000000003,
          1.4133333333333336,
          1.6,
          1.2466666666666666,
          0.7333333333333335,
          0.21999999999999992,
          -0.20000000000000004,
          -0.19999999999999993,
          -0.20000000000000018,
          -0.4533333333333333,
          -0.4066666666666665,
          -0.3466666666666667,
          -0.43333333333333335,
          -0.56,
          -1.0933333333333333,
          -0.9466666666666668,
          -0.9466666666666667,
          -1.3066666666666664,
          -1.0666666666666667,
          -1.0399999999999998,
          -1.04,
          -0.8533333333333334,
          -1.2333333333333334,
          -1.0533333333333335,
          -0.5000000000000001,
          -0.9066666666666666,
          -0.92,
          -0.7866666666666665,
          -0.6599999999999999,
          -0.1733333333333333,
          -0.1133333333333335,
          0.11333333333333326,
          0.5133333333333332,
          0.5133333333333332,
          1.0466666666666666,
          1.2533333333333334,
          1.2133333333333334,
          1.7533333333333334,
          2.06,
          1.7,
          2.06,
          2.42,
          2.42,
          2.466666666666667,
          2.466666666666667,
          2.7933333333333326,
          2.8400000000000003,
          2.586666666666667,
          2.3466666666666667,
          1.813333333333333,
          2.14,
          2.3933333333333335,
          2.2800000000000002,
          1.7666666666666666,
          2.126666666666667,
          2.06,
          1.4600000000000002,
          1.1133333333333333,
          0.9333333333333333,
          0.42000000000000015,
          -0.11333333333333326,
          -0.5133333333333333,
          -0.5333333333333333,
          -0.22666666666666674,
          -0.04000000000000011,
          -0.5733333333333334,
          -1.0000000000000002,
          -1.2199999999999998,
          -0.9866666666666668,
          -0.9599999999999999,
          -1.38,
          -1.3399999999999999,
          -1.5533333333333332,
          -1.553333333333333,
          -1.0399999999999998,
          -1.04,
          -0.8533333333333334,
          -0.4466666666666666,
          -0.4,
          -0.10000000000000006,
          0.4333333333333333,
          0.9933333333333333,
          1.3266666666666667,
          1.6333333333333333,
          1.54,
          2.0533333333333332,
          2.566666666666667,
          2.993333333333333,
          3.0599999999999996,
          2.7599999999999993,
          2.886666666666666,
          2.8466666666666662,
          2.333333333333333,
          2.313333333333333,
          2.1799999999999997,
          2.18,
          2.18,
          1.6666666666666667,
          1.1733333333333333,
          1.1133333333333333,
          1.1333333333333333,
          0.6199999999999999,
          0.19333333333333327,
          0.2599999999999999,
          0.006666666666666525,
          0.29999999999999993,
          0.3333333333333333,
          0.3133333333333333,
          0.22,
          0.3533333333333333,
          -0.18000000000000008,
          -0.3133333333333334,
          -0.13333333333333333,
          -0.15333333333333332,
          -0.58,
          -1.0933333333333333,
          -0.8866666666666667,
          -0.44000000000000017,
          -0.9266666666666665,
          -0.3266666666666668,
          -0.5666666666666667,
          -0.2600000000000001,
          -0.24000000000000005,
          -0.23999999999999996,
          -0.5400000000000001,
          -0.02666666666666669,
          -0.026666666666666748,
          0.27999999999999997,
          0.64,
          0.7066666666666667,
          1.1066666666666665,
          0.9266666666666665,
          0.9066666666666665,
          1.3066666666666664,
          1.133333333333333,
          0.9533333333333331,
          0.5933333333333333,
          0.9933333333333333,
          1.1066666666666667,
          1.0666666666666667,
          0.9733333333333334,
          0.9933333333333333,
          0.8599999999999999,
          0.9,
          0.8733333333333333,
          0.6599999999999999,
          0.8066666666666665,
          0.37999999999999984,
          -0.08666666666666674,
          -0.47333333333333333,
          0.039999999999999945,
          0.2733333333333334,
          -0.21333333333333326,
          -0.3866666666666667,
          -0.046666666666666794,
          -0.49333333333333335,
          -0.9799999999999999,
          -1.3333333333333333,
          -1.22,
          -1.0133333333333334,
          -0.7066666666666666,
          -0.6733333333333335,
          -0.11333333333333341,
          0.1333333333333334,
          0.33999999999999997,
          0.18000000000000002,
          0.3333333333333334,
          0.3733333333333333,
          0.1933333333333334,
          0.06000000000000005,
          0.21333333333333337,
          0.2800000000000002,
          0.27999999999999997,
          -0.23333333333333334,
          -0.23333333333333328,
          -0.8133333333333332,
          -0.9933333333333333,
          -1.1666666666666667,
          -1.1600000000000001,
          -1.34,
          -1.5066666666666668,
          -2.02,
          -1.6333333333333333,
          -1.4533333333333336,
          -1.2733333333333334,
          -1.3800000000000001,
          -1.2000000000000002,
          -1.2266666666666666,
          -1.0466666666666666,
          -1.0466666666666666,
          -0.9800000000000001,
          -0.7733333333333333,
          -1.1600000000000001
         ]
        }
       ],
       "layout": {
        "template": {
         "data": {
          "bar": [
           {
            "error_x": {
             "color": "#2a3f5f"
            },
            "error_y": {
             "color": "#2a3f5f"
            },
            "marker": {
             "line": {
              "color": "#E5ECF6",
              "width": 0.5
             }
            },
            "type": "bar"
           }
          ],
          "barpolar": [
           {
            "marker": {
             "line": {
              "color": "#E5ECF6",
              "width": 0.5
             }
            },
            "type": "barpolar"
           }
          ],
          "carpet": [
           {
            "aaxis": {
             "endlinecolor": "#2a3f5f",
             "gridcolor": "white",
             "linecolor": "white",
             "minorgridcolor": "white",
             "startlinecolor": "#2a3f5f"
            },
            "baxis": {
             "endlinecolor": "#2a3f5f",
             "gridcolor": "white",
             "linecolor": "white",
             "minorgridcolor": "white",
             "startlinecolor": "#2a3f5f"
            },
            "type": "carpet"
           }
          ],
          "choropleth": [
           {
            "colorbar": {
             "outlinewidth": 0,
             "ticks": ""
            },
            "type": "choropleth"
           }
          ],
          "contour": [
           {
            "colorbar": {
             "outlinewidth": 0,
             "ticks": ""
            },
            "colorscale": [
             [
              0,
              "#0d0887"
             ],
             [
              0.1111111111111111,
              "#46039f"
             ],
             [
              0.2222222222222222,
              "#7201a8"
             ],
             [
              0.3333333333333333,
              "#9c179e"
             ],
             [
              0.4444444444444444,
              "#bd3786"
             ],
             [
              0.5555555555555556,
              "#d8576b"
             ],
             [
              0.6666666666666666,
              "#ed7953"
             ],
             [
              0.7777777777777778,
              "#fb9f3a"
             ],
             [
              0.8888888888888888,
              "#fdca26"
             ],
             [
              1,
              "#f0f921"
             ]
            ],
            "type": "contour"
           }
          ],
          "contourcarpet": [
           {
            "colorbar": {
             "outlinewidth": 0,
             "ticks": ""
            },
            "type": "contourcarpet"
           }
          ],
          "heatmap": [
           {
            "colorbar": {
             "outlinewidth": 0,
             "ticks": ""
            },
            "colorscale": [
             [
              0,
              "#0d0887"
             ],
             [
              0.1111111111111111,
              "#46039f"
             ],
             [
              0.2222222222222222,
              "#7201a8"
             ],
             [
              0.3333333333333333,
              "#9c179e"
             ],
             [
              0.4444444444444444,
              "#bd3786"
             ],
             [
              0.5555555555555556,
              "#d8576b"
             ],
             [
              0.6666666666666666,
              "#ed7953"
             ],
             [
              0.7777777777777778,
              "#fb9f3a"
             ],
             [
              0.8888888888888888,
              "#fdca26"
             ],
             [
              1,
              "#f0f921"
             ]
            ],
            "type": "heatmap"
           }
          ],
          "heatmapgl": [
           {
            "colorbar": {
             "outlinewidth": 0,
             "ticks": ""
            },
            "colorscale": [
             [
              0,
              "#0d0887"
             ],
             [
              0.1111111111111111,
              "#46039f"
             ],
             [
              0.2222222222222222,
              "#7201a8"
             ],
             [
              0.3333333333333333,
              "#9c179e"
             ],
             [
              0.4444444444444444,
              "#bd3786"
             ],
             [
              0.5555555555555556,
              "#d8576b"
             ],
             [
              0.6666666666666666,
              "#ed7953"
             ],
             [
              0.7777777777777778,
              "#fb9f3a"
             ],
             [
              0.8888888888888888,
              "#fdca26"
             ],
             [
              1,
              "#f0f921"
             ]
            ],
            "type": "heatmapgl"
           }
          ],
          "histogram": [
           {
            "marker": {
             "colorbar": {
              "outlinewidth": 0,
              "ticks": ""
             }
            },
            "type": "histogram"
           }
          ],
          "histogram2d": [
           {
            "colorbar": {
             "outlinewidth": 0,
             "ticks": ""
            },
            "colorscale": [
             [
              0,
              "#0d0887"
             ],
             [
              0.1111111111111111,
              "#46039f"
             ],
             [
              0.2222222222222222,
              "#7201a8"
             ],
             [
              0.3333333333333333,
              "#9c179e"
             ],
             [
              0.4444444444444444,
              "#bd3786"
             ],
             [
              0.5555555555555556,
              "#d8576b"
             ],
             [
              0.6666666666666666,
              "#ed7953"
             ],
             [
              0.7777777777777778,
              "#fb9f3a"
             ],
             [
              0.8888888888888888,
              "#fdca26"
             ],
             [
              1,
              "#f0f921"
             ]
            ],
            "type": "histogram2d"
           }
          ],
          "histogram2dcontour": [
           {
            "colorbar": {
             "outlinewidth": 0,
             "ticks": ""
            },
            "colorscale": [
             [
              0,
              "#0d0887"
             ],
             [
              0.1111111111111111,
              "#46039f"
             ],
             [
              0.2222222222222222,
              "#7201a8"
             ],
             [
              0.3333333333333333,
              "#9c179e"
             ],
             [
              0.4444444444444444,
              "#bd3786"
             ],
             [
              0.5555555555555556,
              "#d8576b"
             ],
             [
              0.6666666666666666,
              "#ed7953"
             ],
             [
              0.7777777777777778,
              "#fb9f3a"
             ],
             [
              0.8888888888888888,
              "#fdca26"
             ],
             [
              1,
              "#f0f921"
             ]
            ],
            "type": "histogram2dcontour"
           }
          ],
          "mesh3d": [
           {
            "colorbar": {
             "outlinewidth": 0,
             "ticks": ""
            },
            "type": "mesh3d"
           }
          ],
          "parcoords": [
           {
            "line": {
             "colorbar": {
              "outlinewidth": 0,
              "ticks": ""
             }
            },
            "type": "parcoords"
           }
          ],
          "pie": [
           {
            "automargin": true,
            "type": "pie"
           }
          ],
          "scatter": [
           {
            "marker": {
             "colorbar": {
              "outlinewidth": 0,
              "ticks": ""
             }
            },
            "type": "scatter"
           }
          ],
          "scatter3d": [
           {
            "line": {
             "colorbar": {
              "outlinewidth": 0,
              "ticks": ""
             }
            },
            "marker": {
             "colorbar": {
              "outlinewidth": 0,
              "ticks": ""
             }
            },
            "type": "scatter3d"
           }
          ],
          "scattercarpet": [
           {
            "marker": {
             "colorbar": {
              "outlinewidth": 0,
              "ticks": ""
             }
            },
            "type": "scattercarpet"
           }
          ],
          "scattergeo": [
           {
            "marker": {
             "colorbar": {
              "outlinewidth": 0,
              "ticks": ""
             }
            },
            "type": "scattergeo"
           }
          ],
          "scattergl": [
           {
            "marker": {
             "colorbar": {
              "outlinewidth": 0,
              "ticks": ""
             }
            },
            "type": "scattergl"
           }
          ],
          "scattermapbox": [
           {
            "marker": {
             "colorbar": {
              "outlinewidth": 0,
              "ticks": ""
             }
            },
            "type": "scattermapbox"
           }
          ],
          "scatterpolar": [
           {
            "marker": {
             "colorbar": {
              "outlinewidth": 0,
              "ticks": ""
             }
            },
            "type": "scatterpolar"
           }
          ],
          "scatterpolargl": [
           {
            "marker": {
             "colorbar": {
              "outlinewidth": 0,
              "ticks": ""
             }
            },
            "type": "scatterpolargl"
           }
          ],
          "scatterternary": [
           {
            "marker": {
             "colorbar": {
              "outlinewidth": 0,
              "ticks": ""
             }
            },
            "type": "scatterternary"
           }
          ],
          "surface": [
           {
            "colorbar": {
             "outlinewidth": 0,
             "ticks": ""
            },
            "colorscale": [
             [
              0,
              "#0d0887"
             ],
             [
              0.1111111111111111,
              "#46039f"
             ],
             [
              0.2222222222222222,
              "#7201a8"
             ],
             [
              0.3333333333333333,
              "#9c179e"
             ],
             [
              0.4444444444444444,
              "#bd3786"
             ],
             [
              0.5555555555555556,
              "#d8576b"
             ],
             [
              0.6666666666666666,
              "#ed7953"
             ],
             [
              0.7777777777777778,
              "#fb9f3a"
             ],
             [
              0.8888888888888888,
              "#fdca26"
             ],
             [
              1,
              "#f0f921"
             ]
            ],
            "type": "surface"
           }
          ],
          "table": [
           {
            "cells": {
             "fill": {
              "color": "#EBF0F8"
             },
             "line": {
              "color": "white"
             }
            },
            "header": {
             "fill": {
              "color": "#C8D4E3"
             },
             "line": {
              "color": "white"
             }
            },
            "type": "table"
           }
          ]
         },
         "layout": {
          "annotationdefaults": {
           "arrowcolor": "#2a3f5f",
           "arrowhead": 0,
           "arrowwidth": 1
          },
          "autotypenumbers": "strict",
          "coloraxis": {
           "colorbar": {
            "outlinewidth": 0,
            "ticks": ""
           }
          },
          "colorscale": {
           "diverging": [
            [
             0,
             "#8e0152"
            ],
            [
             0.1,
             "#c51b7d"
            ],
            [
             0.2,
             "#de77ae"
            ],
            [
             0.3,
             "#f1b6da"
            ],
            [
             0.4,
             "#fde0ef"
            ],
            [
             0.5,
             "#f7f7f7"
            ],
            [
             0.6,
             "#e6f5d0"
            ],
            [
             0.7,
             "#b8e186"
            ],
            [
             0.8,
             "#7fbc41"
            ],
            [
             0.9,
             "#4d9221"
            ],
            [
             1,
             "#276419"
            ]
           ],
           "sequential": [
            [
             0,
             "#0d0887"
            ],
            [
             0.1111111111111111,
             "#46039f"
            ],
            [
             0.2222222222222222,
             "#7201a8"
            ],
            [
             0.3333333333333333,
             "#9c179e"
            ],
            [
             0.4444444444444444,
             "#bd3786"
            ],
            [
             0.5555555555555556,
             "#d8576b"
            ],
            [
             0.6666666666666666,
             "#ed7953"
            ],
            [
             0.7777777777777778,
             "#fb9f3a"
            ],
            [
             0.8888888888888888,
             "#fdca26"
            ],
            [
             1,
             "#f0f921"
            ]
           ],
           "sequentialminus": [
            [
             0,
             "#0d0887"
            ],
            [
             0.1111111111111111,
             "#46039f"
            ],
            [
             0.2222222222222222,
             "#7201a8"
            ],
            [
             0.3333333333333333,
             "#9c179e"
            ],
            [
             0.4444444444444444,
             "#bd3786"
            ],
            [
             0.5555555555555556,
             "#d8576b"
            ],
            [
             0.6666666666666666,
             "#ed7953"
            ],
            [
             0.7777777777777778,
             "#fb9f3a"
            ],
            [
             0.8888888888888888,
             "#fdca26"
            ],
            [
             1,
             "#f0f921"
            ]
           ]
          },
          "colorway": [
           "#636efa",
           "#EF553B",
           "#00cc96",
           "#ab63fa",
           "#FFA15A",
           "#19d3f3",
           "#FF6692",
           "#B6E880",
           "#FF97FF",
           "#FECB52"
          ],
          "font": {
           "color": "#2a3f5f"
          },
          "geo": {
           "bgcolor": "white",
           "lakecolor": "white",
           "landcolor": "#E5ECF6",
           "showlakes": true,
           "showland": true,
           "subunitcolor": "white"
          },
          "hoverlabel": {
           "align": "left"
          },
          "hovermode": "closest",
          "mapbox": {
           "style": "light"
          },
          "paper_bgcolor": "white",
          "plot_bgcolor": "#E5ECF6",
          "polar": {
           "angularaxis": {
            "gridcolor": "white",
            "linecolor": "white",
            "ticks": ""
           },
           "bgcolor": "#E5ECF6",
           "radialaxis": {
            "gridcolor": "white",
            "linecolor": "white",
            "ticks": ""
           }
          },
          "scene": {
           "xaxis": {
            "backgroundcolor": "#E5ECF6",
            "gridcolor": "white",
            "gridwidth": 2,
            "linecolor": "white",
            "showbackground": true,
            "ticks": "",
            "zerolinecolor": "white"
           },
           "yaxis": {
            "backgroundcolor": "#E5ECF6",
            "gridcolor": "white",
            "gridwidth": 2,
            "linecolor": "white",
            "showbackground": true,
            "ticks": "",
            "zerolinecolor": "white"
           },
           "zaxis": {
            "backgroundcolor": "#E5ECF6",
            "gridcolor": "white",
            "gridwidth": 2,
            "linecolor": "white",
            "showbackground": true,
            "ticks": "",
            "zerolinecolor": "white"
           }
          },
          "shapedefaults": {
           "line": {
            "color": "#2a3f5f"
           }
          },
          "ternary": {
           "aaxis": {
            "gridcolor": "white",
            "linecolor": "white",
            "ticks": ""
           },
           "baxis": {
            "gridcolor": "white",
            "linecolor": "white",
            "ticks": ""
           },
           "bgcolor": "#E5ECF6",
           "caxis": {
            "gridcolor": "white",
            "linecolor": "white",
            "ticks": ""
           }
          },
          "title": {
           "x": 0.05
          },
          "xaxis": {
           "automargin": true,
           "gridcolor": "white",
           "linecolor": "white",
           "ticks": "",
           "title": {
            "standoff": 15
           },
           "zerolinecolor": "white",
           "zerolinewidth": 2
          },
          "yaxis": {
           "automargin": true,
           "gridcolor": "white",
           "linecolor": "white",
           "ticks": "",
           "title": {
            "standoff": 15
           },
           "zerolinecolor": "white",
           "zerolinewidth": 2
          }
         }
        },
        "title": {
         "text": "Human G-protein coupled receptor 183"
        },
        "xaxis": {
         "title": {
          "text": "Postion"
         }
        },
        "yaxis": {
         "title": {
          "text": "Hydropathy"
         }
        }
       }
      },
      "text/html": [
       "<div>                            <div id=\"8d272c4e-d671-4cb0-92d0-1fcaa13ec3fa\" class=\"plotly-graph-div\" style=\"height:525px; width:100%;\"></div>            <script type=\"text/javascript\">                require([\"plotly\"], function(Plotly) {                    window.PLOTLYENV=window.PLOTLYENV || {};                                    if (document.getElementById(\"8d272c4e-d671-4cb0-92d0-1fcaa13ec3fa\")) {                    Plotly.newPlot(                        \"8d272c4e-d671-4cb0-92d0-1fcaa13ec3fa\",                        [{\"name\": \"window size 5\", \"type\": \"scatter\", \"x\": [0, 1, 2, 3, 4, 5, 6, 7, 8, 9, 10, 11, 12, 13, 14, 15, 16, 17, 18, 19, 20, 21, 22, 23, 24, 25, 26, 27, 28, 29, 30, 31, 32, 33, 34, 35, 36, 37, 38, 39, 40, 41, 42, 43, 44, 45, 46, 47, 48, 49, 50, 51, 52, 53, 54, 55, 56, 57, 58, 59, 60, 61, 62, 63, 64, 65, 66, 67, 68, 69, 70, 71, 72, 73, 74, 75, 76, 77, 78, 79, 80, 81, 82, 83, 84, 85, 86, 87, 88, 89, 90, 91, 92, 93, 94, 95, 96, 97, 98, 99, 100, 101, 102, 103, 104, 105, 106, 107, 108, 109, 110, 111, 112, 113, 114, 115, 116, 117, 118, 119, 120, 121, 122, 123, 124, 125, 126, 127, 128, 129, 130, 131, 132, 133, 134, 135, 136, 137, 138, 139, 140, 141, 142, 143, 144, 145, 146, 147, 148, 149, 150, 151, 152, 153, 154, 155, 156, 157, 158, 159, 160, 161, 162, 163, 164, 165, 166, 167, 168, 169, 170, 171, 172, 173, 174, 175, 176, 177, 178, 179, 180, 181, 182, 183, 184, 185, 186, 187, 188, 189, 190, 191, 192, 193, 194, 195, 196, 197, 198, 199, 200, 201, 202, 203, 204, 205, 206, 207, 208, 209, 210, 211, 212, 213, 214, 215, 216, 217, 218, 219, 220, 221, 222, 223, 224, 225, 226, 227, 228, 229, 230, 231, 232, 233, 234, 235, 236, 237, 238, 239, 240, 241, 242, 243, 244, 245, 246, 247, 248, 249, 250, 251, 252, 253, 254, 255, 256, 257, 258, 259, 260, 261, 262, 263, 264, 265, 266, 267, 268, 269, 270, 271, 272, 273, 274, 275, 276, 277, 278, 279, 280, 281, 282, 283, 284, 285, 286, 287, 288, 289, 290, 291, 292, 293, 294, 295, 296, 297, 298, 299, 300, 301, 302, 303, 304, 305, 306, 307, 308, 309, 310, 311, 312, 313, 314, 315, 316, 317, 318, 319, 320, 321, 322, 323, 324, 325, 326, 327, 328, 329, 330, 331, 332, 333, 334, 335, 336, 337, 338, 339, 340, 341, 342, 343, 344, 345, 346, 347, 348, 349, 350, 351, 352, 353, 354, 355, 356], \"y\": [0.25999999999999995, 0.24, 0.24000000000000005, -1.3599999999999999, -0.1, -0.6200000000000001, -1.3, -0.9199999999999999, -0.3800000000000001, -0.5800000000000001, -0.5800000000000001, -0.5800000000000001, -0.96, -0.8800000000000001, -1.94, -2.5, -1.6800000000000002, -1.6800000000000002, -0.8400000000000001, -0.4, 0.6599999999999999, -0.4800000000000001, -0.4200000000000001, -1.34, -1.2200000000000002, -1.2200000000000002, -1.48, 0.05999999999999996, 1.06, 1.58, 0.9, 2.56, 1.02, -0.08000000000000011, -0.6200000000000001, 0.45999999999999985, 0.54, 1.7399999999999998, 2.9, 3.96, 3.12, 3.04, 3.3199999999999994, 2.34, 0.7399999999999999, 1.5799999999999998, 1.5799999999999998, 1.1, 1.94, 3.4799999999999995, 3.5599999999999996, 3.7, 4.18, 2.72, 1.1799999999999997, -0.5600000000000002, -2.2399999999999998, -3.8600000000000003, -2.2600000000000002, -2.2600000000000002, -1.52, -0.8800000000000001, -0.24, -0.38000000000000006, 0.05999999999999992, 0.05999999999999996, 0.05999999999999992, -0.5, -0.5, 0.6, 1.6600000000000001, 1.64, 1.64, 1.7799999999999998, 1.7, 1.3599999999999999, 1.38, 1.9400000000000006, 1.4, 1.4, 0.52, 0.5200000000000001, -0.24000000000000005, 0.3, -0.09999999999999995, -0.040000000000000036, -0.16, 1.1, 0.58, 0.13999999999999996, 0.96, 0.5199999999999999, -0.02000000000000004, -1.3, -0.31999999999999995, -0.9600000000000002, -0.9600000000000002, -0.41999999999999993, 1.2399999999999998, 0.8400000000000001, 0.019999999999999928, 1.6199999999999999, 1.1199999999999999, 0.72, 0.9800000000000001, 2.7199999999999998, 2.3800000000000003, 2.2600000000000002, 2.8, 1.3399999999999999, 0.36, -0.45999999999999996, 0.16, -0.8200000000000001, 0.72, 0.15999999999999998, 0.9799999999999999, 1.0, 0.9400000000000001, 0.6, 2.0599999999999996, 1.34, 1.86, 1.3, -0.1, -0.3, 0.76, 0.21999999999999997, 1.7600000000000002, 3.5, 2.3, 1.0799999999999996, 1.48, -0.26000000000000006, -1.36, -1.4200000000000002, -1.8800000000000001, -1.7400000000000002, -1.6199999999999999, -2.2600000000000002, -0.6599999999999999, -0.58, -2.12, -0.9800000000000001, -0.86, -1.8400000000000003, -0.3, 0.8400000000000002, 1.3800000000000001, 2.72, 3.6399999999999997, 2.62, 3.02, 2.88, 3.16, 2.8800000000000003, 3.4200000000000004, 1.8200000000000003, 0.9200000000000002, 0.8399999999999999, -0.040000000000000036, 0.3599999999999999, 1.8199999999999996, 2.8600000000000003, 1.4, 1.4, 1.02, 0.09999999999999995, -1.58, -1.58, -1.9600000000000002, -1.9799999999999998, -2.52, -2.6399999999999997, -1.0399999999999998, -0.4800000000000001, -0.34, 0.74, 0.9399999999999998, -0.21999999999999997, -0.39999999999999997, -1.6, -1.4200000000000002, -1.4200000000000002, -1.86, -1.6800000000000002, -1.7600000000000002, -2.48, -1.02, -0.6399999999999999, -0.68, 1.0, 1.92, 1.92, 2.1599999999999997, 2.7, 2.3, 2.1, 2.2399999999999998, 2.2399999999999998, 1.6199999999999999, 1.9600000000000002, 2.16, 0.9399999999999998, 1.7799999999999998, 2.94, 3.0, 3.1399999999999997, 4.220000000000001, 4.36, 3.96, 2.8, 1.7399999999999998, 0.2800000000000001, 0.27999999999999997, 0.2800000000000001, 1.04, 0.42000000000000004, 1.8799999999999997, 1.54, 0.13999999999999985, -0.5, 0.6399999999999999, -0.9, -2.16, -1.9600000000000002, -2.1399999999999997, -1.7399999999999998, -1.1, -1.1, -1.1800000000000002, -1.02, -1.86, -0.8800000000000002, -0.8800000000000001, -0.8800000000000001, -1.5, -1.06, -1.1400000000000001, -1.1400000000000001, -0.5, 1.18, 1.72, 1.72, 3.3200000000000003, 4.36, 4.3, 4.24, 4.04, 3.9799999999999995, 3.84, 3.5, 3.22, 2.5200000000000005, 1.36, 0.3399999999999999, -0.8000000000000002, -0.5199999999999999, -0.020000000000000063, 1.2, 2.3600000000000003, 2.3, 0.8200000000000001, 0.8399999999999999, 0.8399999999999999, -0.8400000000000002, -0.9199999999999999, 0.4800000000000001, -0.8, -1.1400000000000001, -0.5199999999999999, -0.44000000000000006, -0.64, 1.02, -0.24000000000000005, 0.41999999999999993, 0.96, -0.30000000000000004, -1.9600000000000002, -1.9, -2.56, -1.8399999999999999, -1.8399999999999999, -0.040000000000000036, 0.44000000000000006, 1.3599999999999999, 0.15999999999999998, 1.42, 0.37999999999999995, 1.38, 1.1199999999999999, 2.5200000000000005, 2.3400000000000003, 1.78, 1.4999999999999998, 0.2999999999999998, 0.039999999999999945, 0.15999999999999998, 1.2399999999999998, -0.020000000000000018, 0.36000000000000004, 0.42000000000000004, 0.82, 0.18000000000000002, 1.44, 2.3200000000000003, 2.12, 1.72, 1.1999999999999997, 0.5599999999999999, -0.26000000000000006, -1.4, -2.8, -2.8, -1.8799999999999997, -1.2400000000000002, -1.36, -0.07999999999999999, 1.4599999999999997, -0.16000000000000006, -1.44, -1.2400000000000002, -0.7799999999999999, -1.7, -0.07999999999999989, 0.6600000000000001, 2.2600000000000002, 1.2600000000000002, 1.2600000000000002, 0.78, 1.78, 0.10000000000000009, 0.10000000000000005, 0.62, -0.05999999999999996, -1.6, -1.52, -2.06, -2.58, -3.16, -3.16, -2.08, -1.52, -2.06, -1.3, -1.3, -1.3, -0.7800000000000001, 0.82, 0.31999999999999995, 0.8600000000000001, -0.29999999999999993, -0.8400000000000001, -1.9000000000000004, -1.9600000000000002, -1.8800000000000001, -1.8800000000000001]}, {\"name\": \"window size 10\", \"type\": \"scatter\", \"x\": [0, 1, 2, 3, 4, 5, 6, 7, 8, 9, 10, 11, 12, 13, 14, 15, 16, 17, 18, 19, 20, 21, 22, 23, 24, 25, 26, 27, 28, 29, 30, 31, 32, 33, 34, 35, 36, 37, 38, 39, 40, 41, 42, 43, 44, 45, 46, 47, 48, 49, 50, 51, 52, 53, 54, 55, 56, 57, 58, 59, 60, 61, 62, 63, 64, 65, 66, 67, 68, 69, 70, 71, 72, 73, 74, 75, 76, 77, 78, 79, 80, 81, 82, 83, 84, 85, 86, 87, 88, 89, 90, 91, 92, 93, 94, 95, 96, 97, 98, 99, 100, 101, 102, 103, 104, 105, 106, 107, 108, 109, 110, 111, 112, 113, 114, 115, 116, 117, 118, 119, 120, 121, 122, 123, 124, 125, 126, 127, 128, 129, 130, 131, 132, 133, 134, 135, 136, 137, 138, 139, 140, 141, 142, 143, 144, 145, 146, 147, 148, 149, 150, 151, 152, 153, 154, 155, 156, 157, 158, 159, 160, 161, 162, 163, 164, 165, 166, 167, 168, 169, 170, 171, 172, 173, 174, 175, 176, 177, 178, 179, 180, 181, 182, 183, 184, 185, 186, 187, 188, 189, 190, 191, 192, 193, 194, 195, 196, 197, 198, 199, 200, 201, 202, 203, 204, 205, 206, 207, 208, 209, 210, 211, 212, 213, 214, 215, 216, 217, 218, 219, 220, 221, 222, 223, 224, 225, 226, 227, 228, 229, 230, 231, 232, 233, 234, 235, 236, 237, 238, 239, 240, 241, 242, 243, 244, 245, 246, 247, 248, 249, 250, 251, 252, 253, 254, 255, 256, 257, 258, 259, 260, 261, 262, 263, 264, 265, 266, 267, 268, 269, 270, 271, 272, 273, 274, 275, 276, 277, 278, 279, 280, 281, 282, 283, 284, 285, 286, 287, 288, 289, 290, 291, 292, 293, 294, 295, 296, 297, 298, 299, 300, 301, 302, 303, 304, 305, 306, 307, 308, 309, 310, 311, 312, 313, 314, 315, 316, 317, 318, 319, 320, 321, 322, 323, 324, 325, 326, 327, 328, 329, 330, 331, 332, 333, 334, 335, 336, 337, 338, 339, 340, 341, 342, 343, 344, 345, 346, 347, 348, 349, 350, 351], \"y\": [-0.18000000000000005, -0.53, -0.34, -0.8700000000000001, -0.34, -0.6000000000000001, -0.9400000000000001, -0.9400000000000001, -0.6300000000000001, -1.2600000000000002, -1.54, -1.1300000000000001, -1.3199999999999998, -0.8600000000000001, -1.17, -0.9199999999999999, -1.0800000000000003, -1.05, -1.0900000000000003, -0.8099999999999999, -0.2800000000000001, -0.9800000000000001, -0.18000000000000008, -0.14000000000000012, 0.17999999999999994, -0.16000000000000014, 0.5399999999999999, 0.5400000000000001, 0.4900000000000002, 0.48000000000000015, 0.68, 1.55, 1.3800000000000001, 1.4099999999999997, 1.67, 1.7900000000000003, 1.7899999999999998, 2.5300000000000002, 2.62, 2.3500000000000005, 2.35, 2.31, 2.21, 2.14, 2.11, 2.57, 2.6399999999999997, 2.6399999999999997, 2.3299999999999996, 2.3299999999999996, 1.4999999999999996, 0.7299999999999999, 0.15999999999999984, 0.23000000000000015, -0.5400000000000001, -1.0400000000000003, -1.56, -2.05, -1.3199999999999998, -1.1, -0.7299999999999998, -0.41000000000000003, -0.37, -0.43999999999999995, 0.32999999999999996, 0.86, 0.85, 0.57, 0.64, 1.15, 1.5100000000000002, 1.5100000000000002, 1.7900000000000003, 1.5900000000000003, 1.5500000000000003, 0.9400000000000001, 0.95, 0.8500000000000005, 0.85, 0.65, 0.24000000000000005, 0.18000000000000005, 0.43, 0.44000000000000006, 0.020000000000000028, 0.45999999999999996, 0.18, 0.54, -0.36, -0.09000000000000004, -5.551115123125783e-17, -0.22000000000000003, -0.2200000000000001, -0.030000000000000072, 0.25999999999999995, -0.4700000000000001, 0.3299999999999999, 0.35, 0.9799999999999999, 0.9099999999999999, 1.3699999999999999, 2.0, 1.69, 1.7600000000000002, 1.1600000000000001, 1.5399999999999998, 0.9600000000000002, 1.2100000000000002, 0.99, 1.0299999999999998, 0.25999999999999995, 0.26, 0.5800000000000001, 0.05999999999999994, 0.6599999999999999, 1.1099999999999999, 1.1599999999999997, 1.43, 1.1199999999999999, 0.25, 0.8799999999999997, 1.05, 1.0400000000000003, 1.53, 1.7, 1.0, 0.9200000000000002, 0.85, 0.75, 1.0699999999999998, 0.43999999999999995, -0.4, -0.12999999999999998, -0.9400000000000001, -1.81, -1.04, -1.23, -1.9300000000000002, -1.3, -1.56, -1.25, -0.43999999999999995, -0.6400000000000002, 0.1999999999999999, 0.93, 0.9, 1.16, 1.9299999999999997, 2.13, 2.9400000000000004, 3.2600000000000002, 3.0200000000000005, 2.42, 1.9, 2.0000000000000004, 1.4200000000000004, 1.8900000000000001, 1.8200000000000003, 1.8900000000000001, 1.1199999999999999, 0.6799999999999999, 0.6900000000000001, 0.9599999999999997, 0.64, -0.0899999999999999, -0.2800000000000001, -0.48, -1.21, -2.1100000000000003, -1.31, -1.22, -1.1599999999999997, -0.89, -0.8499999999999999, -0.63, -0.44000000000000006, -0.9700000000000001, -0.34, -0.24000000000000007, -1.04, -1.0399999999999998, -1.6799999999999997, -1.95, -1.22, -1.2500000000000002, -1.1800000000000002, -0.3800000000000002, -0.28000000000000014, 0.44999999999999984, 0.76, 1.01, 1.65, 2.01, 2.08, 2.2, 2.16, 2.13, 2.13, 1.59, 2.01, 2.2800000000000002, 2.48, 2.65, 2.58, 3.07, 3.45, 2.9, 2.44, 2.25, 2.32, 2.12, 1.92, 1.0799999999999998, 1.08, 0.9100000000000001, 0.20999999999999996, 0.2699999999999999, 0.5299999999999999, 0.4899999999999999, -0.31, -0.9100000000000001, -1.3199999999999998, -0.55, -1.0, -1.6300000000000001, -1.57, -1.58, -1.7999999999999996, -0.9900000000000002, -0.9900000000000002, -1.03, -1.2600000000000002, -1.4600000000000002, -1.0100000000000002, -1.0100000000000002, -0.6900000000000002, -0.16000000000000006, 0.32999999999999996, 0.29000000000000015, 1.0899999999999999, 1.9300000000000002, 2.7399999999999998, 2.9799999999999995, 2.88, 3.65, 4.1, 3.9, 3.7299999999999995, 3.28, 2.67, 2.09, 1.35, 1.35, 1.2500000000000002, 1.28, 1.35, 0.75, 0.1499999999999999, 0.4099999999999998, 1.02, 0.76, 0.6900000000000001, 0.65, 0.019999999999999928, -0.15000000000000008, -0.68, -0.6799999999999999, -0.07999999999999999, 0.10999999999999996, -0.6900000000000001, -0.05, 0.25999999999999995, -0.47000000000000003, -0.47000000000000003, -1.0699999999999998, -1.07, -0.44000000000000006, -1.0699999999999998, -1.0, -0.73, -0.6000000000000001, -0.8400000000000001, -0.20999999999999996, 0.16999999999999996, 0.9099999999999999, 1.2399999999999998, 1.3399999999999999, 1.8799999999999997, 1.0799999999999998, 1.44, 0.7099999999999997, 1.28, 1.25, 1.51, 0.74, 0.32999999999999985, 0.22999999999999993, 0.48999999999999994, 0.7099999999999999, 0.71, 1.3399999999999999, 1.27, 1.27, 0.6900000000000001, 1.0, 1.03, 0.3600000000000001, -0.54, -0.8000000000000002, -0.66, -0.7499999999999998, -1.38, -1.4399999999999997, -0.67, -1.0199999999999998, -1.34, -1.3, -0.43, -0.12000000000000013, -0.12000000000000002, -0.38999999999999985, 0.51, 0.24000000000000013, -0.21999999999999997, 0.3500000000000001, 1.2200000000000002, 1.18, 0.6799999999999999, 0.9400000000000001, 0.3600000000000001, 0.09000000000000004, -0.71, -0.9800000000000001, -0.9800000000000001, -1.61, -2.38, -1.8, -1.7900000000000003, -2.32, -2.23, -2.23, -1.69, -1.15, -0.6199999999999999, -0.48999999999999994, -0.22000000000000003, -0.8, -0.8100000000000002, -0.54, -0.82, -0.51, -1.09]}, {\"name\": \"window size 15\", \"type\": \"scatter\", \"x\": [0, 1, 2, 3, 4, 5, 6, 7, 8, 9, 10, 11, 12, 13, 14, 15, 16, 17, 18, 19, 20, 21, 22, 23, 24, 25, 26, 27, 28, 29, 30, 31, 32, 33, 34, 35, 36, 37, 38, 39, 40, 41, 42, 43, 44, 45, 46, 47, 48, 49, 50, 51, 52, 53, 54, 55, 56, 57, 58, 59, 60, 61, 62, 63, 64, 65, 66, 67, 68, 69, 70, 71, 72, 73, 74, 75, 76, 77, 78, 79, 80, 81, 82, 83, 84, 85, 86, 87, 88, 89, 90, 91, 92, 93, 94, 95, 96, 97, 98, 99, 100, 101, 102, 103, 104, 105, 106, 107, 108, 109, 110, 111, 112, 113, 114, 115, 116, 117, 118, 119, 120, 121, 122, 123, 124, 125, 126, 127, 128, 129, 130, 131, 132, 133, 134, 135, 136, 137, 138, 139, 140, 141, 142, 143, 144, 145, 146, 147, 148, 149, 150, 151, 152, 153, 154, 155, 156, 157, 158, 159, 160, 161, 162, 163, 164, 165, 166, 167, 168, 169, 170, 171, 172, 173, 174, 175, 176, 177, 178, 179, 180, 181, 182, 183, 184, 185, 186, 187, 188, 189, 190, 191, 192, 193, 194, 195, 196, 197, 198, 199, 200, 201, 202, 203, 204, 205, 206, 207, 208, 209, 210, 211, 212, 213, 214, 215, 216, 217, 218, 219, 220, 221, 222, 223, 224, 225, 226, 227, 228, 229, 230, 231, 232, 233, 234, 235, 236, 237, 238, 239, 240, 241, 242, 243, 244, 245, 246, 247, 248, 249, 250, 251, 252, 253, 254, 255, 256, 257, 258, 259, 260, 261, 262, 263, 264, 265, 266, 267, 268, 269, 270, 271, 272, 273, 274, 275, 276, 277, 278, 279, 280, 281, 282, 283, 284, 285, 286, 287, 288, 289, 290, 291, 292, 293, 294, 295, 296, 297, 298, 299, 300, 301, 302, 303, 304, 305, 306, 307, 308, 309, 310, 311, 312, 313, 314, 315, 316, 317, 318, 319, 320, 321, 322, 323, 324, 325, 326, 327, 328, 329, 330, 331, 332, 333, 334, 335, 336, 337, 338, 339, 340, 341, 342, 343, 344, 345, 346], \"y\": [-0.31333333333333335, -0.5466666666666667, -0.5466666666666667, -0.8733333333333334, -0.8733333333333334, -1.2333333333333334, -1.1866666666666668, -1.1866666666666668, -0.7, -0.9733333333333334, -0.8066666666666665, -0.9133333333333333, -1.0199999999999998, -1.02, -1.1866666666666665, -1.0199999999999998, -1.2133333333333336, -0.6799999999999999, -0.37333333333333335, -0.013333333333333374, 0.11333333333333329, 0.19999999999999993, 0.21999999999999986, -0.12000000000000012, -0.08666666666666674, 0.04666666666666656, 0.5399999999999999, 0.9400000000000001, 1.2933333333333334, 1.6400000000000001, 1.4933333333333334, 2.046666666666667, 2.026666666666667, 1.72, 1.36, 1.7200000000000002, 1.72, 2.0533333333333337, 2.393333333333333, 2.726666666666667, 2.7533333333333334, 2.773333333333334, 2.866666666666667, 2.3333333333333335, 1.8, 1.5266666666666666, 1.0133333333333332, 0.4733333333333332, 0.7999999999999997, 0.7999999999999997, 0.49333333333333307, 0.19333333333333325, 0.026666666666666526, 0.026666666666666748, -0.3400000000000001, -0.6733333333333335, -1.02, -1.5333333333333334, -1.0466666666666666, -0.5333333333333333, 0.06666666666666679, 0.2733333333333333, 0.3, 0.30000000000000004, 0.7866666666666667, 1.0266666666666668, 1.0266666666666668, 1.0266666666666668, 0.8933333333333334, 1.2333333333333336, 1.1800000000000002, 1.1800000000000002, 1.1133333333333335, 1.1600000000000001, 1.0000000000000004, 0.6133333333333334, 0.58, 0.9333333333333337, 0.76, 0.4799999999999999, 0.48000000000000004, 0.2933333333333333, 0.27999999999999986, -0.14, -0.09333333333333335, -0.013333333333333383, -0.2, 0.22, 0.1733333333333333, 0.21999999999999992, 0.006666666666666643, 0.3933333333333333, 0.22666666666666657, 0.21999999999999995, 0.5, 0.5933333333333333, 1.0133333333333332, 0.9866666666666667, 1.5866666666666664, 1.0533333333333335, 1.0333333333333334, 1.18, 1.18, 0.9000000000000001, 1.0133333333333334, 1.0799999999999998, 0.9666666666666669, 1.1400000000000001, 0.9733333333333335, 0.8866666666666666, 0.8599999999999999, 0.6199999999999999, 1.0066666666666666, 0.47333333333333333, 0.4066666666666665, 0.6399999999999999, 1.0266666666666666, 1.0266666666666666, 1.3333333333333333, 1.3333333333333333, 1.353333333333333, 1.06, 1.1866666666666668, 0.9333333333333333, 0.6799999999999999, 0.1933333333333333, -0.013333333333333315, -0.013333333333333286, -0.03999999999999997, -0.04000000000000006, 0.07333333333333333, -0.46, -0.7933333333333332, -0.9533333333333334, -1.4933333333333332, -1.3066666666666664, -0.9199999999999998, -1.0066666666666666, -0.4066666666666665, -0.1333333333333334, 0.37999999999999995, 0.5800000000000001, 0.5799999999999998, 1.0933333333333333, 1.6733333333333333, 1.5599999999999998, 1.9133333333333336, 1.8933333333333333, 1.7266666666666668, 2.24, 2.1599999999999997, 2.1333333333333333, 2.2199999999999998, 2.2199999999999998, 1.8000000000000003, 1.4133333333333336, 1.6, 1.2466666666666666, 0.7333333333333335, 0.21999999999999992, -0.20000000000000004, -0.19999999999999993, -0.20000000000000018, -0.4533333333333333, -0.4066666666666665, -0.3466666666666667, -0.43333333333333335, -0.56, -1.0933333333333333, -0.9466666666666668, -0.9466666666666667, -1.3066666666666664, -1.0666666666666667, -1.0399999999999998, -1.04, -0.8533333333333334, -1.2333333333333334, -1.0533333333333335, -0.5000000000000001, -0.9066666666666666, -0.92, -0.7866666666666665, -0.6599999999999999, -0.1733333333333333, -0.1133333333333335, 0.11333333333333326, 0.5133333333333332, 0.5133333333333332, 1.0466666666666666, 1.2533333333333334, 1.2133333333333334, 1.7533333333333334, 2.06, 1.7, 2.06, 2.42, 2.42, 2.466666666666667, 2.466666666666667, 2.7933333333333326, 2.8400000000000003, 2.586666666666667, 2.3466666666666667, 1.813333333333333, 2.14, 2.3933333333333335, 2.2800000000000002, 1.7666666666666666, 2.126666666666667, 2.06, 1.4600000000000002, 1.1133333333333333, 0.9333333333333333, 0.42000000000000015, -0.11333333333333326, -0.5133333333333333, -0.5333333333333333, -0.22666666666666674, -0.04000000000000011, -0.5733333333333334, -1.0000000000000002, -1.2199999999999998, -0.9866666666666668, -0.9599999999999999, -1.38, -1.3399999999999999, -1.5533333333333332, -1.553333333333333, -1.0399999999999998, -1.04, -0.8533333333333334, -0.4466666666666666, -0.4, -0.10000000000000006, 0.4333333333333333, 0.9933333333333333, 1.3266666666666667, 1.6333333333333333, 1.54, 2.0533333333333332, 2.566666666666667, 2.993333333333333, 3.0599999999999996, 2.7599999999999993, 2.886666666666666, 2.8466666666666662, 2.333333333333333, 2.313333333333333, 2.1799999999999997, 2.18, 2.18, 1.6666666666666667, 1.1733333333333333, 1.1133333333333333, 1.1333333333333333, 0.6199999999999999, 0.19333333333333327, 0.2599999999999999, 0.006666666666666525, 0.29999999999999993, 0.3333333333333333, 0.3133333333333333, 0.22, 0.3533333333333333, -0.18000000000000008, -0.3133333333333334, -0.13333333333333333, -0.15333333333333332, -0.58, -1.0933333333333333, -0.8866666666666667, -0.44000000000000017, -0.9266666666666665, -0.3266666666666668, -0.5666666666666667, -0.2600000000000001, -0.24000000000000005, -0.23999999999999996, -0.5400000000000001, -0.02666666666666669, -0.026666666666666748, 0.27999999999999997, 0.64, 0.7066666666666667, 1.1066666666666665, 0.9266666666666665, 0.9066666666666665, 1.3066666666666664, 1.133333333333333, 0.9533333333333331, 0.5933333333333333, 0.9933333333333333, 1.1066666666666667, 1.0666666666666667, 0.9733333333333334, 0.9933333333333333, 0.8599999999999999, 0.9, 0.8733333333333333, 0.6599999999999999, 0.8066666666666665, 0.37999999999999984, -0.08666666666666674, -0.47333333333333333, 0.039999999999999945, 0.2733333333333334, -0.21333333333333326, -0.3866666666666667, -0.046666666666666794, -0.49333333333333335, -0.9799999999999999, -1.3333333333333333, -1.22, -1.0133333333333334, -0.7066666666666666, -0.6733333333333335, -0.11333333333333341, 0.1333333333333334, 0.33999999999999997, 0.18000000000000002, 0.3333333333333334, 0.3733333333333333, 0.1933333333333334, 0.06000000000000005, 0.21333333333333337, 0.2800000000000002, 0.27999999999999997, -0.23333333333333334, -0.23333333333333328, -0.8133333333333332, -0.9933333333333333, -1.1666666666666667, -1.1600000000000001, -1.34, -1.5066666666666668, -2.02, -1.6333333333333333, -1.4533333333333336, -1.2733333333333334, -1.3800000000000001, -1.2000000000000002, -1.2266666666666666, -1.0466666666666666, -1.0466666666666666, -0.9800000000000001, -0.7733333333333333, -1.1600000000000001]}],                        {\"template\": {\"data\": {\"bar\": [{\"error_x\": {\"color\": \"#2a3f5f\"}, \"error_y\": {\"color\": \"#2a3f5f\"}, \"marker\": {\"line\": {\"color\": \"#E5ECF6\", \"width\": 0.5}}, \"type\": \"bar\"}], \"barpolar\": [{\"marker\": {\"line\": {\"color\": \"#E5ECF6\", \"width\": 0.5}}, \"type\": \"barpolar\"}], \"carpet\": [{\"aaxis\": {\"endlinecolor\": \"#2a3f5f\", \"gridcolor\": \"white\", \"linecolor\": \"white\", \"minorgridcolor\": \"white\", \"startlinecolor\": \"#2a3f5f\"}, \"baxis\": {\"endlinecolor\": \"#2a3f5f\", \"gridcolor\": \"white\", \"linecolor\": \"white\", \"minorgridcolor\": \"white\", \"startlinecolor\": \"#2a3f5f\"}, \"type\": \"carpet\"}], \"choropleth\": [{\"colorbar\": {\"outlinewidth\": 0, \"ticks\": \"\"}, \"type\": \"choropleth\"}], \"contour\": [{\"colorbar\": {\"outlinewidth\": 0, \"ticks\": \"\"}, \"colorscale\": [[0.0, \"#0d0887\"], [0.1111111111111111, \"#46039f\"], [0.2222222222222222, \"#7201a8\"], [0.3333333333333333, \"#9c179e\"], [0.4444444444444444, \"#bd3786\"], [0.5555555555555556, \"#d8576b\"], [0.6666666666666666, \"#ed7953\"], [0.7777777777777778, \"#fb9f3a\"], [0.8888888888888888, \"#fdca26\"], [1.0, \"#f0f921\"]], \"type\": \"contour\"}], \"contourcarpet\": [{\"colorbar\": {\"outlinewidth\": 0, \"ticks\": \"\"}, \"type\": \"contourcarpet\"}], \"heatmap\": [{\"colorbar\": {\"outlinewidth\": 0, \"ticks\": \"\"}, \"colorscale\": [[0.0, \"#0d0887\"], [0.1111111111111111, \"#46039f\"], [0.2222222222222222, \"#7201a8\"], [0.3333333333333333, \"#9c179e\"], [0.4444444444444444, \"#bd3786\"], [0.5555555555555556, \"#d8576b\"], [0.6666666666666666, \"#ed7953\"], [0.7777777777777778, \"#fb9f3a\"], [0.8888888888888888, \"#fdca26\"], [1.0, \"#f0f921\"]], \"type\": \"heatmap\"}], \"heatmapgl\": [{\"colorbar\": {\"outlinewidth\": 0, \"ticks\": \"\"}, \"colorscale\": [[0.0, \"#0d0887\"], [0.1111111111111111, \"#46039f\"], [0.2222222222222222, \"#7201a8\"], [0.3333333333333333, \"#9c179e\"], [0.4444444444444444, \"#bd3786\"], [0.5555555555555556, \"#d8576b\"], [0.6666666666666666, \"#ed7953\"], [0.7777777777777778, \"#fb9f3a\"], [0.8888888888888888, \"#fdca26\"], [1.0, \"#f0f921\"]], \"type\": \"heatmapgl\"}], \"histogram\": [{\"marker\": {\"colorbar\": {\"outlinewidth\": 0, \"ticks\": \"\"}}, \"type\": \"histogram\"}], \"histogram2d\": [{\"colorbar\": {\"outlinewidth\": 0, \"ticks\": \"\"}, \"colorscale\": [[0.0, \"#0d0887\"], [0.1111111111111111, \"#46039f\"], [0.2222222222222222, \"#7201a8\"], [0.3333333333333333, \"#9c179e\"], [0.4444444444444444, \"#bd3786\"], [0.5555555555555556, \"#d8576b\"], [0.6666666666666666, \"#ed7953\"], [0.7777777777777778, \"#fb9f3a\"], [0.8888888888888888, \"#fdca26\"], [1.0, \"#f0f921\"]], \"type\": \"histogram2d\"}], \"histogram2dcontour\": [{\"colorbar\": {\"outlinewidth\": 0, \"ticks\": \"\"}, \"colorscale\": [[0.0, \"#0d0887\"], [0.1111111111111111, \"#46039f\"], [0.2222222222222222, \"#7201a8\"], [0.3333333333333333, \"#9c179e\"], [0.4444444444444444, \"#bd3786\"], [0.5555555555555556, \"#d8576b\"], [0.6666666666666666, \"#ed7953\"], [0.7777777777777778, \"#fb9f3a\"], [0.8888888888888888, \"#fdca26\"], [1.0, \"#f0f921\"]], \"type\": \"histogram2dcontour\"}], \"mesh3d\": [{\"colorbar\": {\"outlinewidth\": 0, \"ticks\": \"\"}, \"type\": \"mesh3d\"}], \"parcoords\": [{\"line\": {\"colorbar\": {\"outlinewidth\": 0, \"ticks\": \"\"}}, \"type\": \"parcoords\"}], \"pie\": [{\"automargin\": true, \"type\": \"pie\"}], \"scatter\": [{\"marker\": {\"colorbar\": {\"outlinewidth\": 0, \"ticks\": \"\"}}, \"type\": \"scatter\"}], \"scatter3d\": [{\"line\": {\"colorbar\": {\"outlinewidth\": 0, \"ticks\": \"\"}}, \"marker\": {\"colorbar\": {\"outlinewidth\": 0, \"ticks\": \"\"}}, \"type\": \"scatter3d\"}], \"scattercarpet\": [{\"marker\": {\"colorbar\": {\"outlinewidth\": 0, \"ticks\": \"\"}}, \"type\": \"scattercarpet\"}], \"scattergeo\": [{\"marker\": {\"colorbar\": {\"outlinewidth\": 0, \"ticks\": \"\"}}, \"type\": \"scattergeo\"}], \"scattergl\": [{\"marker\": {\"colorbar\": {\"outlinewidth\": 0, \"ticks\": \"\"}}, \"type\": \"scattergl\"}], \"scattermapbox\": [{\"marker\": {\"colorbar\": {\"outlinewidth\": 0, \"ticks\": \"\"}}, \"type\": \"scattermapbox\"}], \"scatterpolar\": [{\"marker\": {\"colorbar\": {\"outlinewidth\": 0, \"ticks\": \"\"}}, \"type\": \"scatterpolar\"}], \"scatterpolargl\": [{\"marker\": {\"colorbar\": {\"outlinewidth\": 0, \"ticks\": \"\"}}, \"type\": \"scatterpolargl\"}], \"scatterternary\": [{\"marker\": {\"colorbar\": {\"outlinewidth\": 0, \"ticks\": \"\"}}, \"type\": \"scatterternary\"}], \"surface\": [{\"colorbar\": {\"outlinewidth\": 0, \"ticks\": \"\"}, \"colorscale\": [[0.0, \"#0d0887\"], [0.1111111111111111, \"#46039f\"], [0.2222222222222222, \"#7201a8\"], [0.3333333333333333, \"#9c179e\"], [0.4444444444444444, \"#bd3786\"], [0.5555555555555556, \"#d8576b\"], [0.6666666666666666, \"#ed7953\"], [0.7777777777777778, \"#fb9f3a\"], [0.8888888888888888, \"#fdca26\"], [1.0, \"#f0f921\"]], \"type\": \"surface\"}], \"table\": [{\"cells\": {\"fill\": {\"color\": \"#EBF0F8\"}, \"line\": {\"color\": \"white\"}}, \"header\": {\"fill\": {\"color\": \"#C8D4E3\"}, \"line\": {\"color\": \"white\"}}, \"type\": \"table\"}]}, \"layout\": {\"annotationdefaults\": {\"arrowcolor\": \"#2a3f5f\", \"arrowhead\": 0, \"arrowwidth\": 1}, \"autotypenumbers\": \"strict\", \"coloraxis\": {\"colorbar\": {\"outlinewidth\": 0, \"ticks\": \"\"}}, \"colorscale\": {\"diverging\": [[0, \"#8e0152\"], [0.1, \"#c51b7d\"], [0.2, \"#de77ae\"], [0.3, \"#f1b6da\"], [0.4, \"#fde0ef\"], [0.5, \"#f7f7f7\"], [0.6, \"#e6f5d0\"], [0.7, \"#b8e186\"], [0.8, \"#7fbc41\"], [0.9, \"#4d9221\"], [1, \"#276419\"]], \"sequential\": [[0.0, \"#0d0887\"], [0.1111111111111111, \"#46039f\"], [0.2222222222222222, \"#7201a8\"], [0.3333333333333333, \"#9c179e\"], [0.4444444444444444, \"#bd3786\"], [0.5555555555555556, \"#d8576b\"], [0.6666666666666666, \"#ed7953\"], [0.7777777777777778, \"#fb9f3a\"], [0.8888888888888888, \"#fdca26\"], [1.0, \"#f0f921\"]], \"sequentialminus\": [[0.0, \"#0d0887\"], [0.1111111111111111, \"#46039f\"], [0.2222222222222222, \"#7201a8\"], [0.3333333333333333, \"#9c179e\"], [0.4444444444444444, \"#bd3786\"], [0.5555555555555556, \"#d8576b\"], [0.6666666666666666, \"#ed7953\"], [0.7777777777777778, \"#fb9f3a\"], [0.8888888888888888, \"#fdca26\"], [1.0, \"#f0f921\"]]}, \"colorway\": [\"#636efa\", \"#EF553B\", \"#00cc96\", \"#ab63fa\", \"#FFA15A\", \"#19d3f3\", \"#FF6692\", \"#B6E880\", \"#FF97FF\", \"#FECB52\"], \"font\": {\"color\": \"#2a3f5f\"}, \"geo\": {\"bgcolor\": \"white\", \"lakecolor\": \"white\", \"landcolor\": \"#E5ECF6\", \"showlakes\": true, \"showland\": true, \"subunitcolor\": \"white\"}, \"hoverlabel\": {\"align\": \"left\"}, \"hovermode\": \"closest\", \"mapbox\": {\"style\": \"light\"}, \"paper_bgcolor\": \"white\", \"plot_bgcolor\": \"#E5ECF6\", \"polar\": {\"angularaxis\": {\"gridcolor\": \"white\", \"linecolor\": \"white\", \"ticks\": \"\"}, \"bgcolor\": \"#E5ECF6\", \"radialaxis\": {\"gridcolor\": \"white\", \"linecolor\": \"white\", \"ticks\": \"\"}}, \"scene\": {\"xaxis\": {\"backgroundcolor\": \"#E5ECF6\", \"gridcolor\": \"white\", \"gridwidth\": 2, \"linecolor\": \"white\", \"showbackground\": true, \"ticks\": \"\", \"zerolinecolor\": \"white\"}, \"yaxis\": {\"backgroundcolor\": \"#E5ECF6\", \"gridcolor\": \"white\", \"gridwidth\": 2, \"linecolor\": \"white\", \"showbackground\": true, \"ticks\": \"\", \"zerolinecolor\": \"white\"}, \"zaxis\": {\"backgroundcolor\": \"#E5ECF6\", \"gridcolor\": \"white\", \"gridwidth\": 2, \"linecolor\": \"white\", \"showbackground\": true, \"ticks\": \"\", \"zerolinecolor\": \"white\"}}, \"shapedefaults\": {\"line\": {\"color\": \"#2a3f5f\"}}, \"ternary\": {\"aaxis\": {\"gridcolor\": \"white\", \"linecolor\": \"white\", \"ticks\": \"\"}, \"baxis\": {\"gridcolor\": \"white\", \"linecolor\": \"white\", \"ticks\": \"\"}, \"bgcolor\": \"#E5ECF6\", \"caxis\": {\"gridcolor\": \"white\", \"linecolor\": \"white\", \"ticks\": \"\"}}, \"title\": {\"x\": 0.05}, \"xaxis\": {\"automargin\": true, \"gridcolor\": \"white\", \"linecolor\": \"white\", \"ticks\": \"\", \"title\": {\"standoff\": 15}, \"zerolinecolor\": \"white\", \"zerolinewidth\": 2}, \"yaxis\": {\"automargin\": true, \"gridcolor\": \"white\", \"linecolor\": \"white\", \"ticks\": \"\", \"title\": {\"standoff\": 15}, \"zerolinecolor\": \"white\", \"zerolinewidth\": 2}}}, \"title\": {\"text\": \"Human G-protein coupled receptor 183\"}, \"xaxis\": {\"title\": {\"text\": \"Postion\"}}, \"yaxis\": {\"title\": {\"text\": \"Hydropathy\"}}},                        {\"responsive\": true}                    ).then(function(){\n",
       "                            \n",
       "var gd = document.getElementById('8d272c4e-d671-4cb0-92d0-1fcaa13ec3fa');\n",
       "var x = new MutationObserver(function (mutations, observer) {{\n",
       "        var display = window.getComputedStyle(gd).display;\n",
       "        if (!display || display === 'none') {{\n",
       "            console.log([gd, 'removed!']);\n",
       "            Plotly.purge(gd);\n",
       "            observer.disconnect();\n",
       "        }}\n",
       "}});\n",
       "\n",
       "// Listen for the removal of the full notebook cells\n",
       "var notebookContainer = gd.closest('#notebook-container');\n",
       "if (notebookContainer) {{\n",
       "    x.observe(notebookContainer, {childList: true});\n",
       "}}\n",
       "\n",
       "// Listen for the clearing of the current output cell\n",
       "var outputEl = gd.closest('.output');\n",
       "if (outputEl) {{\n",
       "    x.observe(outputEl, {childList: true});\n",
       "}}\n",
       "\n",
       "                        })                };                });            </script>        </div>"
      ]
     },
     "metadata": {},
     "output_type": "display_data"
    }
   ],
   "source": [
    "data = [\n",
    "    go.Scatter(x=list(range(0,len(hydropathy_5))),\n",
    "               y=hydropathy_5,\n",
    "               name='window size 5'\n",
    "    ),\n",
    "   go.Scatter(x=list(range(0,len(hydropathy_10))),\n",
    "               y=hydropathy_10,\n",
    "               name='window size 10'\n",
    "    ),\n",
    "    go.Scatter(x=list(range(0,len(hydropathy_15))),\n",
    "               y=hydropathy_15,\n",
    "               name='window size 15'\n",
    "    )\n",
    "]\n",
    "\n",
    "layout = {\n",
    "    'title': {\n",
    "        'text':'Human G-protein coupled receptor 183'\n",
    "    },\n",
    "    'yaxis':{\n",
    "        'title': 'Hydropathy'\n",
    "    },\n",
    "    'xaxis':{\n",
    "        'title': 'Postion'\n",
    "    }\n",
    "}\n",
    "\n",
    "fig = go.Figure(data=data, layout=layout)\n",
    "fig.show()"
   ]
  }
 ],
 "metadata": {
  "kernelspec": {
   "display_name": "Python 3",
   "language": "python",
   "name": "python3"
  },
  "language_info": {
   "codemirror_mode": {
    "name": "ipython",
    "version": 3
   },
   "file_extension": ".py",
   "mimetype": "text/x-python",
   "name": "python",
   "nbconvert_exporter": "python",
   "pygments_lexer": "ipython3",
   "version": "3.7.4"
  }
 },
 "nbformat": 4,
 "nbformat_minor": 1
}
